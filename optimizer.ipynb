{
 "cells": [
  {
   "cell_type": "code",
   "execution_count": 3,
   "metadata": {},
   "outputs": [
    {
     "name": "stderr",
     "output_type": "stream",
     "text": [
      "\u001b[32m\u001b[1m   Resolving\u001b[22m\u001b[39m package versions...\n",
      "\u001b[32m\u001b[1m  No Changes\u001b[22m\u001b[39m to `~/.julia/environments/v1.10/Project.toml`\n",
      "\u001b[32m\u001b[1m  No Changes\u001b[22m\u001b[39m to `~/.julia/environments/v1.10/Manifest.toml`\n",
      "\u001b[32m\u001b[1m   Resolving\u001b[22m\u001b[39m package versions...\n",
      "\u001b[32m\u001b[1m  No Changes\u001b[22m\u001b[39m to `~/.julia/environments/v1.10/Project.toml`\n",
      "\u001b[32m\u001b[1m  No Changes\u001b[22m\u001b[39m to `~/.julia/environments/v1.10/Manifest.toml`\n"
     ]
    }
   ],
   "source": [
    "import Pkg; Pkg.add(\"Tables\")\n",
    "using CSV, Tables\n",
    "using JuMP\n",
    "using Gurobi\n",
    "\n",
    "import Pkg; Pkg.add(\"JSON3\")\n",
    "using JSON3"
   ]
  },
  {
   "cell_type": "code",
   "execution_count": 4,
   "metadata": {},
   "outputs": [
    {
     "name": "stdout",
     "output_type": "stream",
     "text": [
      "Set parameter Username\n",
      "Academic license - for non-commercial use only - expires 2025-09-08\n"
     ]
    }
   ],
   "source": [
    "const GRB_ENV = Gurobi.Env(output_flag=1);"
   ]
  },
  {
   "cell_type": "markdown",
   "metadata": {},
   "source": [
    "#### Load in Data"
   ]
  },
  {
   "cell_type": "code",
   "execution_count": 5,
   "metadata": {},
   "outputs": [],
   "source": [
    "all_classes = open(\"data/all_classes_info.json\", \"r\") do file \n",
    "    JSON3.read(file)\n",
    "end\n",
    "\n",
    "R = CSV.File(\"data/ratings.csv\",header=0) |> Tables.matrix;\n",
    "H = CSV.File(\"data/hours.csv\",header=0) |> Tables.matrix;\n",
    "U = CSV.File(\"data/units.csv\",header=0) |> Tables.matrix;\n",
    "\n",
    "vars = CSV.File(\"data/variables.csv\",header=0) |> Tables.matrix;\n",
    "n = vars[1];\n",
    "S = vars[2];"
   ]
  },
  {
   "cell_type": "code",
   "execution_count": 5,
   "metadata": {},
   "outputs": [
    {
     "data": {
      "text/plain": [
       "JSON3.Object{Base.CodeUnits{UInt8, String}, SubArray{UInt64, 1, Vector{UInt64}, Tuple{UnitRange{Int64}}, true}} with 28 entries:\n",
       "  :rating             => 6\n",
       "  :has_final          => false\n",
       "  :description        => \"Covers advanced topics in Materials Science and Engin…\n",
       "  :offered_fall       => true\n",
       "  :offered_spring     => false\n",
       "  :in_class_hours     => 2.5\n",
       "  :schedule           => \"Lecture,VIRTUAL/T/0/3-5\"\n",
       "  :out_of_class_hours => 4\n",
       "  :total_units        => 0\n",
       "  :enrollment_number  => 5\n",
       "  :is_historical      => true\n",
       "  :pdf_option         => false\n",
       "  :lab_units          => 0\n",
       "  :is_half_class      => false\n",
       "  :level              => \"G\"\n",
       "  :prerequisites      => \"''Permission of instructor''\"\n",
       "  :subject_id         => \"3.S73\"\n",
       "  :title              => \"Special Subject in Materials Science and Engineering\"\n",
       "  :virtual_status     => \"Virtual\"\n",
       "  :design_units       => 0\n",
       "  :public             => true\n",
       "  :offered_summer     => false\n",
       "  :lecture_units      => 0\n",
       "  :preparation_units  => 0\n",
       "  :source_semester    => \"spring-2021\"\n",
       "  ⋮                   => ⋮"
      ]
     },
     "execution_count": 5,
     "metadata": {},
     "output_type": "execute_result"
    }
   ],
   "source": [
    "random_class = all_classes[rand(1:length(all_classes))]"
   ]
  },
  {
   "cell_type": "code",
   "execution_count": 6,
   "metadata": {},
   "outputs": [
    {
     "data": {
      "text/plain": [
       "Dict{Int64, String} with 4704 entries:\n",
       "  4700 => \"WGS.301\"\n",
       "  4576 => \"STS.022\"\n",
       "  2288 => \"21G.905\"\n",
       "  1703 => \"18.C20\"\n",
       "  1956 => \"20.101\"\n",
       "  2350 => \"21H.226\"\n",
       "  3406 => \"6.2060\"\n",
       "  2841 => \"24.234\"\n",
       "  2876 => \"24.906\"\n",
       "  687  => \"12.751\"\n",
       "  185  => \"1.THG\"\n",
       "  1090 => \"15.518\"\n",
       "  2015 => \"20.560\"\n",
       "  3293 => \"5.00\"\n",
       "  1704 => \"18.S096\"\n",
       "  3220 => \"4.608\"\n",
       "  422  => \"11.353\"\n",
       "  1266 => \"16.004\"\n",
       "  183  => \"1.S992\"\n",
       "  1823 => \"2.670\"\n",
       "  4030 => \"9.77\"\n",
       "  551  => \"12.005\"\n",
       "  3324 => \"5.39\"\n",
       "  2119 => \"21G.056\"\n",
       "  3298 => \"5.062\"\n",
       "  ⋮    => ⋮"
      ]
     },
     "execution_count": 6,
     "metadata": {},
     "output_type": "execute_result"
    }
   ],
   "source": [
    "subjectid_to_index = Dict(class[:subject_id] => ind for (ind, class) in enumerate(all_classes))\n",
    "index_to_subjectid = Dict(ind => class[:subject_id] for (ind, class) in enumerate(all_classes))"
   ]
  },
  {
   "cell_type": "markdown",
   "metadata": {},
   "source": [
    "#### Defining the Basic Optimization Problem"
   ]
  },
  {
   "cell_type": "code",
   "execution_count": 7,
   "metadata": {},
   "outputs": [
    {
     "data": {
      "text/plain": [
       "A JuMP Model\n",
       "├ solver: Gurobi\n",
       "├ objective_sense: FEASIBILITY_SENSE\n",
       "├ num_variables: 0\n",
       "├ num_constraints: 0\n",
       "└ Names registered in the model: none"
      ]
     },
     "execution_count": 7,
     "metadata": {},
     "output_type": "execute_result"
    }
   ],
   "source": [
    "function create_model(env) \n",
    "    return  Model(() -> Gurobi.Optimizer(env))\n",
    "end\n",
    "model1 = create_model(GRB_ENV)"
   ]
  },
  {
   "cell_type": "code",
   "execution_count": 8,
   "metadata": {},
   "outputs": [
    {
     "data": {
      "text/plain": [
       "4704×8 Matrix{VariableRef}:\n",
       " _[1]     _[4705]  _[9409]   _[14113]  _[18817]  _[23521]  _[28225]  _[32929]\n",
       " _[2]     _[4706]  _[9410]   _[14114]  _[18818]  _[23522]  _[28226]  _[32930]\n",
       " _[3]     _[4707]  _[9411]   _[14115]  _[18819]  _[23523]  _[28227]  _[32931]\n",
       " _[4]     _[4708]  _[9412]   _[14116]  _[18820]  _[23524]  _[28228]  _[32932]\n",
       " _[5]     _[4709]  _[9413]   _[14117]  _[18821]  _[23525]  _[28229]  _[32933]\n",
       " _[6]     _[4710]  _[9414]   _[14118]  _[18822]  _[23526]  _[28230]  _[32934]\n",
       " _[7]     _[4711]  _[9415]   _[14119]  _[18823]  _[23527]  _[28231]  _[32935]\n",
       " _[8]     _[4712]  _[9416]   _[14120]  _[18824]  _[23528]  _[28232]  _[32936]\n",
       " _[9]     _[4713]  _[9417]   _[14121]  _[18825]  _[23529]  _[28233]  _[32937]\n",
       " _[10]    _[4714]  _[9418]   _[14122]  _[18826]  _[23530]  _[28234]  _[32938]\n",
       " _[11]    _[4715]  _[9419]   _[14123]  _[18827]  _[23531]  _[28235]  _[32939]\n",
       " _[12]    _[4716]  _[9420]   _[14124]  _[18828]  _[23532]  _[28236]  _[32940]\n",
       " _[13]    _[4717]  _[9421]   _[14125]  _[18829]  _[23533]  _[28237]  _[32941]\n",
       " ⋮                                               ⋮                   \n",
       " _[4693]  _[9397]  _[14101]  _[18805]  _[23509]  _[28213]  _[32917]  _[37621]\n",
       " _[4694]  _[9398]  _[14102]  _[18806]  _[23510]  _[28214]  _[32918]  _[37622]\n",
       " _[4695]  _[9399]  _[14103]  _[18807]  _[23511]  _[28215]  _[32919]  _[37623]\n",
       " _[4696]  _[9400]  _[14104]  _[18808]  _[23512]  _[28216]  _[32920]  _[37624]\n",
       " _[4697]  _[9401]  _[14105]  _[18809]  _[23513]  _[28217]  _[32921]  _[37625]\n",
       " _[4698]  _[9402]  _[14106]  _[18810]  _[23514]  _[28218]  _[32922]  _[37626]\n",
       " _[4699]  _[9403]  _[14107]  _[18811]  _[23515]  _[28219]  _[32923]  _[37627]\n",
       " _[4700]  _[9404]  _[14108]  _[18812]  _[23516]  _[28220]  _[32924]  _[37628]\n",
       " _[4701]  _[9405]  _[14109]  _[18813]  _[23517]  _[28221]  _[32925]  _[37629]\n",
       " _[4702]  _[9406]  _[14110]  _[18814]  _[23518]  _[28222]  _[32926]  _[37630]\n",
       " _[4703]  _[9407]  _[14111]  _[18815]  _[23519]  _[28223]  _[32927]  _[37631]\n",
       " _[4704]  _[9408]  _[14112]  _[18816]  _[23520]  _[28224]  _[32928]  _[37632]"
      ]
     },
     "execution_count": 8,
     "metadata": {},
     "output_type": "execute_result"
    }
   ],
   "source": [
    "function add_course_semester_variables!(model::JuMP.Model)\n",
    "    @variable(model, [1:n, 1:S], Bin)\n",
    "end\n",
    "model_var = add_course_semester_variables!(model1)"
   ]
  },
  {
   "cell_type": "code",
   "execution_count": 46,
   "metadata": {},
   "outputs": [
    {
     "data": {
      "text/latex": [
       "$ 18.689999999999998 {\\_}_{1} + 26.431651480753146 {\\_}_{4705} + 32.37202959346231 {\\_}_{9409} + 37.379999999999995 {\\_}_{14113} + 41.792110499471065 {\\_}_{18817} + 45.78096329261759 {\\_}_{23521} + 49.4490920037972 {\\_}_{28225} + 52.86330296150629 {\\_}_{32929} + 15.68 {\\_}_{2} + 22.17486865801013 {\\_}_{4706} + 27.158556662679995 {\\_}_{9410} + 31.36 {\\_}_{14114} + 35.0615458871967 {\\_}_{18818} + 38.40799916684023 {\\_}_{23522} + 41.48538055749278 {\\_}_{28226} + 44.34973731602026 {\\_}_{32930} + 18.689999999999998 {\\_}_{3} + 26.431651480753146 {\\_}_{4707} + 32.37202959346231 {\\_}_{9411} + 37.379999999999995 {\\_}_{14115} + 41.792110499471065 {\\_}_{18819} + 45.78096329261759 {\\_}_{23523} + 49.4490920037972 {\\_}_{28227} + 52.86330296150629 {\\_}_{32931} + 11 {\\_}_{4} + 15.556349186104047 {\\_}_{4708} + 19.05255888325765 {\\_}_{9412} + 22 {\\_}_{14116} + 24.596747752497688 {\\_}_{18820} + 26.944387170614956 {\\_}_{23524} + [[\\ldots\\text{37572 terms omitted}\\ldots]] + 23.209480821422954 {\\_}_{14109} + 26.8 {\\_}_{18813} + 29.963310898497184 {\\_}_{23517} + 32.82316255329459 {\\_}_{28221} + 35.45306756826552 {\\_}_{32925} + 37.90092347159895 {\\_}_{37629} + 13.6 {\\_}_{4702} + 19.233304448274094 {\\_}_{9406} + 23.55589098293673 {\\_}_{14110} + 27.2 {\\_}_{18814} + 30.41052449399714 {\\_}_{23518} + 33.31306050185122 {\\_}_{28222} + 35.98221783047843 {\\_}_{32926} + 38.46660889654819 {\\_}_{37630} + 13.6 {\\_}_{4703} + 19.233304448274094 {\\_}_{9407} + 23.55589098293673 {\\_}_{14111} + 27.2 {\\_}_{18815} + 30.41052449399714 {\\_}_{23519} + 33.31306050185122 {\\_}_{28223} + 35.98221783047843 {\\_}_{32927} + 38.46660889654819 {\\_}_{37631} + 13.5 {\\_}_{4704} + 19.091883092036785 {\\_}_{9408} + 23.38268590217984 {\\_}_{14112} + 27 {\\_}_{18816} + 30.186917696247164 {\\_}_{23520} + 33.0681115275729 {\\_}_{28224} + 35.71764269937197 {\\_}_{32928} + 38.18376618407357 {\\_}_{37632} $"
      ],
      "text/plain": [
       "18.689999999999998 _[1] + 26.431651480753146 _[4705] + 32.37202959346231 _[9409] + 37.379999999999995 _[14113] + 41.792110499471065 _[18817] + 45.78096329261759 _[23521] + 49.4490920037972 _[28225] + 52.86330296150629 _[32929] + 15.68 _[2] + 22.17486865801013 _[4706] + 27.158556662679995 _[9410] + 31.36 _[14114] + 35.0615458871967 _[18818] + 38.40799916684023 _[23522] + 41.48538055749278 _[28226] + 44.34973731602026 _[32930] + 18.689999999999998 _[3] + 26.431651480753146 _[4707] + 32.37202959346231 _[9411] + 37.379999999999995 _[14115] + 41.792110499471065 _[18819] + 45.78096329261759 _[23523] + 49.4490920037972 _[28227] + 52.86330296150629 _[32931] + 11 _[4] + 15.556349186104047 _[4708] + 19.05255888325765 _[9412] + 22 _[14116] + 24.596747752497688 _[18820] + 26.944387170614956 _[23524] + [[...37572 terms omitted...]] + 23.209480821422954 _[14109] + 26.8 _[18813] + 29.963310898497184 _[23517] + 32.82316255329459 _[28221] + 35.45306756826552 _[32925] + 37.90092347159895 _[37629] + 13.6 _[4702] + 19.233304448274094 _[9406] + 23.55589098293673 _[14110] + 27.2 _[18814] + 30.41052449399714 _[23518] + 33.31306050185122 _[28222] + 35.98221783047843 _[32926] + 38.46660889654819 _[37630] + 13.6 _[4703] + 19.233304448274094 _[9407] + 23.55589098293673 _[14111] + 27.2 _[18815] + 30.41052449399714 _[23519] + 33.31306050185122 _[28223] + 35.98221783047843 _[32927] + 38.46660889654819 _[37631] + 13.5 _[4704] + 19.091883092036785 _[9408] + 23.38268590217984 _[14112] + 27 _[18816] + 30.186917696247164 _[23520] + 33.0681115275729 _[28224] + 35.71764269937197 _[32928] + 38.18376618407357 _[37632]"
      ]
     },
     "execution_count": 46,
     "metadata": {},
     "output_type": "execute_result"
    }
   ],
   "source": [
    "function set_objective_func(model, dVar, α= .8)\n",
    "    @objective(model, Min, sum( sqrt(s)*(α*H[i]*dVar[i,s] - (1-α)*R[i]*dVar[i,s] + 5*dVar[i,s])  for i=1:n,s=1:S));\n",
    "    # @objective(model, Min, sum( sqrt(s)*(α*H[i]*dVar[i,s] - (1-α)*R[i]*U[i]*dVar[i,s])  for i=1:n,s=1:S));\n",
    "end\n",
    "set_objective_func(model1, model_var, 1)"
   ]
  },
  {
   "cell_type": "code",
   "execution_count": 10,
   "metadata": {},
   "outputs": [
    {
     "data": {
      "text/plain": [
       "1-dimensional DenseAxisArray{ConstraintRef{Model, MathOptInterface.ConstraintIndex{MathOptInterface.ScalarAffineFunction{Float64}, MathOptInterface.GreaterThan{Float64}}, ScalarShape},1,...} with index sets:\n",
       "    Dimension 1, [\"HASS-H\", \"HASS-A\", \"HASS-S\"]\n",
       "And data, a 3-element Vector{ConstraintRef{Model, MathOptInterface.ConstraintIndex{MathOptInterface.ScalarAffineFunction{Float64}, MathOptInterface.GreaterThan{Float64}}, ScalarShape}}:\n",
       " _[194] + _[300] + _[308] + _[309] + _[310] + _[311] + _[315] + _[329] + _[335] + _[343] + _[344] + _[346] + _[348] + _[1398] + _[1399] + _[1400] + _[1403] + _[1404] + _[1406] + _[2039] + _[2040] + _[2043] + _[2092] + _[2095] + _[2096] + _[2100] + _[2102] + _[2103] + _[2104] + _[2105] + [[...3844 terms omitted...]] + _[37526] + _[37535] + _[37538] + _[37542] + _[37543] + _[37584] + _[37585] + _[37586] + _[37587] + _[37588] + _[37591] + _[37592] + _[37593] + _[37596] + _[37599] + _[37601] + _[37604] + _[37609] + _[37612] + _[37613] + _[37614] + _[37615] + _[37616] + _[37617] + _[37618] + _[37619] + _[37621] + _[37628] + _[37629] + _[37631] ≥ 1\n",
       " _[2078] + _[2083] + _[2114] + _[2137] + _[2138] + _[2149] + _[2177] + _[2207] + _[2214] + _[2233] + _[2234] + _[2279] + _[2325] + _[2383] + _[2420] + _[2426] + _[2437] + _[2458] + _[2472] + _[2475] + _[2478] + _[2482] + _[2513] + _[2515] + _[2516] + _[2517] + _[2518] + _[2519] + _[2520] + _[2521] + [[...1756 terms omitted...]] + _[36394] + _[36511] + _[37005] + _[37022] + _[37023] + _[37024] + _[37025] + _[37026] + _[37030] + _[37031] + _[37032] + _[37033] + _[37044] + _[37059] + _[37060] + _[37062] + _[37066] + _[37067] + _[37069] + _[37070] + _[37071] + _[37072] + _[37134] + _[37380] + _[37489] + _[37515] + _[37527] + _[37531] + _[37589] + _[37594] ≥ 1\n",
       " _[155] + _[301] + _[302] + _[304] + _[305] + _[307] + _[312] + _[314] + _[316] + _[318] + _[319] + _[320] + _[323] + _[324] + _[325] + _[326] + _[327] + _[328] + _[330] + _[332] + _[334] + _[336] + _[337] + _[340] + _[341] + _[345] + _[347] + _[351] + _[353] + _[354] + [[...2228 terms omitted...]] + _[37518] + _[37519] + _[37520] + _[37521] + _[37529] + _[37530] + _[37532] + _[37533] + _[37534] + _[37536] + _[37537] + _[37539] + _[37540] + _[37541] + _[37590] + _[37595] + _[37597] + _[37600] + _[37602] + _[37605] + _[37606] + _[37607] + _[37608] + _[37610] + _[37611] + _[37622] + _[37623] + _[37624] + _[37625] + _[37626] ≥ 1"
      ]
     },
     "execution_count": 10,
     "metadata": {},
     "output_type": "execute_result"
    }
   ],
   "source": [
    "function add_general_requirements(model, dVar) \n",
    "    # Full-time; at least 36 units per semester\n",
    "    @constraint(model, [s in 1:S], sum(U[i]*dVar[i, s] for i=1:n) >= 36);\n",
    "\n",
    "    # First semester: credit limit of 54 units\n",
    "    @constraint(model, [s in [1]], sum(U[i]*dVar[i, s] for i=1:n) <= 54);\n",
    "\n",
    "    # Wellbeing: no more than 112 hours per week\n",
    "    @constraint(model, [s in 1:S], sum(H[i]*dVar[i, s] for i=1:n) <= 112);\n",
    "\n",
    "    # Not repeatable: cannot take a class again\n",
    "    @constraint(model, [i in 1:n], sum(dVar[i, t] for t=1:S) <= 1);\n",
    "\n",
    "    # Taken correct semester\n",
    "    @constraint(model, [s in 1:2:S, i in 1:n], dVar[i, s] <= all_classes[i][:offered_fall]);\n",
    "    @constraint(model, [s in 2:2:S, i in 1:n], dVar[i, s] <= all_classes[i][:offered_spring]);\n",
    "\n",
    "    # 2 CI-H or HW\n",
    "    @constraint(model, sum(\n",
    "        (get(all_classes[i], :communication_requirement, \"\") in [\"CI-H\", \"CI-HW\"]) * dVar[i, s] for i=1:n, s=1:S) >= 2);\n",
    "    \n",
    "    # 8 HASS\n",
    "    @constraint(model, sum(\n",
    "        (get(all_classes[i], :hass_attribute, \"\") in [\"HASS-H\", \"HASS-A\", \"HASS-S\"]) * dVar[i, s] for i=1:n, s=1:S) >= 8);\n",
    "\n",
    "    # 1 of each HASS-H, A, S\n",
    "    @constraint(model, [hass_type in [\"HASS-H\", \"HASS-A\", \"HASS-S\"]], sum(\n",
    "        (get(all_classes[i], :hass_attribute, \"\") in [hass_type]) * dVar[i, s] for i=1:n, s=1:S) >= 1);\n",
    "end\n",
    "add_general_requirements(model1, model_var)"
   ]
  },
  {
   "cell_type": "markdown",
   "metadata": {},
   "source": [
    "#### Adding Institute Reqs ####"
   ]
  },
  {
   "cell_type": "code",
   "execution_count": 11,
   "metadata": {},
   "outputs": [
    {
     "data": {
      "text/plain": [
       "6-element Vector{Vector{Int64}}:\n",
       " [2963, 3304, 3305]\n",
       " [3857, 3858, 3859, 3860]\n",
       " [3861, 3862, 3863]\n",
       " [1537, 1538]\n",
       " [1539, 1541, 1540]\n",
       " [3753, 3754, 3755, 3756, 3757]"
      ]
     },
     "execution_count": 11,
     "metadata": {},
     "output_type": "execute_result"
    }
   ],
   "source": [
    "chem_gir_ids = [\"3.091\", \"5.111\", \"5.112\"]\n",
    "phys_1_gir_ids = [\"8.01\", \"8.011\", \"8.012\", \"8.01L\"]\n",
    "phys_2_gir_ids = [\"8.02\", \"8.021\", \"8.022\"]\n",
    "math_1_gir_ids = [\"18.01\", \"18.01A\"]\n",
    "math_2_gir_ids = [\"18.02\", \"18.02A\", \"18.022\"]\n",
    "bio_gir_ids = [\"7.012\", \"7.013\", \"7.014\", \"7.015\", \"7.016\"]\n",
    "gir_ids = [chem_gir_ids, phys_1_gir_ids, phys_2_gir_ids, math_1_gir_ids, math_2_gir_ids, bio_gir_ids]\n",
    "gir_inds_types = [[findfirst(x -> x[:subject_id] == gir_id, all_classes) for gir_id in gir_type] for gir_type in gir_ids]"
   ]
  },
  {
   "cell_type": "code",
   "execution_count": 12,
   "metadata": {},
   "outputs": [
    {
     "data": {
      "text/plain": [
       "1-dimensional DenseAxisArray{ConstraintRef{Model, MathOptInterface.ConstraintIndex{MathOptInterface.ScalarAffineFunction{Float64}, MathOptInterface.EqualTo{Float64}}, ScalarShape},1,...} with index sets:\n",
       "    Dimension 1, [[2963, 3304, 3305], [3857, 3858, 3859, 3860], [3861, 3862, 3863], [1537, 1538], [1539, 1541, 1540], [3753, 3754, 3755, 3756, 3757]]\n",
       "And data, a 6-element Vector{ConstraintRef{Model, MathOptInterface.ConstraintIndex{MathOptInterface.ScalarAffineFunction{Float64}, MathOptInterface.EqualTo{Float64}}, ScalarShape}}:\n",
       " _[2963] + _[3304] + _[3305] + _[7667] + _[8008] + _[8009] + _[12371] + _[12712] + _[12713] + _[17075] + _[17416] + _[17417] + _[21779] + _[22120] + _[22121] + _[26483] + _[26824] + _[26825] + _[31187] + _[31528] + _[31529] + _[35891] + _[36232] + _[36233] = 1\n",
       " _[3857] + _[3858] + _[3859] + _[3860] + _[8561] + _[8562] + _[8563] + _[8564] + _[13265] + _[13266] + _[13267] + _[13268] + _[17969] + _[17970] + _[17971] + _[17972] + _[22673] + _[22674] + _[22675] + _[22676] + _[27377] + _[27378] + _[27379] + _[27380] + _[32081] + _[32082] + _[32083] + _[32084] + _[36785] + _[36786] + _[36787] + _[36788] = 1\n",
       " _[3861] + _[3862] + _[3863] + _[8565] + _[8566] + _[8567] + _[13269] + _[13270] + _[13271] + _[17973] + _[17974] + _[17975] + _[22677] + _[22678] + _[22679] + _[27381] + _[27382] + _[27383] + _[32085] + _[32086] + _[32087] + _[36789] + _[36790] + _[36791] = 1\n",
       " _[1537] + _[1538] + _[6241] + _[6242] + _[10945] + _[10946] + _[15649] + _[15650] + _[20353] + _[20354] + _[25057] + _[25058] + _[29761] + _[29762] + _[34465] + _[34466] = 1\n",
       " _[1539] + _[1540] + _[1541] + _[6243] + _[6244] + _[6245] + _[10947] + _[10948] + _[10949] + _[15651] + _[15652] + _[15653] + _[20355] + _[20356] + _[20357] + _[25059] + _[25060] + _[25061] + _[29763] + _[29764] + _[29765] + _[34467] + _[34468] + _[34469] = 1\n",
       " _[3753] + _[3754] + _[3755] + _[3756] + _[3757] + _[8457] + _[8458] + _[8459] + _[8460] + _[8461] + _[13161] + _[13162] + _[13163] + _[13164] + _[13165] + _[17865] + _[17866] + _[17867] + _[17868] + _[17869] + _[22569] + _[22570] + _[22571] + _[22572] + _[22573] + _[27273] + _[27274] + _[27275] + _[27276] + _[27277] + _[31977] + _[31978] + _[31979] + _[31980] + _[31981] + _[36681] + _[36682] + _[36683] + _[36684] + _[36685] = 1"
      ]
     },
     "execution_count": 12,
     "metadata": {},
     "output_type": "execute_result"
    }
   ],
   "source": [
    "function add_gir_constraints(model, dVar)\n",
    "    @constraint(model, [gir_type in gir_inds_types], sum(dVar[gir_ind, s] for gir_ind in gir_type, s in 1:S) == 1);\n",
    "end\n",
    "add_gir_constraints(model1, model_var)"
   ]
  },
  {
   "cell_type": "markdown",
   "metadata": {},
   "source": [
    "#### Adding 6-4 Constraints ####"
   ]
  },
  {
   "cell_type": "code",
   "execution_count": 13,
   "metadata": {},
   "outputs": [],
   "source": [
    "# main requirements\n",
    "ai_programming_ids = [\"6.100A\", \"6.100L\"];\n",
    "ai_math_1_ids = [\"6.1200\"];\n",
    "ai_math_2_ids = [\"6.S084\", \"18.C06\", \"18.06\"];\n",
    "ai_math_3_ids = [\"6.3700\", \"6.3800\", \"18.05\"];\n",
    "ai_foundation_ids = [\"6.1010\", \"6.1210\"];\n",
    "ai_centers_ids = [\"6.1220\", \"6.1400\", \"6.3000\", \"6.3100\", \"6.3260\", \"6.3720\", \"6.3900\", \"6.3950\",\n",
    "                \"6.4110\", \"6.4120\", \"6.4400\", \"6.4590\", \"6.7201\", \"6.C35\", \"9.660\"] # removed \"6.C571\" and \"6.C01\"\n",
    "ai_ids = [ai_programming_ids, ai_math_1_ids, ai_math_2_ids, ai_math_3_ids, ai_foundation_ids, ai_centers_ids];  # DOESN'T INCLUDE AI_MATH_IDS YET\n",
    "ai_inds_types = [[findfirst(x -> x[:subject_id] == ai_id, all_classes) for ai_id in ai_type] for ai_type in ai_ids];\n",
    "\n",
    "\n",
    "# additional constraints (centers)\n",
    "ai_data_center_ids = [\"6.3720\", \"6.3900\"]; # no \"6.C01\"\n",
    "ai_model_center_ids = [\"6.3000\", \"6.3100\", \"6.4110\", \"6.4400\"];\n",
    "ai_dec_center_ids = [\"6.3100\", \"6.4110\", \"6.7201\"];  # no \"6.C571\"\n",
    "ai_comp_center_ids = [\"6.1220\", \"6.1400\", \"6.4400\", \"6.7201\"]; # no \"6.C571\"\n",
    "ai_human_center_ids = [\"6.3260\", \"6.3950\", \"6.4120\", \"6.4590\", \"6.C35\", \"9.660\"];\n",
    "ai_centers_ids_list = [ai_data_center_ids, ai_model_center_ids, ai_dec_center_ids, ai_comp_center_ids, ai_human_center_ids];\n",
    "ai_centers_inds_types = [[findfirst(x -> x[:subject_id] == ai_id, all_classes) for ai_id in ai_center] for ai_center in ai_centers_ids_list];"
   ]
  },
  {
   "cell_type": "code",
   "execution_count": 14,
   "metadata": {},
   "outputs": [],
   "source": [
    "# electives\n",
    "ai_app_cim = [\"6.4200\", \"6.4210\", \"6.8301\", \"6.8611\"]\n",
    "ai_aus = [\"18.404\", \"6.3730\", \"6.4210\", \"6.5151\", \"6.5831\", \"6.5931\", \"6.7411\", \"6.8301\", \"6.8371\", \"6.8611\", \"6.8701\", \"6.8711\", \"6.8801\"] # removed \"6.3020\"\n",
    "# 2 additional from eecs list\n",
    "ai_electives_ids_list = [ai_app_cim, ai_aus]\n",
    "ai_elec_inds_types = [[findfirst(x -> x[:subject_id] == ai_id, all_classes) for ai_id in ai_type] for ai_type in ai_electives_ids_list]\n",
    "\n",
    "# other additional constraints \n",
    "ai_eecs_cim2_ids = [\"6.1800\", \"6.1850\", \"6.2040\", \"6.2050\", \"6.2060\", \"6.2061\", \"6.2220\", \"6.2221\", \"6.2370\", \"6.2410\", \"6.2600\", \"6.4200\", \"6.4210\", \"6.4590\", \"6.4860\", \"6.4880\", \"6.8301\", \"6.8611\", \"6.9030\", \"6.UAR\", \"6.UAT\"]\n",
    "ai_serc_ids = [\"6.3900\", \"6.3950\", \"6.4590\", \"6.8301\", \"6.8611\"] # removed 6.C40\n",
    "ai_add_constraints_ids_list = [ai_eecs_cim2_ids, ai_serc_ids]\n",
    "ai_add_constraints_inds_types = [[findfirst(x -> x[:subject_id] == ai_id, all_classes) for ai_id in ai_type] for ai_type in ai_add_constraints_ids_list];"
   ]
  },
  {
   "cell_type": "code",
   "execution_count": 15,
   "metadata": {},
   "outputs": [
    {
     "data": {
      "text/plain": [
       "1-dimensional DenseAxisArray{ConstraintRef{Model, MathOptInterface.ConstraintIndex{MathOptInterface.ScalarAffineFunction{Float64}, MathOptInterface.GreaterThan{Float64}}, ScalarShape},1,...} with index sets:\n",
       "    Dimension 1, [[3454, 3455, 3589, 3601], [1623, 3442, 3455, 3488, 3511, 3517, 3563, 3589, 3594, 3601, 3607, 3609, 3614]]\n",
       "And data, a 2-element Vector{ConstraintRef{Model, MathOptInterface.ConstraintIndex{MathOptInterface.ScalarAffineFunction{Float64}, MathOptInterface.GreaterThan{Float64}}, ScalarShape}}:\n",
       " _[3454] + _[3455] + _[3589] + _[3601] + _[8158] + _[8159] + _[8293] + _[8305] + _[12862] + _[12863] + _[12997] + _[13009] + _[17566] + _[17567] + _[17701] + _[17713] + _[22270] + _[22271] + _[22405] + _[22417] + _[26974] + _[26975] + _[27109] + _[27121] + _[31678] + _[31679] + _[31813] + _[31825] + _[36382] + _[36383] + _[36517] + _[36529] ≥ 1\n",
       " _[1623] + _[3442] + _[3455] + _[3488] + _[3511] + _[3517] + _[3563] + _[3589] + _[3594] + _[3601] + _[3607] + _[3609] + _[3614] + _[6327] + _[8146] + _[8159] + _[8192] + _[8215] + _[8221] + _[8267] + _[8293] + _[8298] + _[8305] + _[8311] + _[8313] + _[8318] + _[11031] + _[12850] + _[12863] + _[12896] + [[...44 terms omitted...]] + _[27121] + _[27127] + _[27129] + _[27134] + _[29847] + _[31666] + _[31679] + _[31712] + _[31735] + _[31741] + _[31787] + _[31813] + _[31818] + _[31825] + _[31831] + _[31833] + _[31838] + _[34551] + _[36370] + _[36383] + _[36416] + _[36439] + _[36445] + _[36491] + _[36517] + _[36522] + _[36529] + _[36535] + _[36537] + _[36542] ≥ 1"
      ]
     },
     "execution_count": 15,
     "metadata": {},
     "output_type": "execute_result"
    }
   ],
   "source": [
    "# ai_inds_types, 6 elem vector\n",
    "function add_6_4_constraints(model, dVar)\n",
    "    # 1 programming skills\n",
    "    @constraint(model, sum(dVar[ai_ind, s] for ai_ind in ai_inds_types[1], s in 1:S) == 1);\n",
    "\n",
    "    # 3 math\n",
    "    ai_math_types = [ai_inds_types[2], ai_inds_types[3], ai_inds_types[4]];\n",
    "    @constraint(model, [math_type in ai_math_types], sum(dVar[math_ind, s] for math_ind in math_type, s in 1:S) == 1);\n",
    "\n",
    "    # 2 foundation\n",
    "    @constraint(model, sum(dVar[ai_ind, s] for ai_ind in ai_inds_types[5], s in 1:S) == 2);\n",
    "\n",
    "    # 5 total center\n",
    "    @constraint(model, sum(dVar[ai_ind, s] for ai_ind in ai_inds_types[6], s in 1:S) >= 5);\n",
    "\n",
    "    # 1 per center\n",
    "    @constraint(model, [ai_center in ai_centers_inds_types], sum(dVar[ai_ind, s] for ai_ind in ai_center, s in 1:S) >= 1);\n",
    "\n",
    "    # 2 from cim2\n",
    "    @constraint(model, sum(dVar[ai_ind, s] for ai_ind in ai_add_constraints_inds_types[1], s in 1:S) >= 2);\n",
    "\n",
    "    # 1 from ai+d-serc\n",
    "    @constraint(model, sum(dVar[ai_ind, s] for ai_ind in ai_add_constraints_inds_types[2], s in 1:S) >= 1);\n",
    "\n",
    "    # 1 elec from application cim and 1 from ai+d-aus\n",
    "    @constraint(model, [ai_elec_type in ai_elec_inds_types], sum(dVar[ai_ind, s] for ai_ind in ai_elec_type, s in 1:S) >= 1);\n",
    "\n",
    "    # 2 elecs ADDITIONAL from eecs or 18\n",
    "    # TODO\n",
    "end\n",
    "add_6_4_constraints(model1, model_var)\n"
   ]
  },
  {
   "cell_type": "markdown",
   "metadata": {},
   "source": [
    "#### Adding Prereq constraints"
   ]
  },
  {
   "cell_type": "code",
   "execution_count": 16,
   "metadata": {},
   "outputs": [
    {
     "data": {
      "text/plain": [
       "4704-element Vector{Union{Nothing, String}}:\n",
       " \"GIR:CAL1, ((6.100A, 6.100B)/(6.100L, 16.C20))\"\n",
       " nothing\n",
       " \"GIR:CAL1\"\n",
       " nothing\n",
       " nothing\n",
       " nothing\n",
       " nothing\n",
       " \"GIR:CAL2\"\n",
       " nothing\n",
       " \"''Permission of instructor''\"\n",
       " \"2.003, 2.016, 2.678\"\n",
       " nothing\n",
       " nothing\n",
       " ⋮\n",
       " nothing\n",
       " nothing\n",
       " nothing\n",
       " nothing\n",
       " nothing\n",
       " nothing\n",
       " nothing\n",
       " nothing\n",
       " nothing\n",
       " nothing\n",
       " \"''One intermediate subject in French''/''permission of instructor''\"\n",
       " nothing"
      ]
     },
     "execution_count": 16,
     "metadata": {},
     "output_type": "execute_result"
    }
   ],
   "source": [
    "raw_prerequisites = map(course -> get(course, \"prerequisites\", nothing), all_classes)"
   ]
  },
  {
   "cell_type": "code",
   "execution_count": 17,
   "metadata": {},
   "outputs": [],
   "source": [
    "abstract type ExprNode end\n",
    "\n",
    "struct CourseNode <: ExprNode\n",
    "    course::String\n",
    "end\n",
    "\n",
    "struct ANDNode <: ExprNode\n",
    "    left::ExprNode\n",
    "    right::ExprNode\n",
    "end\n",
    "\n",
    "struct ORNode <: ExprNode\n",
    "    left::ExprNode\n",
    "    right::ExprNode\n",
    "end\n",
    "\n",
    "struct PreReq\n",
    "    root::CourseNode\n",
    "    prereqs::Union{ExprNode, Nothing}\n",
    "end "
   ]
  },
  {
   "cell_type": "code",
   "execution_count": 18,
   "metadata": {},
   "outputs": [
    {
     "data": {
      "text/plain": [
       "parse_prereq_string (generic function with 1 method)"
      ]
     },
     "execution_count": 18,
     "metadata": {},
     "output_type": "execute_result"
    }
   ],
   "source": [
    "function parse_prereq_string(input)\n",
    "    if input === nothing\n",
    "        return\n",
    "    end\n",
    "    input = replace(input, r\"\\s+\" => \"\")\n",
    "    tokens = collect(input)\n",
    "    function parse(tokens::Vector{Char})::ExprNode\n",
    "        stack = ExprNode[]\n",
    "        buffer = IOBuffer()\n",
    "        while !isempty(tokens)\n",
    "            token = popfirst!(tokens)\n",
    "            if token == '('\n",
    "                node = parse(tokens)\n",
    "                push!(stack, node)\n",
    "            elseif token == ')'\n",
    "                break\n",
    "            elseif token == ','\n",
    "                left = isempty(stack) ? CourseNode(String(take!(buffer))) : pop!(stack)\n",
    "                right = parse(tokens)\n",
    "                return ANDNode(left, right)\n",
    "            elseif token == '/'\n",
    "                left = isempty(stack) ? CourseNode(String(take!(buffer))) : pop!(stack)\n",
    "                right = parse(tokens)\n",
    "                return ORNode(left, right)\n",
    "            else\n",
    "                write(buffer, token)\n",
    "            end\n",
    "        end\n",
    "        return isempty(stack) ? CourseNode(String(take!(buffer))) : stack[1]\n",
    "    end\n",
    "    return parse(tokens)\n",
    "end"
   ]
  },
  {
   "cell_type": "code",
   "execution_count": 19,
   "metadata": {},
   "outputs": [
    {
     "data": {
      "text/plain": [
       "replace_gir_terms (generic function with 1 method)"
      ]
     },
     "execution_count": 19,
     "metadata": {},
     "output_type": "execute_result"
    }
   ],
   "source": [
    "function replace_gir_terms(input_str)\n",
    "    if input_str === nothing\n",
    "        return \n",
    "    end\n",
    "    gir_map = Dict(\n",
    "        \"GIR:CHEM\" => [\"3.091\", \"5.111\", \"5.112\"],\n",
    "        \"GIR:PHY1\" => [\"8.01\", \"8.011\", \"8.012\", \"8.01L\"],\n",
    "        \"GIR:PHY2\" => [\"8.02\", \"8.021\", \"8.022\"],\n",
    "        \"GIR:CAL1\" => [\"18.01\", \"18.01A\"],\n",
    "        \"GIR:CAL2\" => [\"18.02\", \"18.02A\", \"18.022\"],\n",
    "        \"GIR:BIOL\" => [\"7.012\", \"7.013\", \"7.014\", \"7.015\", \"7.016\"]\n",
    "    )\n",
    "    pattern = r\"GIR:\\w+\"\n",
    "    replaced_str = replace(input_str, pattern => x -> begin\n",
    "        term = match(pattern, x).match\n",
    "        if haskey(gir_map, term)\n",
    "            \"(\" * join(gir_map[term], \"/\") * \")\"\n",
    "        else\n",
    "            term\n",
    "        end\n",
    "    end)\n",
    "    return replaced_str\n",
    "end"
   ]
  },
  {
   "cell_type": "code",
   "execution_count": 20,
   "metadata": {},
   "outputs": [
    {
     "data": {
      "text/plain": [
       "4704-element Vector{Union{Nothing, String}}:\n",
       " \"(18.01/18.01A), ((6.100A, 6.100B)/(6.100L, 16.C20))\"\n",
       " nothing\n",
       " \"(18.01/18.01A)\"\n",
       " nothing\n",
       " nothing\n",
       " nothing\n",
       " nothing\n",
       " \"(18.02/18.02A/18.022)\"\n",
       " nothing\n",
       " \"''Permission of instructor''\"\n",
       " \"2.003, 2.016, 2.678\"\n",
       " nothing\n",
       " nothing\n",
       " ⋮\n",
       " nothing\n",
       " nothing\n",
       " nothing\n",
       " nothing\n",
       " nothing\n",
       " nothing\n",
       " nothing\n",
       " nothing\n",
       " nothing\n",
       " nothing\n",
       " \"''One intermediate subject in French''/''permission of instructor''\"\n",
       " nothing"
      ]
     },
     "execution_count": 20,
     "metadata": {},
     "output_type": "execute_result"
    }
   ],
   "source": [
    "prerequisites = map(prereq_str -> replace_gir_terms(prereq_str), raw_prerequisites)"
   ]
  },
  {
   "cell_type": "code",
   "execution_count": 21,
   "metadata": {},
   "outputs": [
    {
     "data": {
      "text/plain": [
       "4704-element Vector{Any}:\n",
       " PreReq(CourseNode(\"1.00\"), ANDNode(ORNode(CourseNode(\"18.01\"), CourseNode(\"18.01A\")), ORNode(ANDNode(CourseNode(\"6.100A\"), CourseNode(\"6.100B\")), ANDNode(CourseNode(\"6.100L\"), CourseNode(\"16.C20\")))))\n",
       " PreReq(CourseNode(\"1.000\"), nothing)\n",
       " PreReq(CourseNode(\"1.001\"), ORNode(CourseNode(\"18.01\"), CourseNode(\"18.01A\")))\n",
       " PreReq(CourseNode(\"1.005\"), nothing)\n",
       " PreReq(CourseNode(\"1.007\"), nothing)\n",
       " PreReq(CourseNode(\"1.008\"), nothing)\n",
       " PreReq(CourseNode(\"1.009\"), nothing)\n",
       " PreReq(CourseNode(\"1.010\"), ORNode(CourseNode(\"18.02\"), ORNode(CourseNode(\"18.02A\"), CourseNode(\"18.022\"))))\n",
       " PreReq(CourseNode(\"1.011\"), nothing)\n",
       " PreReq(CourseNode(\"1.013\"), CourseNode(\"''Permissionofinstructor''\"))\n",
       " PreReq(CourseNode(\"1.015\"), ANDNode(CourseNode(\"2.003\"), ANDNode(CourseNode(\"2.016\"), CourseNode(\"2.678\"))))\n",
       " PreReq(CourseNode(\"1.016\"), nothing)\n",
       " PreReq(CourseNode(\"1.018\"), nothing)\n",
       " ⋮\n",
       " PreReq(CourseNode(\"WGS.250\"), nothing)\n",
       " PreReq(CourseNode(\"WGS.270\"), nothing)\n",
       " PreReq(CourseNode(\"WGS.271\"), nothing)\n",
       " PreReq(CourseNode(\"WGS.274\"), nothing)\n",
       " PreReq(CourseNode(\"WGS.275\"), nothing)\n",
       " PreReq(CourseNode(\"WGS.276\"), nothing)\n",
       " PreReq(CourseNode(\"WGS.277\"), nothing)\n",
       " PreReq(CourseNode(\"WGS.301\"), nothing)\n",
       " PreReq(CourseNode(\"WGS.303\"), nothing)\n",
       " PreReq(CourseNode(\"WGS.310\"), nothing)\n",
       " PreReq(CourseNode(\"WGS.321\"), ORNode(CourseNode(\"''OneintermediatesubjectinFrench''\"), CourseNode(\"''permissionofinstructor''\")))\n",
       " PreReq(CourseNode(\"WGS.S10\"), nothing)"
      ]
     },
     "execution_count": 21,
     "metadata": {},
     "output_type": "execute_result"
    }
   ],
   "source": [
    "prerequisite_expressions = []\n",
    "for index in 1:length(prerequisites)\n",
    "    course_id = CourseNode(index_to_subjectid[index])\n",
    "    prereq_tree = parse_prereq_string(prerequisites[index])\n",
    "    push!(prerequisite_expressions, PreReq(course_id, prereq_tree))\n",
    "end\n",
    "prerequisite_expressions"
   ]
  },
  {
   "cell_type": "code",
   "execution_count": 22,
   "metadata": {},
   "outputs": [
    {
     "data": {
      "text/plain": [
       "add_prereq_constraint (generic function with 1 method)"
      ]
     },
     "execution_count": 22,
     "metadata": {},
     "output_type": "execute_result"
    }
   ],
   "source": [
    "function add_course_constraint(model::Model, dVar, course::CourseNode, sem::Int)\n",
    "    index = get(subjectid_to_index, course.course, nothing)\n",
    "    if index == nothing\n",
    "        return 0  # Ignore unknown courses\n",
    "    end\n",
    "    if sem == 1\n",
    "        return 0  # Cannot satisfy prerequisites in the first semester\n",
    "    else\n",
    "        return handle_prerequisite_sum(model, dVar, index, sem)\n",
    "    end\n",
    "end\n",
    "\n",
    "function handle_prerequisite_sum(model::Model, dVar, index::Int, sem::Int)\n",
    "    prereq_sum = sum(dVar[index, s] for s in 1:sem-1)\n",
    "    binary_prereq_var = @variable(model, binary=true)\n",
    "    @constraint(model, binary_prereq_var <= prereq_sum)\n",
    "    @constraint(model, binary_prereq_var >=  prereq_sum / (sem-1))  # Ensure binary behavior\n",
    "    return binary_prereq_var\n",
    "end\n",
    "\n",
    "function add_and_constraint(left_var, right_var, model::Model)\n",
    "    and_var = @variable(model, binary=true)\n",
    "    @constraint(model, and_var <= left_var)\n",
    "    @constraint(model, and_var <= right_var)\n",
    "    @constraint(model, and_var >= left_var + right_var - 1)\n",
    "    return and_var\n",
    "end\n",
    "\n",
    "function add_or_constraint(left_var, right_var, model::Model)\n",
    "    or_var = @variable(model, binary=true)\n",
    "    @constraint(model, or_var >= left_var)\n",
    "    @constraint(model, or_var >= right_var)\n",
    "    @constraint(model, or_var <= left_var + right_var)\n",
    "    return or_var\n",
    "end\n",
    "\n",
    "function add_and_or_constraints(model::Model, dVar, expr::ExprNode, sem::Int)\n",
    "    if isa(expr, CourseNode)\n",
    "        return add_course_constraint(model, dVar, expr, sem)\n",
    "    elseif isa(expr, ANDNode)\n",
    "        left_var = add_and_or_constraints(model, dVar, expr.left, sem)\n",
    "        right_var = add_and_or_constraints(model, dVar, expr.right, sem)\n",
    "        return add_and_constraint(left_var, right_var, model)\n",
    "    elseif isa(expr, ORNode)\n",
    "        left_var = add_and_or_constraints(model, dVar, expr.left, sem)\n",
    "        right_var = add_and_or_constraints(model, dVar, expr.right, sem)\n",
    "        return add_or_constraint(left_var, right_var, model)\n",
    "    else\n",
    "        error(\"Unknown expression type\")\n",
    "    end\n",
    "end\n",
    "\n",
    "function add_prereq_constraint(model, dVar, prereq_obj, sem)\n",
    "    index = get(subjectid_to_index, prereq_obj.root.course, nothing)\n",
    "    if index == nothing\n",
    "        return 1  # Ignore unknown courses\n",
    "    end\n",
    "    if prereq_obj.prereqs === nothing\n",
    "        return dVar[index, sem]\n",
    "    else\n",
    "        prereq_var = add_and_or_constraints(model, dVar, prereq_obj.prereqs, sem)\n",
    "        @constraint(model, dVar[index, sem] <= prereq_var)\n",
    "        return dVar[index, sem]\n",
    "    end\n",
    "end\n"
   ]
  },
  {
   "cell_type": "code",
   "execution_count": 23,
   "metadata": {},
   "outputs": [],
   "source": [
    "function add_prereq_constraints(model, dVar) \n",
    "    for s in 1:S\n",
    "        for prereq_expr in prerequisite_expressions\n",
    "            add_prereq_constraint(model, dVar, prereq_expr, s)\n",
    "        end\n",
    "    end\n",
    "end \n",
    "\n",
    "add_prereq_constraints(model1, model_var)"
   ]
  },
  {
   "cell_type": "markdown",
   "metadata": {},
   "source": [
    "#### Optimizing the Model and Interpretation"
   ]
  },
  {
   "cell_type": "code",
   "execution_count": 50,
   "metadata": {},
   "outputs": [
    {
     "name": "stdout",
     "output_type": "stream",
     "text": [
      "Gurobi Optimizer version 11.0.2 build v11.0.2rc0 (mac64[x86] - Darwin 23.6.0 23G93)\n",
      "\n",
      "CPU model: Intel(R) Core(TM) i5-8257U CPU @ 1.40GHz\n",
      "Thread count: 4 physical cores, 8 logical processors, using up to 8 threads\n",
      "\n",
      "Optimize a model with 211875 rows, 96680 columns and 685898 nonzeros\n",
      "Model fingerprint: 0x0a87f084\n",
      "Variable types: 0 continuous, 96680 integer (96680 binary)\n",
      "Coefficient statistics:\n",
      "  Matrix range     [1e-01, 8e+01]\n",
      "  Objective range  [1e+00, 2e+02]\n",
      "  Bounds range     [0e+00, 0e+00]\n",
      "  RHS range        [1e+00, 1e+02]\n",
      "Presolve removed 180914 rows and 76407 columns\n",
      "Presolve time: 2.77s\n",
      "Presolved: 30961 rows, 20273 columns, 110180 nonzeros\n",
      "Variable types: 0 continuous, 20273 integer (20273 binary)\n",
      "Found heuristic solution: objective 1356.7719471\n",
      "Found heuristic solution: objective 797.1518858\n",
      "\n",
      "Root relaxation: objective 3.965947e+02, 2767 iterations, 0.06 seconds (0.06 work units)\n",
      "\n",
      "    Nodes    |    Current Node    |     Objective Bounds      |     Work\n",
      " Expl Unexpl |  Obj  Depth IntInf | Incumbent    BestBd   Gap | It/Node Time\n",
      "\n",
      "     0     0  396.59474    0  286  797.15189  396.59474  50.2%     -    4s\n",
      "H    0     0                     458.6042329  396.59474  13.5%     -    4s\n",
      "H    0     0                     451.7452971  396.59474  12.2%     -    4s\n",
      "H    0     0                     399.0708940  396.59474  0.62%     -    4s\n",
      "     0     0          -    0       399.07089  399.05975  0.00%     -    4s\n",
      "\n",
      "Cutting planes:\n",
      "  Gomory: 2\n",
      "  Cover: 2\n",
      "  MIR: 1\n",
      "  StrongCG: 3\n",
      "  Zero half: 2\n",
      "  RLT: 1\n",
      "\n",
      "Explored 1 nodes (5696 simplex iterations) in 4.65 seconds (3.06 work units)\n",
      "Thread count was 8 (of 8 available processors)\n",
      "\n",
      "Solution count 5: 399.071 451.745 458.604 ... 1356.77\n",
      "\n",
      "Optimal solution found (tolerance 1.00e-04)\n",
      "Best objective 3.990708940429e+02, best bound 3.990597501348e+02, gap 0.0028%\n",
      "\n",
      "User-callback calls 927, time in user-callback 0.00 sec\n"
     ]
    }
   ],
   "source": [
    "optimize!(model1)"
   ]
  },
  {
   "cell_type": "code",
   "execution_count": 24,
   "metadata": {},
   "outputs": [
    {
     "data": {
      "text/plain": [
       "interpret_course_units (generic function with 1 method)"
      ]
     },
     "execution_count": 24,
     "metadata": {},
     "output_type": "execute_result"
    }
   ],
   "source": [
    "function interpret_course_nums(classes_id_per_sem)\n",
    "    course_nums = [[all_classes[class_ind][:subject_id] for class_ind in sem] for sem in classes_id_per_sem]\n",
    "    return course_nums\n",
    "end\n",
    "\n",
    "function interpret_course_attr(classes_id_per_sem, attr)\n",
    "    courses_attr = [[get(all_classes[class_ind], Symbol(attr), \"\") for class_ind in sem] for sem in classes_id_per_sem]\n",
    "    return courses_attr\n",
    "end\n",
    "\n",
    "function interpret_course_hours(classes_id_per_sem)\n",
    "    course_hours = [[H[class_ind] for class_ind in sem] for sem in classes_id_per_sem]\n",
    "    return course_hours\n",
    "end\n",
    "\n",
    "function interpret_course_units(classes_id_per_sem)\n",
    "    course_units = [[U[class_ind] for class_ind in sem] for sem in classes_id_per_sem]\n",
    "    return course_units\n",
    "end"
   ]
  },
  {
   "cell_type": "code",
   "execution_count": 52,
   "metadata": {},
   "outputs": [
    {
     "data": {
      "text/plain": [
       "8-element Vector{Vector{String}}:\n",
       " [\"18.01\", \"21M.451\", \"6.100A\", \"6.UAT\", \"7.012\", \"8.01L\"]\n",
       " [\"18.02\", \"6.1010\", \"6.1200\", \"8.02\"]\n",
       " [\"18.06\", \"6.1210\", \"6.3700\"]\n",
       " [\"6.1400\", \"6.3260\", \"6.8301\"]\n",
       " [\"6.3100\", \"6.3900\", \"6.3950\"]\n",
       " [\"11.013\", \"3.091\", \"STS.083\"]\n",
       " [\"21M.622\", \"21M.623\", \"21M.747\"]\n",
       " [\"1.267\", \"24.947\", \"ES.113\"]"
      ]
     },
     "execution_count": 52,
     "metadata": {},
     "output_type": "execute_result"
    }
   ],
   "source": [
    "taken_classes_sem = [[ind for (ind, val) in enumerate(sem) if val == 1] for sem in eachcol(value.(model_var))]\n",
    "interpret_course_nums(taken_classes_sem)"
   ]
  },
  {
   "cell_type": "code",
   "execution_count": 53,
   "metadata": {},
   "outputs": [
    {
     "data": {
      "text/plain": [
       "8-element Vector{Vector{String}}:\n",
       " [\"Calculus\", \"Collaborative Piano\", \"Introduction to Computer Science Programming in Python\", \"Oral Communication\", \"Introductory Biology\", \"Physics I\"]\n",
       " [\"Calculus\", \"Fundamentals of Programming\", \"Mathematics for Computer Science\", \"Physics II\"]\n",
       " [\"Linear Algebra\", \"Introduction to Algorithms\", \"Introduction to Probability\"]\n",
       " [\"Computability and Complexity Theory\", \"Networks\", \"Advances in Computer Vision\"]\n",
       " [\"Dynamical System Modeling and Control Design\", \"Introduction to Machine Learning\", \"AI, Decision Making, and Society\"]\n",
       " [\"American Urban History\", \"Introduction to Solid-State Chemistry\", \"Computers and Social Change\"]\n",
       " [\"Physical Improvisation: Scores and Structures\", \"Physical Improvisation: Bodies in Motion\", \"Talking and Dancing\"]\n",
       " [\"Statistical Learning in Operations\", \"Language Disorders in Children\", \"Ancient Greek Philosophy and Mathematics\"]"
      ]
     },
     "execution_count": 53,
     "metadata": {},
     "output_type": "execute_result"
    }
   ],
   "source": [
    "interpret_course_attr(taken_classes_sem, \"title\")"
   ]
  },
  {
   "cell_type": "code",
   "execution_count": 54,
   "metadata": {},
   "outputs": [
    {
     "data": {
      "text/plain": [
       "PreReq(CourseNode(\"16.84\"), ORNode(CourseNode(\"6.4200\"), CourseNode(\"''permissionofinstructor''\")))"
      ]
     },
     "execution_count": 54,
     "metadata": {},
     "output_type": "execute_result"
    }
   ],
   "source": [
    "prerequisite_expressions[subjectid_to_index[\"16.84\"]]"
   ]
  },
  {
   "cell_type": "code",
   "execution_count": 55,
   "metadata": {},
   "outputs": [
    {
     "data": {
      "text/plain": [
       "8-element Vector{Float64}:\n",
       " 51.07\n",
       " 42.21\n",
       " 32.11\n",
       " 31.03\n",
       " 27.48\n",
       " 17.89\n",
       " 13.639999999999999\n",
       " 10.35"
      ]
     },
     "execution_count": 55,
     "metadata": {},
     "output_type": "execute_result"
    }
   ],
   "source": [
    "sems_hours = interpret_course_hours(taken_classes_sem)\n",
    "[sum(sem_hours) for sem_hours in sems_hours]"
   ]
  },
  {
   "cell_type": "code",
   "execution_count": 56,
   "metadata": {},
   "outputs": [
    {
     "data": {
      "text/plain": [
       "get_course_path (generic function with 2 methods)"
      ]
     },
     "execution_count": 56,
     "metadata": {},
     "output_type": "execute_result"
    }
   ],
   "source": [
    "function get_course_path(major, alpha=.2)\n",
    "    model = create_model(GRB_ENV)\n",
    "    course_var = add_course_semester_variables!(model)\n",
    "    set_objective_func(model, course_var, alpha)\n",
    "    add_general_requirements(model, course_var)\n",
    "    add_6_4_constraints(model, course_var) # change for major\n",
    "    add_prereq_constraints(model, course_var)\n",
    "    optimize!(model)\n",
    "    taken_classes_sem = [[ind for (ind, val) in enumerate(sem) if val == 1] for sem in eachcol(value.(course_var))]\n",
    "    # return interpret_course_nums(taken_classes_sem)\n",
    "    # return interpret_course_units(taken_classes_sem)\n",
    "    return interpret_course_attr(taken_classes_sem, \"title\")\n",
    "\n",
    "end"
   ]
  },
  {
   "cell_type": "code",
   "execution_count": 57,
   "metadata": {},
   "outputs": [
    {
     "name": "stdout",
     "output_type": "stream",
     "text": [
      "Gurobi Optimizer version 11.0.2 build v11.0.2rc0 (mac64[x86] - Darwin 23.6.0 23G93)\n",
      "\n",
      "CPU model: Intel(R) Core(TM) i5-8257U CPU @ 1.40GHz\n",
      "Thread count: 4 physical cores, 8 logical processors, using up to 8 threads\n",
      "\n",
      "Optimize a model with 211869 rows, 96680 columns and 685738 nonzeros\n",
      "Model fingerprint: 0x0e80fc07\n",
      "Variable types: 0 continuous, 96680 integer (96680 binary)\n",
      "Coefficient statistics:\n",
      "  Matrix range     [1e-01, 8e+01]\n",
      "  Objective range  [5e-02, 4e+01]\n",
      "  Bounds range     [0e+00, 0e+00]\n",
      "  RHS range        [1e+00, 1e+02]\n",
      "Presolve removed 180171 rows and 76156 columns\n",
      "Presolve time: 3.50s\n",
      "Presolved: 31698 rows, 20524 columns, 111724 nonzeros\n",
      "Variable types: 0 continuous, 20524 integer (20524 binary)\n",
      "Found heuristic solution: objective 292.0742858\n",
      "Found heuristic solution: objective 165.7404274\n",
      "Deterministic concurrent LP optimizer: primal and dual simplex\n",
      "Showing primal log only...\n",
      "\n",
      "\n",
      "Root simplex log...\n",
      "\n",
      "Iteration    Objective       Primal Inf.    Dual Inf.      Time\n",
      "    2520    1.2824829e+02   1.691619e+00   9.393129e+07      5s\n",
      "Concurrent spin time: 0.10s\n",
      "\n",
      "Solved with dual simplex\n",
      "\n",
      "Root simplex log...\n",
      "\n",
      "Iteration    Objective       Primal Inf.    Dual Inf.      Time\n",
      "    2321    6.9148031e+01   0.000000e+00   0.000000e+00      5s\n",
      "\n",
      "Root relaxation: objective 6.914803e+01, 2321 iterations, 0.37 seconds (0.20 work units)\n",
      "Total elapsed time = 5.07s (DegenMoves)\n",
      "\n",
      "    Nodes    |    Current Node    |     Objective Bounds      |     Work\n",
      " Expl Unexpl |  Obj  Depth IntInf | Incumbent    BestBd   Gap | It/Node Time\n",
      "\n",
      "     0     0   69.14803    0  801  165.74043   69.14803  58.3%     -    6s\n",
      "     0     0   70.49217    0    6  165.74043   70.49217  57.5%     -    6s\n",
      "H    0     0                      71.3290270   70.49217  1.17%     -    6s\n",
      "H    0     0                      70.8918272   70.49217  0.56%     -    6s\n",
      "     0     0   70.80628    0    7   70.89183   70.80628  0.12%     -    6s\n",
      "     0     0   70.82640    0    3   70.89183   70.82640  0.09%     -    7s\n",
      "\n",
      "Explored 1 nodes (3220 simplex iterations) in 7.07 seconds (3.43 work units)\n",
      "Thread count was 8 (of 8 available processors)\n",
      "\n",
      "Solution count 6: 70.8918 70.8918 71.329 ... 292.074\n",
      "\n",
      "Optimal solution found (tolerance 1.00e-04)\n",
      "Best objective 7.089182722060e+01, best bound 7.089182722060e+01, gap 0.0000%\n",
      "\n",
      "User-callback calls 1607, time in user-callback 0.01 sec\n"
     ]
    },
    {
     "data": {
      "text/plain": [
       "8-element Vector{Vector{String}}:\n",
       " [\"Calculus\", \"Introduction to English Literature\", \"Introduction to Computer Science Programming in Python\", \"AI, Decision Making, and Society\", \"Oral Communication\"]\n",
       " [\"Calculus\", \"Fundamentals of Programming\", \"Mathematics for Computer Science\"]\n",
       " [\"Linear Algebra\", \"French Photography\", \"Introduction to Algorithms\", \"Introduction to Inference\"]\n",
       " [\"Computability and Complexity Theory\", \"Introduction to Machine Learning\", \"Representation, Inference, and Reasoning in AI\"]\n",
       " [\"Introduction to Experimentation in BE\", \"MIT Senegalese Drum Ensemble\", \"Computational Cognitive Science\", \"Robotic Manipulation\"]\n",
       " [\"Physical Improvisation: Bodies in Motion\", \"Production Design Visualization\", \"Embodied Education: Past, Present, Future\"]\n",
       " [\"Physical Improvisation: Scores and Structures\", \"Talking and Dancing\", \"Imagination, Computation, and Expression Studio\"]\n",
       " [\"Statistical Learning in Operations\", \"Leading from the Middle\", \"Entrepreneurial Founding and Teams\", \"Exploring Globalization through Chinese Food\", \"Special Subject: Concourse\", \"Medical Imaging in Radiation Therapy\", \"Introduction to the Army and Critical Thinking\"]"
      ]
     },
     "execution_count": 57,
     "metadata": {},
     "output_type": "execute_result"
    }
   ],
   "source": [
    "path = get_course_path(\"6-4\")"
   ]
  },
  {
   "cell_type": "code",
   "execution_count": 58,
   "metadata": {},
   "outputs": [
    {
     "name": "stdout",
     "output_type": "stream",
     "text": [
      "5\n",
      "3\n",
      "4\n",
      "3\n",
      "4\n",
      "3\n",
      "3\n",
      "7\n"
     ]
    }
   ],
   "source": [
    "for sem in path\n",
    "    println(length(sem))\n",
    "end"
   ]
  },
  {
   "cell_type": "markdown",
   "metadata": {},
   "source": [
    "# Web Stuff"
   ]
  },
  {
   "cell_type": "code",
   "execution_count": 58,
   "metadata": {},
   "outputs": [
    {
     "name": "stderr",
     "output_type": "stream",
     "text": [
      "\u001b[32m\u001b[1m   Resolving\u001b[22m\u001b[39m package versions...\n",
      "\u001b[32m\u001b[1m   Installed\u001b[22m\u001b[39m ArgParse ───────── v1.2.0\n",
      "\u001b[32m\u001b[1m   Installed\u001b[22m\u001b[39m URIParser ──────── v0.4.1\n",
      "\u001b[32m\u001b[1m   Installed\u001b[22m\u001b[39m EzXML ──────────── v1.2.0\n",
      "\u001b[32m\u001b[1m   Installed\u001b[22m\u001b[39m Nettle ─────────── v1.0.0\n",
      "\u001b[32m\u001b[1m   Installed\u001b[22m\u001b[39m CodeTracking ───── v1.3.6\n",
      "\u001b[32m\u001b[1m   Installed\u001b[22m\u001b[39m Millboard ──────── v0.2.5\n",
      "\u001b[32m\u001b[1m   Installed\u001b[22m\u001b[39m Revise ─────────── v3.6.4\n",
      "\u001b[32m\u001b[1m   Installed\u001b[22m\u001b[39m LoweredCodeUtils ─ v3.1.0\n",
      "\u001b[32m\u001b[1m   Installed\u001b[22m\u001b[39m StringEncodings ── v0.3.7\n",
      "\u001b[32m\u001b[1m   Installed\u001b[22m\u001b[39m Glob ───────────── v1.3.1\n",
      "\u001b[32m\u001b[1m   Installed\u001b[22m\u001b[39m Tokenize ───────── v0.5.29\n",
      "\u001b[32m\u001b[1m   Installed\u001b[22m\u001b[39m DotEnv ─────────── v0.3.1\n",
      "\u001b[32m\u001b[1m   Installed\u001b[22m\u001b[39m JuliaInterpreter ─ v0.9.38\n",
      "\u001b[32m\u001b[1m   Installed\u001b[22m\u001b[39m YAML ───────────── v0.4.12\n",
      "\u001b[32m\u001b[1m   Installed\u001b[22m\u001b[39m MIMEs ──────────── v0.1.4\n",
      "\u001b[32m\u001b[1m   Installed\u001b[22m\u001b[39m CommonMark ─────── v0.8.15\n",
      "\u001b[32m\u001b[1m   Installed\u001b[22m\u001b[39m JuliaFormatter ─── v1.0.62\n",
      "\u001b[32m\u001b[1m   Installed\u001b[22m\u001b[39m Nullables ──────── v1.0.0\n",
      "\u001b[32m\u001b[1m   Installed\u001b[22m\u001b[39m Inflector ──────── v1.1.0\n",
      "\u001b[32m\u001b[1m   Installed\u001b[22m\u001b[39m Nettle_jll ─────── v3.10.0+0\n",
      "\u001b[32m\u001b[1m   Installed\u001b[22m\u001b[39m HttpCommon ─────── v0.5.0\n",
      "\u001b[32m\u001b[1m   Installed\u001b[22m\u001b[39m TextWrap ───────── v1.0.2\n",
      "\u001b[32m\u001b[1m   Installed\u001b[22m\u001b[39m CSTParser ──────── v3.4.3\n",
      "\u001b[32m\u001b[1m   Installed\u001b[22m\u001b[39m Genie ──────────── v5.20.0\n",
      "\u001b[32m\u001b[1m    Updating\u001b[22m\u001b[39m `~/.julia/environments/v1.10/Project.toml`\n",
      "\u001b[32m⌃\u001b[39m \u001b[90m[c43c736e] \u001b[39m\u001b[92m+ Genie v5.20.0\u001b[39m\n",
      "\u001b[32m\u001b[1m    Updating\u001b[22m\u001b[39m `~/.julia/environments/v1.10/Manifest.toml`\n",
      "  \u001b[90m[c7e460c6] \u001b[39m\u001b[92m+ ArgParse v1.2.0\u001b[39m\n",
      "  \u001b[90m[00ebfdb7] \u001b[39m\u001b[92m+ CSTParser v3.4.3\u001b[39m\n",
      "  \u001b[90m[da1fd8a2] \u001b[39m\u001b[92m+ CodeTracking v1.3.6\u001b[39m\n",
      "  \u001b[90m[a80b9123] \u001b[39m\u001b[92m+ CommonMark v0.8.15\u001b[39m\n",
      "\u001b[33m⌅\u001b[39m \u001b[90m[4dc1fcf4] \u001b[39m\u001b[92m+ DotEnv v0.3.1\u001b[39m\n",
      "  \u001b[90m[8f5d6c58] \u001b[39m\u001b[92m+ EzXML v1.2.0\u001b[39m\n",
      "\u001b[32m⌃\u001b[39m \u001b[90m[c43c736e] \u001b[39m\u001b[92m+ Genie v5.20.0\u001b[39m\n",
      "  \u001b[90m[c27321d9] \u001b[39m\u001b[92m+ Glob v1.3.1\u001b[39m\n",
      "  \u001b[90m[77172c1b] \u001b[39m\u001b[92m+ HttpCommon v0.5.0\u001b[39m\n",
      "  \u001b[90m[6d011eab] \u001b[39m\u001b[92m+ Inflector v1.1.0\u001b[39m\n",
      "  \u001b[90m[98e50ef6] \u001b[39m\u001b[92m+ JuliaFormatter v1.0.62\u001b[39m\n",
      "  \u001b[90m[aa1ae85d] \u001b[39m\u001b[92m+ JuliaInterpreter v0.9.38\u001b[39m\n",
      "  \u001b[90m[6f1432cf] \u001b[39m\u001b[92m+ LoweredCodeUtils v3.1.0\u001b[39m\n",
      "\u001b[33m⌅\u001b[39m \u001b[90m[6c6e2e6c] \u001b[39m\u001b[92m+ MIMEs v0.1.4\u001b[39m\n",
      "  \u001b[90m[39ec1447] \u001b[39m\u001b[92m+ Millboard v0.2.5\u001b[39m\n",
      "  \u001b[90m[49dea1ee] \u001b[39m\u001b[92m+ Nettle v1.0.0\u001b[39m\n",
      "  \u001b[90m[4d1e1d77] \u001b[39m\u001b[92m+ Nullables v1.0.0\u001b[39m\n",
      "  \u001b[90m[295af30f] \u001b[39m\u001b[92m+ Revise v3.6.4\u001b[39m\n",
      "  \u001b[90m[69024149] \u001b[39m\u001b[92m+ StringEncodings v0.3.7\u001b[39m\n",
      "  \u001b[90m[b718987f] \u001b[39m\u001b[92m+ TextWrap v1.0.2\u001b[39m\n",
      "  \u001b[90m[0796e94c] \u001b[39m\u001b[92m+ Tokenize v0.5.29\u001b[39m\n",
      "  \u001b[90m[30578b45] \u001b[39m\u001b[92m+ URIParser v0.4.1\u001b[39m\n",
      "  \u001b[90m[ddb6d928] \u001b[39m\u001b[92m+ YAML v0.4.12\u001b[39m\n",
      "  \u001b[90m[4c82536e] \u001b[39m\u001b[92m+ Nettle_jll v3.10.0+0\u001b[39m\n",
      "  \u001b[90m[781609d7] \u001b[39m\u001b[92m+ GMP_jll v6.2.1+6\u001b[39m\n",
      "\u001b[36m\u001b[1m        Info\u001b[22m\u001b[39m Packages marked with \u001b[32m⌃\u001b[39m and \u001b[33m⌅\u001b[39m have new versions available. Those with \u001b[32m⌃\u001b[39m may be upgradable, but those with \u001b[33m⌅\u001b[39m are restricted by compatibility constraints from upgrading. To see why use `status --outdated -m`\n",
      "\u001b[32m\u001b[1mPrecompiling\u001b[22m\u001b[39m project...\n",
      "\u001b[32m  ✓ \u001b[39m\u001b[90mDotEnv\u001b[39m\n",
      "\u001b[32m  ✓ \u001b[39m\u001b[90mURIParser\u001b[39m\n",
      "\u001b[32m  ✓ \u001b[39m\u001b[90mInflector\u001b[39m\n",
      "\u001b[32m  ✓ \u001b[39m\u001b[90mGlob\u001b[39m\n",
      "\u001b[32m  ✓ \u001b[39m\u001b[90mTextWrap\u001b[39m\n",
      "\u001b[32m  ✓ \u001b[39m\u001b[90mMillboard\u001b[39m\n",
      "\u001b[32m  ✓ \u001b[39m\u001b[90mNullables\u001b[39m\n",
      "\u001b[32m  ✓ \u001b[39m\u001b[90mMIMEs\u001b[39m\n",
      "\u001b[32m  ✓ \u001b[39m\u001b[90mCodeTracking\u001b[39m\n",
      "\u001b[32m  ✓ \u001b[39m\u001b[90mStringEncodings\u001b[39m\n",
      "\u001b[32m  ✓ \u001b[39m\u001b[90mTokenize\u001b[39m\n",
      "\u001b[32m  ✓ \u001b[39m\u001b[90mEzXML\u001b[39m\n",
      "\u001b[32m  ✓ \u001b[39m\u001b[90mArgParse\u001b[39m\n",
      "\u001b[32m  ✓ \u001b[39m\u001b[90mNettle_jll\u001b[39m\n",
      "\u001b[32m  ✓ \u001b[39m\u001b[90mYAML\u001b[39m\n",
      "\u001b[32m  ✓ \u001b[39m\u001b[90mHttpCommon\u001b[39m\n",
      "\u001b[32m  ✓ \u001b[39m\u001b[90mCommonMark\u001b[39m\n",
      "\u001b[32m  ✓ \u001b[39m\u001b[90mNettle\u001b[39m\n",
      "\u001b[32m  ✓ \u001b[39m\u001b[90mCSTParser\u001b[39m\n",
      "\u001b[32m  ✓ \u001b[39m\u001b[90mJuliaInterpreter\u001b[39m\n",
      "\u001b[32m  ✓ \u001b[39m\u001b[90mLoweredCodeUtils\u001b[39m\n",
      "\u001b[32m  ✓ \u001b[39m\u001b[90mJuliaFormatter\u001b[39m\n",
      "\u001b[32m  ✓ \u001b[39m\u001b[90mRevise\u001b[39m\n",
      "\u001b[32m  ✓ \u001b[39mGenie\n",
      "  24 dependencies successfully precompiled in 51 seconds. 219 already precompiled.\n",
      "  \u001b[33m1\u001b[39m dependency had output during precompilation:\u001b[33m\n",
      "┌ \u001b[39mLoweredCodeUtils\u001b[33m\n",
      "│  \u001b[39mWARNING: using IR.SSAValue in module LoweredCodeUtils conflicts with an existing identifier.\u001b[33m\n",
      "│  \u001b[39mWARNING: using IR.SlotNumber in module LoweredCodeUtils conflicts with an existing identifier.\u001b[33m\n",
      "└  \u001b[39m\n"
     ]
    }
   ],
   "source": [
    "Pkg.add(\"Genie\")"
   ]
  },
  {
   "cell_type": "code",
   "execution_count": null,
   "metadata": {},
   "outputs": [],
   "source": [
    "using Genie, Genie.Renderer.Html, Genie.Requests\n",
    "\n",
    "form = \"\"\"\n",
    "<form action=\"/\" method=\"POST\" enctype=\"multipart/form-data\">\n",
    "  <input type=\"text\" name=\"name\" value=\"\" placeholder=\"What's your name?\" />\n",
    "  <input type=\"submit\" value=\"Greet\" />\n",
    "</form>\n",
    "\"\"\"\n",
    "\n",
    "route(\"/\") do\n",
    "  html(form)\n",
    "end\n",
    "\n",
    "route(\"/\", method = POST) do\n",
    "  \"Hello $(postpayload(:name, \"Anon\"))\"\n",
    "end\n",
    "\n",
    "up()"
   ]
  }
 ],
 "metadata": {
  "kernelspec": {
   "display_name": "Julia 1.10.5",
   "language": "julia",
   "name": "julia-1.10"
  },
  "language_info": {
   "file_extension": ".jl",
   "mimetype": "application/julia",
   "name": "julia",
   "version": "1.10.5"
  }
 },
 "nbformat": 4,
 "nbformat_minor": 2
}
