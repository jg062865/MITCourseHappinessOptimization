{
 "cells": [
  {
   "cell_type": "code",
   "execution_count": null,
   "metadata": {},
   "outputs": [
    {
     "name": "stderr",
     "output_type": "stream",
     "text": [
      "\u001b[32m\u001b[1m   Resolving\u001b[22m\u001b[39m package versions...\n",
      "\u001b[32m\u001b[1m  No Changes\u001b[22m\u001b[39m to `~/.julia/environments/v1.10/Project.toml`\n",
      "\u001b[32m\u001b[1m  No Changes\u001b[22m\u001b[39m to `~/.julia/environments/v1.10/Manifest.toml`\n"
     ]
    }
   ],
   "source": [
    "using CSV, Tables\n",
    "using JuMP\n",
    "using Gurobi\n",
    "\n",
    "import Pkg; Pkg.add(\"JSON3\")\n",
    "using JSON3"
   ]
  },
  {
   "cell_type": "code",
   "execution_count": 4,
   "metadata": {},
   "outputs": [
    {
     "name": "stdout",
     "output_type": "stream",
     "text": [
      "Set parameter Username\n",
      "Academic license - for non-commercial use only - expires 2025-09-08\n"
     ]
    }
   ],
   "source": [
    "const GRB_ENV = Gurobi.Env(output_flag=1);"
   ]
  },
  {
   "cell_type": "markdown",
   "metadata": {},
   "source": [
    "## load in data"
   ]
  },
  {
   "cell_type": "code",
   "execution_count": 5,
   "metadata": {},
   "outputs": [],
   "source": [
    "all_classes = open(\"data/all_classes_info.json\", \"r\") do file \n",
    "    JSON3.read(file)\n",
    "end\n",
    "\n",
    "R = CSV.File(\"data/ratings.csv\",header=0) |> Tables.matrix;\n",
    "H = CSV.File(\"data/hours.csv\",header=0) |> Tables.matrix;\n",
    "U = CSV.File(\"data/units.csv\",header=0) |> Tables.matrix;\n",
    "\n",
    "vars = CSV.File(\"data/variables.csv\",header=0) |> Tables.matrix;\n",
    "n = vars[1];\n",
    "S = vars[2];"
   ]
  },
  {
   "cell_type": "code",
   "execution_count": 13,
   "metadata": {},
   "outputs": [
    {
     "data": {
      "text/plain": [
       "JSON3.Object{Base.CodeUnits{UInt8, String}, SubArray{UInt64, 1, Vector{UInt64}, Tuple{UnitRange{Int64}}, true}} with 28 entries:\n",
       "  :rating              => 5.4\n",
       "  :gir_attribute       => \"REST\"\n",
       "  :has_final           => false\n",
       "  :description         => \"Presents engineering problems in a computational set…\n",
       "  :offered_fall        => false\n",
       "  :offered_spring      => true\n",
       "  :meets_with_subjects => [\"1.001\"]\n",
       "  :instructors         => [\"J. Williams\"]\n",
       "  :out_of_class_hours  => 7.99\n",
       "  :total_units         => 12\n",
       "  :related_subjects    => [\"2.156\", \"1.205\", \"1.C51\", \"1.000\", \"1.631\", \"1.063\"…\n",
       "  :pdf_option          => false\n",
       "  :in_class_hours      => 5.7\n",
       "  :is_half_class       => false\n",
       "  :level               => \"U\"\n",
       "  :prerequisites       => \"GIR:CAL1\"\n",
       "  :subject_id          => \"1.00\"\n",
       "  :title               => \"Engineering Computation and Data Science\"\n",
       "  :lab_units           => 2\n",
       "  :design_units        => 0\n",
       "  :public              => true\n",
       "  :offered_summer      => false\n",
       "  :lecture_units       => 3\n",
       "  :preparation_units   => 7\n",
       "  :enrollment_number   => 25.43\n",
       "  ⋮                    => ⋮"
      ]
     },
     "execution_count": 13,
     "metadata": {},
     "output_type": "execute_result"
    }
   ],
   "source": [
    "all_classes[1]"
   ]
  },
  {
   "cell_type": "code",
   "execution_count": 16,
   "metadata": {},
   "outputs": [
    {
     "data": {
      "text/plain": [
       "3856"
      ]
     },
     "execution_count": 16,
     "metadata": {},
     "output_type": "execute_result"
    }
   ],
   "source": [
    "findfirst(x -> x[:subject_id] == \"8.01\", all_classes)"
   ]
  },
  {
   "cell_type": "code",
   "execution_count": 59,
   "metadata": {},
   "outputs": [
    {
     "data": {
      "text/plain": [
       "6-element Vector{Vector{Int64}}:\n",
       " [2962, 3303, 3304]\n",
       " [3856, 3857, 3858, 3859]\n",
       " [3860, 3861, 3862]\n",
       " [1536, 1537]\n",
       " [1538, 1540, 1539]\n",
       " [3752, 3753, 3754, 3755, 3756]"
      ]
     },
     "execution_count": 59,
     "metadata": {},
     "output_type": "execute_result"
    }
   ],
   "source": [
    "chem_gir_ids = [\"3.091\", \"5.111\", \"5.112\"]\n",
    "phys_1_gir_ids = [\"8.01\", \"8.011\", \"8.012\", \"8.01L\"]\n",
    "phys_2_gir_ids = [\"8.02\", \"8.021\", \"8.022\"]\n",
    "math_1_gir_ids = [\"18.01\", \"18.01A\"]\n",
    "math_2_gir_ids = [\"18.02\", \"18.02A\", \"18.022\"]\n",
    "bio_gir_ids = [\"7.012\", \"7.013\", \"7.014\", \"7.015\", \"7.016\"]\n",
    "gir_ids = [chem_gir_ids, phys_1_gir_ids, phys_2_gir_ids, math_1_gir_ids, math_2_gir_ids, bio_gir_ids]\n",
    "gir_subject_types = [[findfirst(x -> x[:subject_id] == gir_id, all_classes) for gir_id in gir_type] for gir_type in gir_ids]"
   ]
  },
  {
   "cell_type": "markdown",
   "metadata": {},
   "source": [
    "## optimize"
   ]
  },
  {
   "cell_type": "code",
   "execution_count": null,
   "metadata": {},
   "outputs": [],
   "source": [
    "model = Model(() -> Gurobi.Optimizer(GRB_ENV))\n",
    "\n",
    "α = 0.8\n",
    "\n",
    "# @variable(model, X[1:n,1:s] >=0)\n",
    "@variable(model, X[1:n, 1:S], Bin)\n",
    "@objective(model, Min, sum(α*H[i]*X[i,s] - (1-α)*R[i]*X[i,s] for i=1:n,s=1:S));\n",
    "\n",
    "##\n",
    "# CONSTRAINTS\n",
    "##\n",
    "\n",
    "# full-time; at least 36 units per semester\n",
    "@constraint(model, [s in 1:S], sum(U[i]*X[i, s] for i=1:n) >= 36);\n",
    "\n",
    "# wellbeing: no more than 112 hours per week\n",
    "@constraint(model, [s in 1:S], sum(H[i]*X[i, s] for i=1:n) <= 112);\n",
    "\n",
    "# not repeatable: cannot take a class again\n",
    "@constraint(model, [i in 1:n], sum(X[i, t] for t=1:S) <= 1);\n",
    "\n",
    "# GIR constraints\n",
    "@constraint(model, [gir_type in gir_subject_types], sum(X[gir_ind, s] for gir_ind in gir_type, s in 1:S) == 1);\n",
    "\n",
    "# taken correct semester\n",
    "@constraint(model, [s in 1:2:S, i in 1:n], X[i, s] <= all_classes[i][:offered_fall]);\n",
    "@constraint(model, [s in 2:2:S, i in 1:n], X[i, s] <= all_classes[i][:offered_spring]);\n",
    "\n",
    "# 2 CI-H or HW\n",
    "@constraint(model, sum(\n",
    "    (get(all_classes[i], :communication_requirement, \"\") in [\"CI-H\", \"CI-HW\"]) * X[i, s] for i=1:n, s=1:S) >= 2);\n",
    "\n",
    "# 8 HASS\n",
    "# @constraint(model, sum(\n",
    "#     (get(all_classes[i], :hass_attribute, \"\") in [\"HASS-H\", \"HASS-A\", \"HASS-S\"]) * X[i, s] for i=1:n, s=1:S) >= 8);\n",
    "\n",
    "# 1 of each HASS-H, A, S\n",
    "@constraint(model, [hass_type in [\"HASS-H\", \"HASS-A\", \"HASS-S\"]], sum(\n",
    "    (get(all_classes[i], :hass_attribute, \"\") in [hass_type]) * X[i, s] for i=1:n, s=1:S) >= 1);\n"
   ]
  },
  {
   "cell_type": "code",
   "execution_count": 107,
   "metadata": {},
   "outputs": [
    {
     "name": "stdout",
     "output_type": "stream",
     "text": [
      "Gurobi Optimizer version 11.0.2 build v11.0.2rc0 (mac64[x86] - Darwin 23.6.0 23G93)\n",
      "\n",
      "CPU model: Intel(R) Core(TM) i5-8257U CPU @ 1.40GHz\n",
      "Thread count: 4 physical cores, 8 logical processors, using up to 8 threads\n",
      "\n",
      "Optimize a model with 42353 rows, 37624 columns and 155976 nonzeros\n",
      "Model fingerprint: 0x0d9dfab2\n",
      "Variable types: 0 continuous, 37624 integer (37624 binary)\n",
      "Coefficient statistics:\n",
      "  Matrix range     [1e+00, 8e+01]\n",
      "  Objective range  [2e-02, 6e+01]\n",
      "  Bounds range     [0e+00, 0e+00]\n",
      "  RHS range        [1e+00, 1e+02]\n",
      "Found heuristic solution: objective 182.6560000\n",
      "Presolve removed 38267 rows and 19800 columns\n",
      "Presolve time: 0.18s\n",
      "Presolved: 4086 rows, 17824 columns, 58692 nonzeros\n",
      "Found heuristic solution: objective 131.6860000\n",
      "Variable types: 0 continuous, 17824 integer (17824 binary)\n",
      "Found heuristic solution: objective 120.0340000\n",
      "\n",
      "Root relaxation: objective 6.405400e+01, 114 iterations, 0.01 seconds (0.01 work units)\n",
      "\n",
      "    Nodes    |    Current Node    |     Objective Bounds      |     Work\n",
      " Expl Unexpl |  Obj  Depth IntInf | Incumbent    BestBd   Gap | It/Node Time\n",
      "\n",
      "     0     0   64.05400    0    2  120.03400   64.05400  46.6%     -    0s\n",
      "H    0     0                      67.0960000   64.05400  4.53%     -    0s\n",
      "H    0     0                      64.0540000   64.05400  0.00%     -    0s\n",
      "     0     0   64.05400    0    2   64.05400   64.05400  0.00%     -    0s\n",
      "\n",
      "Explored 1 nodes (175 simplex iterations) in 0.37 seconds (0.23 work units)\n",
      "Thread count was 8 (of 8 available processors)\n",
      "\n",
      "Solution count 5: 64.054 67.096 120.034 ... 182.656\n",
      "\n",
      "Optimal solution found (tolerance 1.00e-04)\n",
      "Best objective 6.405400000000e+01, best bound 6.405400000000e+01, gap 0.0000%\n",
      "\n",
      "User-callback calls 352, time in user-callback 0.00 sec\n"
     ]
    }
   ],
   "source": [
    "optimize!(model)"
   ]
  },
  {
   "cell_type": "code",
   "execution_count": 108,
   "metadata": {},
   "outputs": [
    {
     "data": {
      "text/plain": [
       "8-element Vector{Vector{Int64}}:\n",
       " [294, 1953, 2021, 2885, 3017, 3755, 4511]\n",
       " [144, 714, 1666]\n",
       " [1536, 3861, 4492]\n",
       " [1350, 3337, 4295, 4347]\n",
       " [1180, 1539, 2600, 4160]\n",
       " [100, 974, 978, 3857]\n",
       " [296, 1324, 1946, 2115, 4141]\n",
       " [816, 1025, 2919, 2962]"
      ]
     },
     "execution_count": 108,
     "metadata": {},
     "output_type": "execute_result"
    }
   ],
   "source": [
    "taken_classes_sem = [[ind for (ind, val) in enumerate(sem) if val == 1] for sem in eachcol(value.(X))]"
   ]
  },
  {
   "cell_type": "markdown",
   "metadata": {},
   "source": [
    "## Interpreter"
   ]
  },
  {
   "cell_type": "code",
   "execution_count": 100,
   "metadata": {},
   "outputs": [
    {
     "data": {
      "text/plain": [
       "interpret_course_attr (generic function with 1 method)"
      ]
     },
     "execution_count": 100,
     "metadata": {},
     "output_type": "execute_result"
    }
   ],
   "source": [
    "function interpret_course_nums(classes_id_per_sem)\n",
    "    course_nums = [[all_classes[class_ind][:subject_id] for class_ind in sem] for sem in classes_id_per_sem]\n",
    "    return course_nums\n",
    "end\n",
    "\n",
    "function interpret_course_attr(classes_id_per_sem, attr)\n",
    "    courses_attr = [[get(all_classes[class_ind], Symbol(attr), \"\") for class_ind in sem] for sem in classes_id_per_sem]\n",
    "    return courses_attr\n",
    "end"
   ]
  },
  {
   "cell_type": "code",
   "execution_count": 109,
   "metadata": {},
   "outputs": [
    {
     "data": {
      "text/plain": [
       "8-element Vector{Vector{String}}:\n",
       " [\"10.960\", \"20.053\", \"20.S900\", \"24.93\", \"3.903\", \"7.015\", \"MS.101\"]\n",
       " [\"1.713\", \"12.834\", \"18.727\"]\n",
       " [\"18.01\", \"8.021\", \"MAS.921\"]\n",
       " [\"16.84\", \"5.561\", \"ES.113\", \"HST.533\"]\n",
       " [\"15.839\", \"18.022\", \"21M.622\", \"CMS.827\"]\n",
       " [\"1.267\", \"15.323\", \"15.335\", \"8.011\"]\n",
       " [\"10.991\", \"16.634\", \"20.001\", \"21G.053\", \"CMS.627\"]\n",
       " [\"14.399\", \"15.3941\", \"3.006\", \"3.091\"]"
      ]
     },
     "execution_count": 109,
     "metadata": {},
     "output_type": "execute_result"
    }
   ],
   "source": [
    "interpret_course_nums(taken_classes_sem)"
   ]
  },
  {
   "cell_type": "code",
   "execution_count": 111,
   "metadata": {},
   "outputs": [
    {
     "data": {
      "text/plain": [
       "8-element Vector{Vector{String}}:\n",
       " [\"\", \"\", \"\", \"\", \"\", \"\", \"\"]\n",
       " [\"\", \"\", \"\"]\n",
       " [\"\", \"\", \"\"]\n",
       " [\"\", \"\", \"HASS-H\", \"\"]\n",
       " [\"\", \"\", \"HASS-A\", \"\"]\n",
       " [\"\", \"\", \"\", \"\"]\n",
       " [\"\", \"\", \"\", \"HASS-S\", \"HASS-A\"]\n",
       " [\"\", \"\", \"\", \"\"]"
      ]
     },
     "execution_count": 111,
     "metadata": {},
     "output_type": "execute_result"
    }
   ],
   "source": [
    "interpret_course_attr(taken_classes_sem, \"hass_attribute\")"
   ]
  }
 ],
 "metadata": {
  "kernelspec": {
   "display_name": "Julia 1.10.5",
   "language": "julia",
   "name": "julia-1.10"
  },
  "language_info": {
   "file_extension": ".jl",
   "mimetype": "application/julia",
   "name": "julia",
   "version": "1.10.5"
  }
 },
 "nbformat": 4,
 "nbformat_minor": 2
}
