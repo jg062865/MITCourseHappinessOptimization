{
 "cells": [
  {
   "cell_type": "code",
   "execution_count": 21,
   "metadata": {},
   "outputs": [
    {
     "name": "stderr",
     "output_type": "stream",
     "text": [
      "\u001b[32m\u001b[1m   Resolving\u001b[22m\u001b[39m package versions...\n",
      "\u001b[32m\u001b[1m  No Changes\u001b[22m\u001b[39m to `~/.julia/environments/v1.10/Project.toml`\n",
      "\u001b[32m\u001b[1m  No Changes\u001b[22m\u001b[39m to `~/.julia/environments/v1.10/Manifest.toml`\n"
     ]
    }
   ],
   "source": [
    "using CSV, Tables\n",
    "using JuMP\n",
    "using Gurobi\n",
    "\n",
    "import Pkg; Pkg.add(\"JSON3\")\n",
    "using JSON3"
   ]
  },
  {
   "cell_type": "code",
   "execution_count": 7,
   "metadata": {},
   "outputs": [
    {
     "name": "stdout",
     "output_type": "stream",
     "text": [
      "Set parameter Username\n",
      "Academic license - for non-commercial use only - expires 2025-09-08\n"
     ]
    }
   ],
   "source": [
    "const GRB_ENV = Gurobi.Env(output_flag=1);"
   ]
  },
  {
   "cell_type": "markdown",
   "metadata": {},
   "source": [
    "## load in data"
   ]
  },
  {
   "cell_type": "code",
   "execution_count": null,
   "metadata": {},
   "outputs": [],
   "source": [
    "all_classes = open(\"data/all_classes_info.json\", \"r\") do file \n",
    "    JSON3.read(file)\n",
    "end\n",
    "\n",
    "R = CSV.File(\"data/ratings.csv\",header=0) |> Tables.matrix;\n",
    "H = CSV.File(\"data/hours.csv\",header=0) |> Tables.matrix;\n",
    "U = CSV.File(\"data/units.csv\",header=0) |> Tables.matrix;\n",
    "\n",
    "vars = CSV.File(\"data/variables.csv\",header=0) |> Tables.matrix;\n",
    "n = vars[1];\n",
    "S = vars[2];"
   ]
  },
  {
   "cell_type": "code",
   "execution_count": 24,
   "metadata": {},
   "outputs": [
    {
     "data": {
      "text/plain": [
       "JSON3.Object{Base.CodeUnits{UInt8, String}, SubArray{UInt64, 1, Vector{UInt64}, Tuple{UnitRange{Int64}}, true}} with 28 entries:\n",
       "  :rating              => 5.4\n",
       "  :gir_attribute       => \"REST\"\n",
       "  :has_final           => false\n",
       "  :description         => \"Presents engineering problems in a computational set…\n",
       "  :offered_fall        => false\n",
       "  :offered_spring      => true\n",
       "  :meets_with_subjects => [\"1.001\"]\n",
       "  :instructors         => [\"J. Williams\"]\n",
       "  :out_of_class_hours  => 7.99\n",
       "  :total_units         => 12\n",
       "  :related_subjects    => [\"2.156\", \"1.205\", \"1.C51\", \"1.000\", \"1.631\", \"1.063\"…\n",
       "  :pdf_option          => false\n",
       "  :in_class_hours      => 5.7\n",
       "  :is_half_class       => false\n",
       "  :level               => \"U\"\n",
       "  :prerequisites       => \"GIR:CAL1\"\n",
       "  :subject_id          => \"1.00\"\n",
       "  :title               => \"Engineering Computation and Data Science\"\n",
       "  :lab_units           => 2\n",
       "  :design_units        => 0\n",
       "  :public              => true\n",
       "  :offered_summer      => false\n",
       "  :lecture_units       => 3\n",
       "  :preparation_units   => 7\n",
       "  :enrollment_number   => 25.43\n",
       "  ⋮                    => ⋮"
      ]
     },
     "execution_count": 24,
     "metadata": {},
     "output_type": "execute_result"
    }
   ],
   "source": [
    "all_classes[1]"
   ]
  },
  {
   "cell_type": "code",
   "execution_count": 19,
   "metadata": {},
   "outputs": [
    {
     "data": {
      "text/plain": [
       "\"{\\n                \\\"rating\\\": 5.4,\\n         \\\"gir_attribute\\\": \\\"REST\\\",\\n             \\\"has_final\\\": false,\\n           \\\"description\\\": \\\"Presents engineering problems in a computational setting with emphasis on data science and problem abstraction. Covers exploratory data analysi\"\u001b[93m\u001b[1m ⋯ 1448 bytes ⋯ \u001b[22m\u001b[39m\"true,\\n        \\\"offered_summer\\\": false,\\n         \\\"lecture_units\\\": 3,\\n     \\\"preparation_units\\\": 7,\\n     \\\"enrollment_number\\\": 25.43,\\n                   \\\"url\\\": \\\"http://student.mit.edu/catalog/m1a.html#1.00\\\",\\n     \\\"is_variable_units\\\": false,\\n           \\\"offered_IAP\\\": false\\n}\""
      ]
     },
     "execution_count": 19,
     "metadata": {},
     "output_type": "execute_result"
    }
   ],
   "source": [
    "all_classes[1]"
   ]
  },
  {
   "cell_type": "code",
   "execution_count": 13,
   "metadata": {},
   "outputs": [
    {
     "name": "stdout",
     "output_type": "stream",
     "text": [
      "Gurobi Optimizer version 11.0.2 build v11.0.2rc0 (mac64[x86] - Darwin 23.6.0 23G93)\n",
      "\n",
      "CPU model: Intel(R) Core(TM) i5-8257U CPU @ 1.40GHz\n",
      "Thread count: 4 physical cores, 8 logical processors, using up to 8 threads\n",
      "\n",
      "Optimize a model with 16 rows, 37624 columns and 70984 nonzeros\n",
      "Model fingerprint: 0x22f7e491\n",
      "Variable types: 0 continuous, 37624 integer (37624 binary)\n",
      "Coefficient statistics:\n",
      "  Matrix range     [1e+00, 8e+01]\n",
      "  Objective range  [2e-02, 6e+01]\n",
      "  Bounds range     [0e+00, 0e+00]\n",
      "  RHS range        [4e+01, 1e+02]\n",
      "Found heuristic solution: objective 153.5920000\n",
      "Presolve removed 14 rows and 34443 columns\n",
      "Presolve time: 0.17s\n",
      "Presolved: 2 rows, 3181 columns, 6360 nonzeros\n",
      "Found heuristic solution: objective 17.8000000\n",
      "Variable types: 0 continuous, 3181 integer (2476 binary)\n",
      "Found heuristic solution: objective 14.6400000\n",
      "\n",
      "Root relaxation: objective 4.125000e+00, 1 iterations, 0.00 seconds (0.00 work units)\n",
      "\n",
      "    Nodes    |    Current Node    |     Objective Bounds      |     Work\n",
      " Expl Unexpl |  Obj  Depth IntInf | Incumbent    BestBd   Gap | It/Node Time\n",
      "\n",
      "     0     0    4.12500    0    1   14.64000    4.12500  71.8%     -    0s\n",
      "H    0     0                       8.0100000    4.12500  48.5%     -    0s\n",
      "H    0     0                       4.2400000    4.12500  2.71%     -    0s\n",
      "\n",
      "Explored 1 nodes (1 simplex iterations) in 0.19 seconds (0.10 work units)\n",
      "Thread count was 8 (of 8 available processors)\n",
      "\n",
      "Solution count 5: 4.24 8.01 14.64 ... 153.592\n",
      "\n",
      "Optimal solution found (tolerance 1.00e-04)\n",
      "Best objective 4.240000000000e+00, best bound 4.240000000000e+00, gap 0.0000%\n",
      "\n",
      "User-callback calls 333, time in user-callback 0.00 sec\n"
     ]
    }
   ],
   "source": [
    "model = Model(() -> Gurobi.Optimizer(GRB_ENV))\n",
    "\n",
    "α = 0.8\n",
    "\n",
    "# @variable(model, X[1:n,1:s] >=0)\n",
    "@variable(model, X[1:n, 1:S], Bin)\n",
    "\n",
    "@objective(model, Min, sum(α*H[i]*X[i,s] - (1-α)*R[i]*X[i,s] for i=1:n,s=1:S));\n",
    "\n",
    "# full-time; at least 36 units per semester\n",
    "@constraint(model, [s in 1:S], sum(U[i]*X[i, s] for i=1:n) >= 36);\n",
    "# wellbeing: no more than 112 hours\n",
    "@constraint(model, [s in 1:S], sum(H[i]*X[i, s] for i=1:n) <= 112);\n",
    "# not repeatable: cannot take a class again\n",
    "# TODO\n",
    "\n",
    "optimize!(model)"
   ]
  },
  {
   "cell_type": "code",
   "execution_count": 14,
   "metadata": {},
   "outputs": [
    {
     "data": {
      "text/plain": [
       "8-element Vector{Vector{Int64}}:\n",
       " [294, 714, 816, 1180, 2021, 2885, 3017, 4347]\n",
       " [294, 714, 816, 1180, 2021, 2885, 3017, 4347]\n",
       " [294, 714, 816, 1180, 2021, 2885, 3017, 4347]\n",
       " [144, 294, 816, 1180, 2021, 2885, 3017, 4347]\n",
       " [144, 294, 816, 1180, 2021, 2885, 3017, 4347]\n",
       " [294, 714, 816, 1180, 2021, 2885, 3017, 4347]\n",
       " [144, 294, 816, 1180, 2021, 2885, 3017, 4347]\n",
       " [294, 714, 816, 1180, 2021, 2885, 3017, 4347]"
      ]
     },
     "execution_count": 14,
     "metadata": {},
     "output_type": "execute_result"
    }
   ],
   "source": [
    "taken_classes_sem = [[ind for (ind, val) in enumerate(sem) if val == 1] for sem in eachcol(value.(X))]"
   ]
  },
  {
   "cell_type": "markdown",
   "metadata": {},
   "source": [
    "## Interpreter"
   ]
  },
  {
   "cell_type": "code",
   "execution_count": 15,
   "metadata": {},
   "outputs": [
    {
     "data": {
      "text/plain": [
       "interpret_course_nums (generic function with 1 method)"
      ]
     },
     "execution_count": 15,
     "metadata": {},
     "output_type": "execute_result"
    }
   ],
   "source": [
    "function interpret_course_nums(classes_id_per_sem)\n",
    "    course_nums = [[all_classes[class_ind][:subject_id] for class_ind in sem] for sem in classes_id_per_sem]\n",
    "    return course_nums\n",
    "end"
   ]
  },
  {
   "cell_type": "code",
   "execution_count": 26,
   "metadata": {},
   "outputs": [
    {
     "data": {
      "text/plain": [
       "8-element Vector{Vector{String}}:\n",
       " [\"10.960\", \"12.834\", \"14.399\", \"15.839\", \"20.S900\", \"24.93\", \"3.903\", \"HST.533\"]\n",
       " [\"10.960\", \"12.834\", \"14.399\", \"15.839\", \"20.S900\", \"24.93\", \"3.903\", \"HST.533\"]\n",
       " [\"10.960\", \"12.834\", \"14.399\", \"15.839\", \"20.S900\", \"24.93\", \"3.903\", \"HST.533\"]\n",
       " [\"1.713\", \"10.960\", \"14.399\", \"15.839\", \"20.S900\", \"24.93\", \"3.903\", \"HST.533\"]\n",
       " [\"1.713\", \"10.960\", \"14.399\", \"15.839\", \"20.S900\", \"24.93\", \"3.903\", \"HST.533\"]\n",
       " [\"10.960\", \"12.834\", \"14.399\", \"15.839\", \"20.S900\", \"24.93\", \"3.903\", \"HST.533\"]\n",
       " [\"1.713\", \"10.960\", \"14.399\", \"15.839\", \"20.S900\", \"24.93\", \"3.903\", \"HST.533\"]\n",
       " [\"10.960\", \"12.834\", \"14.399\", \"15.839\", \"20.S900\", \"24.93\", \"3.903\", \"HST.533\"]"
      ]
     },
     "execution_count": 26,
     "metadata": {},
     "output_type": "execute_result"
    }
   ],
   "source": [
    "interpret_course_nums(taken_classes_sem)"
   ]
  }
 ],
 "metadata": {
  "kernelspec": {
   "display_name": "Julia 1.10.5",
   "language": "julia",
   "name": "julia-1.10"
  },
  "language_info": {
   "file_extension": ".jl",
   "mimetype": "application/julia",
   "name": "julia",
   "version": "1.10.5"
  }
 },
 "nbformat": 4,
 "nbformat_minor": 2
}
