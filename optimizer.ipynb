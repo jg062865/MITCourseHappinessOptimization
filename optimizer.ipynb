{
 "cells": [
  {
   "cell_type": "code",
   "execution_count": null,
   "metadata": {},
   "outputs": [
    {
     "name": "stderr",
     "output_type": "stream",
     "text": [
      "\u001b[32m\u001b[1m   Resolving\u001b[22m\u001b[39m package versions...\n",
      "\u001b[32m\u001b[1m  No Changes\u001b[22m\u001b[39m to `~/.julia/environments/v1.10/Project.toml`\n",
      "\u001b[32m\u001b[1m  No Changes\u001b[22m\u001b[39m to `~/.julia/environments/v1.10/Manifest.toml`\n"
     ]
    }
   ],
   "source": [
    "using CSV, Tables\n",
    "using JuMP\n",
    "using Gurobi\n",
    "\n",
    "import Pkg; Pkg.add(\"JSON3\")\n",
    "using JSON3"
   ]
  },
  {
   "cell_type": "code",
   "execution_count": 4,
   "metadata": {},
   "outputs": [
    {
     "name": "stdout",
     "output_type": "stream",
     "text": [
      "Set parameter Username\n",
      "Academic license - for non-commercial use only - expires 2025-09-08\n"
     ]
    }
   ],
   "source": [
    "const GRB_ENV = Gurobi.Env(output_flag=1);"
   ]
  },
  {
   "cell_type": "markdown",
   "metadata": {},
   "source": [
    "## load in data"
   ]
  },
  {
   "cell_type": "code",
   "execution_count": 5,
   "metadata": {},
   "outputs": [],
   "source": [
    "all_classes = open(\"data/all_classes_info.json\", \"r\") do file \n",
    "    JSON3.read(file)\n",
    "end\n",
    "\n",
    "R = CSV.File(\"data/ratings.csv\",header=0) |> Tables.matrix;\n",
    "H = CSV.File(\"data/hours.csv\",header=0) |> Tables.matrix;\n",
    "U = CSV.File(\"data/units.csv\",header=0) |> Tables.matrix;\n",
    "\n",
    "vars = CSV.File(\"data/variables.csv\",header=0) |> Tables.matrix;\n",
    "n = vars[1];\n",
    "S = vars[2];"
   ]
  },
  {
   "cell_type": "code",
   "execution_count": 6,
   "metadata": {},
   "outputs": [
    {
     "data": {
      "text/plain": [
       "JSON3.Object{Base.CodeUnits{UInt8, String}, SubArray{UInt64, 1, Vector{UInt64}, Tuple{UnitRange{Int64}}, true}} with 28 entries:\n",
       "  :rating              => 5.4\n",
       "  :gir_attribute       => \"REST\"\n",
       "  :has_final           => false\n",
       "  :description         => \"Presents engineering problems in a computational set…\n",
       "  :offered_fall        => false\n",
       "  :offered_spring      => true\n",
       "  :meets_with_subjects => [\"1.001\"]\n",
       "  :instructors         => [\"J. Williams\"]\n",
       "  :out_of_class_hours  => 7.99\n",
       "  :total_units         => 12\n",
       "  :related_subjects    => [\"2.156\", \"1.205\", \"1.C51\", \"1.000\", \"1.631\", \"1.063\"…\n",
       "  :pdf_option          => false\n",
       "  :in_class_hours      => 5.7\n",
       "  :is_half_class       => false\n",
       "  :level               => \"U\"\n",
       "  :prerequisites       => \"GIR:CAL1\"\n",
       "  :subject_id          => \"1.00\"\n",
       "  :title               => \"Engineering Computation and Data Science\"\n",
       "  :lab_units           => 2\n",
       "  :design_units        => 0\n",
       "  :public              => true\n",
       "  :offered_summer      => false\n",
       "  :lecture_units       => 3\n",
       "  :preparation_units   => 7\n",
       "  :enrollment_number   => 25.43\n",
       "  ⋮                    => ⋮"
      ]
     },
     "execution_count": 6,
     "metadata": {},
     "output_type": "execute_result"
    }
   ],
   "source": [
    "all_classes[1]"
   ]
  },
  {
   "cell_type": "code",
   "execution_count": 8,
   "metadata": {},
   "outputs": [
    {
     "name": "stdout",
     "output_type": "stream",
     "text": [
      "Gurobi Optimizer version 11.0.2 build v11.0.2rc0 (mac64[x86] - Darwin 23.6.0 23G93)\n",
      "\n",
      "CPU model: Intel(R) Core(TM) i5-8257U CPU @ 1.40GHz\n",
      "Thread count: 4 physical cores, 8 logical processors, using up to 8 threads\n",
      "\n",
      "Optimize a model with 32937 rows, 37624 columns and 235589 nonzeros\n",
      "Model fingerprint: 0x6dee8709\n",
      "Variable types: 0 continuous, 37624 integer (37624 binary)\n",
      "Coefficient statistics:\n",
      "  Matrix range     [1e+00, 8e+01]\n",
      "  Objective range  [2e-02, 6e+01]\n",
      "  Bounds range     [0e+00, 0e+00]\n",
      "  RHS range        [1e+00, 1e+02]\n",
      "Found heuristic solution: objective 158.2820000\n",
      "Presolve removed 28749 rows and 4248 columns\n",
      "Presolve time: 0.76s\n",
      "Presolved: 4188 rows, 33376 columns, 100112 nonzeros\n",
      "Variable types: 0 continuous, 33376 integer (33376 binary)\n",
      "Found heuristic solution: objective 119.7880000\n",
      "Deterministic concurrent LP optimizer: primal and dual simplex\n",
      "Showing primal log only...\n",
      "\n",
      "Concurrent spin time: 0.00s\n",
      "\n",
      "Solved with dual simplex\n",
      "\n",
      "Use crossover to convert LP symmetric solution to basic solution...\n",
      "\n",
      "Root relaxation: objective 3.751844e+01, 277 iterations, 0.10 seconds (0.05 work units)\n",
      "\n",
      "    Nodes    |    Current Node    |     Objective Bounds      |     Work\n",
      " Expl Unexpl |  Obj  Depth IntInf | Incumbent    BestBd   Gap | It/Node Time\n",
      "\n",
      "     0     0   37.51844    0    5  119.78800   37.51844  68.7%     -    0s\n",
      "H    0     0                      37.8600000   37.51844  0.90%     -    0s\n",
      "H    0     0                      37.5240000   37.51844  0.01%     -    1s\n",
      "\n",
      "Cutting planes:\n",
      "  Gomory: 4\n",
      "  RLT: 1\n",
      "\n",
      "Explored 1 nodes (398 simplex iterations) in 1.29 seconds (0.66 work units)\n",
      "Thread count was 8 (of 8 available processors)\n",
      "\n",
      "Solution count 4: 37.524 37.86 119.788 158.282 \n",
      "\n",
      "Optimal solution found (tolerance 1.00e-04)\n",
      "Best objective 3.752400000000e+01, best bound 3.752400000000e+01, gap 0.0000%\n",
      "\n",
      "User-callback calls 354, time in user-callback 0.01 sec\n"
     ]
    }
   ],
   "source": [
    "model = Model(() -> Gurobi.Optimizer(GRB_ENV))\n",
    "\n",
    "α = 0.8\n",
    "\n",
    "# @variable(model, X[1:n,1:s] >=0)\n",
    "@variable(model, X[1:n, 1:S], Bin)\n",
    "\n",
    "@objective(model, Min, sum(α*H[i]*X[i,s] - (1-α)*R[i]*X[i,s] for i=1:n,s=1:S));\n",
    "\n",
    "# full-time; at least 36 units per semester\n",
    "@constraint(model, [s in 1:S], sum(U[i]*X[i, s] for i=1:n) >= 36);\n",
    "# wellbeing: no more than 112 hours\n",
    "@constraint(model, [s in 1:S], sum(H[i]*X[i, s] for i=1:n) <= 112);\n",
    "# not repeatable: cannot take a class again\n",
    "for i in 1:n\n",
    "    for t in 1:(S - 1)\n",
    "        @constraint(model, sum(X[i, t:end]) <= 1)\n",
    "    end\n",
    "end\n",
    "\n",
    "optimize!(model)"
   ]
  },
  {
   "cell_type": "code",
   "execution_count": 9,
   "metadata": {},
   "outputs": [
    {
     "data": {
      "text/plain": [
       "8-element Vector{Vector{Int64}}:\n",
       " [1953, 2021, 3984, 4141]\n",
       " [294, 296, 974, 2885, 2892, 3017, 3994]\n",
       " [1914, 2625, 2915, 2919, 4492, 4557]\n",
       " [144, 714, 3369, 4347]\n",
       " [6, 978, 1025, 1666, 1946]\n",
       " [816, 1324, 2866, 3149]\n",
       " [725, 1180, 2600, 3337, 4160]\n",
       " [100, 1350, 4220, 4511]"
      ]
     },
     "execution_count": 9,
     "metadata": {},
     "output_type": "execute_result"
    }
   ],
   "source": [
    "taken_classes_sem = [[ind for (ind, val) in enumerate(sem) if val == 1] for sem in eachcol(value.(X))]"
   ]
  },
  {
   "cell_type": "markdown",
   "metadata": {},
   "source": [
    "## Interpreter"
   ]
  },
  {
   "cell_type": "code",
   "execution_count": 10,
   "metadata": {},
   "outputs": [
    {
     "data": {
      "text/plain": [
       "interpret_course_nums (generic function with 1 method)"
      ]
     },
     "execution_count": 10,
     "metadata": {},
     "output_type": "execute_result"
    }
   ],
   "source": [
    "function interpret_course_nums(classes_id_per_sem)\n",
    "    course_nums = [[all_classes[class_ind][:subject_id] for class_ind in sem] for sem in classes_id_per_sem]\n",
    "    return course_nums\n",
    "end"
   ]
  },
  {
   "cell_type": "code",
   "execution_count": 11,
   "metadata": {},
   "outputs": [
    {
     "data": {
      "text/plain": [
       "8-element Vector{Vector{String}}:\n",
       " [\"20.053\", \"20.S900\", \"9.271\", \"CMS.627\"]\n",
       " [\"10.960\", \"10.991\", \"15.323\", \"24.93\", \"24.947\", \"3.903\", \"9.357\"]\n",
       " [\"2.991\", \"21M.747\", \"3.001\", \"3.006\", \"MAS.921\", \"SP.257\"]\n",
       " [\"1.713\", \"12.834\", \"6.072\", \"HST.533\"]\n",
       " [\"1.008\", \"15.335\", \"15.3941\", \"18.727\", \"20.001\"]\n",
       " [\"14.399\", \"16.634\", \"24.805\", \"4.359\"]\n",
       " [\"12.900\", \"15.839\", \"21M.622\", \"5.561\", \"CMS.827\"]\n",
       " [\"1.267\", \"16.84\", \"EC.110\", \"MS.101\"]"
      ]
     },
     "execution_count": 11,
     "metadata": {},
     "output_type": "execute_result"
    }
   ],
   "source": [
    "interpret_course_nums(taken_classes_sem)"
   ]
  }
 ],
 "metadata": {
  "kernelspec": {
   "display_name": "Julia 1.10.5",
   "language": "julia",
   "name": "julia-1.10"
  },
  "language_info": {
   "file_extension": ".jl",
   "mimetype": "application/julia",
   "name": "julia",
   "version": "1.10.5"
  }
 },
 "nbformat": 4,
 "nbformat_minor": 2
}
