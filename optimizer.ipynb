{
 "cells": [
  {
   "cell_type": "code",
   "execution_count": null,
   "metadata": {},
   "outputs": [
    {
     "name": "stderr",
     "output_type": "stream",
     "text": [
      "\u001b[32m\u001b[1m   Resolving\u001b[22m\u001b[39m package versions...\n",
      "\u001b[32m\u001b[1m  No Changes\u001b[22m\u001b[39m to `~/.julia/environments/v1.10/Project.toml`\n",
      "\u001b[32m\u001b[1m  No Changes\u001b[22m\u001b[39m to `~/.julia/environments/v1.10/Manifest.toml`\n"
     ]
    }
   ],
   "source": [
    "using CSV, Tables\n",
    "using JuMP\n",
    "using Gurobi\n",
    "\n",
    "import Pkg; Pkg.add(\"JSON3\")\n",
    "using JSON3"
   ]
  },
  {
   "cell_type": "code",
   "execution_count": 4,
   "metadata": {},
   "outputs": [
    {
     "name": "stdout",
     "output_type": "stream",
     "text": [
      "Set parameter Username\n",
      "Academic license - for non-commercial use only - expires 2025-09-08\n"
     ]
    }
   ],
   "source": [
    "const GRB_ENV = Gurobi.Env(output_flag=1);"
   ]
  },
  {
   "cell_type": "markdown",
   "metadata": {},
   "source": [
    "## load in data"
   ]
  },
  {
   "cell_type": "code",
   "execution_count": 145,
   "metadata": {},
   "outputs": [],
   "source": [
    "all_classes = open(\"data/all_classes_info.json\", \"r\") do file \n",
    "    JSON3.read(file)\n",
    "end\n",
    "\n",
    "R = CSV.File(\"data/ratings.csv\",header=0) |> Tables.matrix;\n",
    "H = CSV.File(\"data/hours.csv\",header=0) |> Tables.matrix;\n",
    "U = CSV.File(\"data/units.csv\",header=0) |> Tables.matrix;\n",
    "\n",
    "vars = CSV.File(\"data/variables.csv\",header=0) |> Tables.matrix;\n",
    "n = vars[1];\n",
    "S = vars[2];"
   ]
  },
  {
   "cell_type": "code",
   "execution_count": 146,
   "metadata": {},
   "outputs": [
    {
     "data": {
      "text/plain": [
       "JSON3.Object{Base.CodeUnits{UInt8, String}, SubArray{UInt64, 1, Vector{UInt64}, Tuple{UnitRange{Int64}}, true}} with 28 entries:\n",
       "  :rating              => 5.4\n",
       "  :gir_attribute       => \"REST\"\n",
       "  :has_final           => false\n",
       "  :description         => \"Presents engineering problems in a computational set…\n",
       "  :offered_fall        => false\n",
       "  :offered_spring      => true\n",
       "  :meets_with_subjects => [\"1.001\"]\n",
       "  :instructors         => [\"J. Williams\"]\n",
       "  :out_of_class_hours  => 7.99\n",
       "  :total_units         => 12\n",
       "  :related_subjects    => [\"2.156\", \"1.205\", \"1.C51\", \"1.000\", \"1.631\", \"1.063\"…\n",
       "  :pdf_option          => false\n",
       "  :in_class_hours      => 5.7\n",
       "  :is_half_class       => false\n",
       "  :level               => \"U\"\n",
       "  :prerequisites       => \"GIR:CAL1\"\n",
       "  :subject_id          => \"1.00\"\n",
       "  :title               => \"Engineering Computation and Data Science\"\n",
       "  :lab_units           => 2\n",
       "  :design_units        => 0\n",
       "  :public              => true\n",
       "  :offered_summer      => false\n",
       "  :lecture_units       => 3\n",
       "  :preparation_units   => 7\n",
       "  :enrollment_number   => 25.43\n",
       "  ⋮                    => ⋮"
      ]
     },
     "execution_count": 146,
     "metadata": {},
     "output_type": "execute_result"
    }
   ],
   "source": [
    "all_classes[1]"
   ]
  },
  {
   "cell_type": "code",
   "execution_count": 147,
   "metadata": {},
   "outputs": [
    {
     "data": {
      "text/plain": [
       "3370"
      ]
     },
     "execution_count": 147,
     "metadata": {},
     "output_type": "execute_result"
    }
   ],
   "source": [
    "findfirst(x -> x[:subject_id] == \"6.100A\", all_classes)"
   ]
  },
  {
   "cell_type": "code",
   "execution_count": 157,
   "metadata": {},
   "outputs": [
    {
     "data": {
      "text/plain": [
       "6-element Vector{Vector{Int64}}:\n",
       " [2962, 3303, 3304]\n",
       " [3856, 3857, 3858, 3859]\n",
       " [3860, 3861, 3862]\n",
       " [1536, 1537]\n",
       " [1538, 1540, 1539]\n",
       " [3752, 3753, 3754, 3755, 3756]"
      ]
     },
     "execution_count": 157,
     "metadata": {},
     "output_type": "execute_result"
    }
   ],
   "source": [
    "chem_gir_ids = [\"3.091\", \"5.111\", \"5.112\"]\n",
    "phys_1_gir_ids = [\"8.01\", \"8.011\", \"8.012\", \"8.01L\"]\n",
    "phys_2_gir_ids = [\"8.02\", \"8.021\", \"8.022\"]\n",
    "math_1_gir_ids = [\"18.01\", \"18.01A\"]\n",
    "math_2_gir_ids = [\"18.02\", \"18.02A\", \"18.022\"]\n",
    "bio_gir_ids = [\"7.012\", \"7.013\", \"7.014\", \"7.015\", \"7.016\"]\n",
    "gir_ids = [chem_gir_ids, phys_1_gir_ids, phys_2_gir_ids, math_1_gir_ids, math_2_gir_ids, bio_gir_ids]\n",
    "gir_inds_types = [[findfirst(x -> x[:subject_id] == gir_id, all_classes) for gir_id in gir_type] for gir_type in gir_ids]"
   ]
  },
  {
   "cell_type": "code",
   "execution_count": null,
   "metadata": {},
   "outputs": [],
   "source": [
    "# main requirements\n",
    "ai_programming_ids = [\"6.100A\", \"6.100L\"];\n",
    "ai_math_1_ids = [\"6.1200\"];\n",
    "ai_math_2_ids = [\"6.S084\", \"18.C06\", \"18.06\"];\n",
    "ai_math_3_ids = [\"6.3700\", \"6.3800\", \"18.05\"];\n",
    "ai_foundation_ids = [\"6.1010\", \"6.1210\"];\n",
    "ai_centers_ids = [\"6.1220\", \"6.1400\", \"6.3000\", \"6.3100\", \"6.3260\", \"6.3720\", \"6.3900\", \"6.3950\",\n",
    "                \"6.4110\", \"6.4120\", \"6.4400\", \"6.4590\", \"6.7201\", \"6.C35\", \"9.660\"] # removed \"6.C571\" and \"6.C01\"\n",
    "ai_ids = [ai_programming_ids, ai_math_1_ids, ai_math_2_ids, ai_math_3_ids, ai_foundation_ids, ai_centers_ids];  # DOESN'T INCLUDE AI_MATH_IDS YET\n",
    "ai_inds_types = [[findfirst(x -> x[:subject_id] == ai_id, all_classes) for ai_id in ai_type] for ai_type in ai_ids];\n",
    "\n",
    "\n",
    "# additional constraints (centers)\n",
    "ai_data_center_ids = [\"6.3720\", \"6.3900\"]; # no \"6.C01\"\n",
    "ai_model_center_ids = [\"6.3000\", \"6.3100\", \"6.4110\", \"6.4400\"];\n",
    "ai_dec_center_ids = [\"6.3100\", \"6.4110\", \"6.7201\"];  # no \"6.C571\"\n",
    "ai_comp_center_ids = [\"6.1220\", \"6.1400\", \"6.4400\", \"6.7201\"]; # no \"6.C571\"\n",
    "ai_human_center_ids = [\"6.3260\", \"6.3950\", \"6.4120\", \"6.4590\", \"6.C35\", \"9.660\"];\n",
    "ai_centers_ids_list = [ai_data_center_ids, ai_model_center_ids, ai_dec_center_ids, ai_comp_center_ids, ai_human_center_ids];\n",
    "ai_centers_inds_types = [[findfirst(x -> x[:subject_id] == ai_id, all_classes) for ai_id in ai_center] for ai_center in ai_centers_ids_list];"
   ]
  },
  {
   "cell_type": "code",
   "execution_count": 198,
   "metadata": {},
   "outputs": [],
   "source": [
    "# electives\n",
    "ai_app_cim = [\"6.4200\", \"6.4210\", \"6.8301\", \"6.8611\"]\n",
    "ai_aus = [\"18.404\", \"6.3730\", \"6.4210\", \"6.5151\", \"6.5831\", \"6.5931\", \"6.7411\", \"6.8301\", \"6.8371\", \"6.8611\", \"6.8701\", \"6.8711\", \"6.8801\"] # removed \"6.3020\"\n",
    "# 2 additional from eecs list\n",
    "ai_electives_ids_list = [ai_app_cim, ai_aus]\n",
    "ai_elec_inds_types = [[findfirst(x -> x[:subject_id] == ai_id, all_classes) for ai_id in ai_type] for ai_type in ai_electives_ids_list]\n",
    "\n",
    "# other additional constraints \n",
    "ai_eecs_cim2_ids = [\"6.1800\", \"6.1850\", \"6.2040\", \"6.2050\", \"6.2060\", \"6.2061\", \"6.2220\", \"6.2221\", \"6.2370\", \"6.2410\", \"6.2600\", \"6.4200\", \"6.4210\", \"6.4590\", \"6.4860\", \"6.4880\", \"6.8301\", \"6.8611\", \"6.9030\", \"6.UAR\", \"6.UAT\"]\n",
    "ai_serc_ids = [\"6.3900\", \"6.3950\", \"6.4590\", \"6.8301\", \"6.8611\"] # removed 6.C40\n",
    "ai_add_constraints_ids_list = [ai_eecs_cim2_ids, ai_serc_ids]\n",
    "ai_add_constraints_inds_types = [[findfirst(x -> x[:subject_id] == ai_id, all_classes) for ai_id in ai_type] for ai_type in ai_add_constraints_ids_list];"
   ]
  },
  {
   "cell_type": "code",
   "execution_count": 199,
   "metadata": {},
   "outputs": [
    {
     "data": {
      "text/plain": [
       "2-element Vector{Vector{Int64}}:\n",
       " [3453, 3454, 3588, 3600]\n",
       " [1622, 3441, 3454, 3487, 3510, 3516, 3562, 3588, 3593, 3600, 3606, 3608, 3613]"
      ]
     },
     "execution_count": 199,
     "metadata": {},
     "output_type": "execute_result"
    }
   ],
   "source": [
    "ai_elec_inds_types"
   ]
  },
  {
   "cell_type": "code",
   "execution_count": 150,
   "metadata": {},
   "outputs": [
    {
     "data": {
      "text/plain": [
       "JSON3.Object{Base.CodeUnits{UInt8, String}, SubArray{UInt64, 1, Vector{UInt64}, Tuple{UnitRange{Int64}}, true}} with 30 entries:\n",
       "  :rating             => 5.03\n",
       "  :gir_attribute      => \"REST\"\n",
       "  :has_final          => true\n",
       "  :description        => \"Elementary discrete mathematics for science and engin…\n",
       "  :offered_fall       => true\n",
       "  :offered_spring     => true\n",
       "  :instructors        => [\"F. Leighton\"]\n",
       "  :preparation_units  => 7\n",
       "  :joint_subjects     => [\"18.062\"]\n",
       "  :out_of_class_hours => 6.49\n",
       "  :total_units        => 12\n",
       "  :related_subjects   => [\"6.120A\", \"6.5340\", \"6.7480\", \"6.7240\", \"6.8410\", \"6.…\n",
       "  :pdf_option         => false\n",
       "  :in_class_hours     => 4.64\n",
       "  :is_half_class      => false\n",
       "  :schedule           => \"Lecture,26-100/TR/0/2.30-4;Recitation,26-168/WF/0/10,…\n",
       "  :level              => \"U\"\n",
       "  :prerequisites      => \"GIR:CAL1\"\n",
       "  :subject_id         => \"6.1200\"\n",
       "  :title              => \"Mathematics for Computer Science\"\n",
       "  :lab_units          => 0\n",
       "  :design_units       => 0\n",
       "  :public             => true\n",
       "  :offered_summer     => false\n",
       "  :lecture_units      => 5\n",
       "  ⋮                   => ⋮"
      ]
     },
     "execution_count": 150,
     "metadata": {},
     "output_type": "execute_result"
    }
   ],
   "source": [
    "all_classes[3379]"
   ]
  },
  {
   "cell_type": "markdown",
   "metadata": {},
   "source": [
    "## optimize"
   ]
  },
  {
   "cell_type": "code",
   "execution_count": 201,
   "metadata": {},
   "outputs": [],
   "source": [
    "model = Model(() -> Gurobi.Optimizer(GRB_ENV))\n",
    "\n",
    "α = 0.8\n",
    "\n",
    "# @variable(model, X[1:n,1:s] >=0)\n",
    "@variable(model, X[1:n, 1:S], Bin)\n",
    "@objective(model, Min, sum(α*H[i]*X[i,s] - (1-α)*R[i]*X[i,s] for i=1:n,s=1:S));\n",
    "\n",
    "##\n",
    "# CONSTRAINTS\n",
    "##\n",
    "\n",
    "# full-time; at least 36 units per semester\n",
    "@constraint(model, [s in 1:S], sum(U[i]*X[i, s] for i=1:n) >= 36);\n",
    "\n",
    "# wellbeing: no more than 112 hours per week\n",
    "@constraint(model, [s in 1:S], sum(H[i]*X[i, s] for i=1:n) <= 112);\n",
    "\n",
    "# not repeatable: cannot take a class again\n",
    "@constraint(model, [i in 1:n], sum(X[i, t] for t=1:S) <= 1);\n",
    "\n",
    "# GIR constraints\n",
    "@constraint(model, [gir_type in gir_inds_types], sum(X[gir_ind, s] for gir_ind in gir_type, s in 1:S) == 1);\n",
    "\n",
    "# taken correct semester\n",
    "@constraint(model, [s in 1:2:S, i in 1:n], X[i, s] <= all_classes[i][:offered_fall]);\n",
    "@constraint(model, [s in 2:2:S, i in 1:n], X[i, s] <= all_classes[i][:offered_spring]);\n",
    "\n",
    "# 2 CI-H or HW\n",
    "@constraint(model, sum(\n",
    "    (get(all_classes[i], :communication_requirement, \"\") in [\"CI-H\", \"CI-HW\"]) * X[i, s] for i=1:n, s=1:S) >= 2);\n",
    "\n",
    "# 8 HASS\n",
    "@constraint(model, sum(\n",
    "    (get(all_classes[i], :hass_attribute, \"\") in [\"HASS-H\", \"HASS-A\", \"HASS-S\"]) * X[i, s] for i=1:n, s=1:S) >= 8);\n",
    "\n",
    "# 1 of each HASS-H, A, S\n",
    "@constraint(model, [hass_type in [\"HASS-H\", \"HASS-A\", \"HASS-S\"]], sum(\n",
    "    (get(all_classes[i], :hass_attribute, \"\") in [hass_type]) * X[i, s] for i=1:n, s=1:S) >= 1);\n"
   ]
  },
  {
   "cell_type": "markdown",
   "metadata": {},
   "source": [
    "hard-coding in the 6-4 requirements"
   ]
  },
  {
   "cell_type": "code",
   "execution_count": 202,
   "metadata": {},
   "outputs": [],
   "source": [
    "# ai_inds_types, 6 elem vector\n",
    "\n",
    "# 1 programming skills\n",
    "@constraint(model, sum(X[ai_ind, s] for ai_ind in ai_inds_types[1], s in 1:S) == 1);\n",
    "\n",
    "# 3 math\n",
    "ai_math_types = [ai_inds_types[2], ai_inds_types[3], ai_inds_types[4]];\n",
    "@constraint(model, [math_type in ai_math_types], sum(X[math_ind, s] for math_ind in math_type, s in 1:S) == 1);\n",
    "\n",
    "# 2 foundation\n",
    "@constraint(model, sum(X[ai_ind, s] for ai_ind in ai_inds_types[5], s in 1:S) == 2);\n",
    "\n",
    "# 5 total center\n",
    "@constraint(model, sum(X[ai_ind, s] for ai_ind in ai_inds_types[6], s in 1:S) >= 5);\n",
    "\n",
    "# 1 per center\n",
    "@constraint(model, [ai_center in ai_centers_inds_types], sum(X[ai_ind, s] for ai_ind in ai_center, s in 1:S) >= 1);\n",
    "\n",
    "# 2 from cim2\n",
    "@constraint(model, sum(X[ai_ind, s] for ai_ind in ai_add_constraints_inds_types[1], s in 1:S) >= 2);\n",
    "\n",
    "# 1 from ai+d-serc\n",
    "@constraint(model, sum(X[ai_ind, s] for ai_ind in ai_add_constraints_inds_types[2], s in 1:S) >= 1);\n",
    "\n",
    "# 1 elec from application cim and 1 from ai+d-aus\n",
    "@constraint(model, [ai_elec_type in ai_elec_inds_types], sum(X[ai_ind, s] for ai_ind in ai_elec_type, s in 1:S) >= 1);\n",
    "\n",
    "# 2 elecs ADDITIONAL from eecs or 18\n",
    "# TODO"
   ]
  },
  {
   "cell_type": "code",
   "execution_count": 203,
   "metadata": {},
   "outputs": [
    {
     "name": "stdout",
     "output_type": "stream",
     "text": [
      "Gurobi Optimizer version 11.0.2 build v11.0.2rc0 (mac64[x86] - Darwin 23.6.0 23G93)\n",
      "\n",
      "CPU model: Intel(R) Core(TM) i5-8257U CPU @ 1.40GHz\n",
      "Thread count: 4 physical cores, 8 logical processors, using up to 8 threads\n",
      "\n",
      "Optimize a model with 42369 rows, 37624 columns and 164688 nonzeros\n",
      "Model fingerprint: 0x894cc820\n",
      "Variable types: 0 continuous, 37624 integer (37624 binary)\n",
      "Coefficient statistics:\n",
      "  Matrix range     [1e+00, 8e+01]\n",
      "  Objective range  [2e-02, 6e+01]\n",
      "  Bounds range     [0e+00, 0e+00]\n",
      "  RHS range        [1e+00, 1e+02]\n",
      "Found heuristic solution: objective 191.0040000\n",
      "Presolve removed 38275 rows and 19820 columns\n",
      "Presolve time: 0.25s\n",
      "Presolved: 4094 rows, 17804 columns, 63376 nonzeros\n",
      "Found heuristic solution: objective 162.3000000\n",
      "Variable types: 0 continuous, 17804 integer (17804 binary)\n",
      "Found heuristic solution: objective 154.3780000\n",
      "\n",
      "Root relaxation: objective 1.368700e+02, 96 iterations, 0.02 seconds (0.01 work units)\n",
      "\n",
      "    Nodes    |    Current Node    |     Objective Bounds      |     Work\n",
      " Expl Unexpl |  Obj  Depth IntInf | Incumbent    BestBd   Gap | It/Node Time\n",
      "\n",
      "     0     0  136.87000    0    3  154.37800  136.87000  11.3%     -    0s\n",
      "H    0     0                     136.9700000  136.87000  0.07%     -    0s\n",
      "H    0     0                     136.9500000  136.87000  0.06%     -    0s\n",
      "\n",
      "Cutting planes:\n",
      "  Gomory: 1\n",
      "  Cover: 1\n",
      "  RLT: 1\n",
      "\n",
      "Explored 1 nodes (169 simplex iterations) in 0.57 seconds (0.26 work units)\n",
      "Thread count was 8 (of 8 available processors)\n",
      "\n",
      "Solution count 5: 136.95 136.97 154.378 ... 191.004\n",
      "\n",
      "Optimal solution found (tolerance 1.00e-04)\n",
      "Best objective 1.369500000000e+02, best bound 1.369500000000e+02, gap 0.0000%\n",
      "\n",
      "User-callback calls 381, time in user-callback 0.00 sec\n"
     ]
    }
   ],
   "source": [
    "optimize!(model)"
   ]
  },
  {
   "cell_type": "code",
   "execution_count": 209,
   "metadata": {},
   "outputs": [
    {
     "data": {
      "text/plain": [
       "8-element Vector{Vector{Int64}}:\n",
       " [1539, 2573, 3466, 3861]\n",
       " [816, 3384, 3857]\n",
       " [296, 2574, 3379, 3755]\n",
       " [1536, 2021, 3373, 3429]\n",
       " [2661, 3381, 4141]\n",
       " [1545, 3431, 4295]\n",
       " [1546, 2600, 3444]\n",
       " [294, 1180, 2962, 3017, 3372, 3588]"
      ]
     },
     "execution_count": 209,
     "metadata": {},
     "output_type": "execute_result"
    }
   ],
   "source": [
    "taken_classes_sem = [[ind for (ind, val) in enumerate(sem) if val == 1] for sem in eachcol(value.(X))]"
   ]
  },
  {
   "cell_type": "markdown",
   "metadata": {},
   "source": [
    "## Interpreter"
   ]
  },
  {
   "cell_type": "code",
   "execution_count": 205,
   "metadata": {},
   "outputs": [
    {
     "data": {
      "text/plain": [
       "interpret_course_units (generic function with 1 method)"
      ]
     },
     "execution_count": 205,
     "metadata": {},
     "output_type": "execute_result"
    }
   ],
   "source": [
    "function interpret_course_nums(classes_id_per_sem)\n",
    "    course_nums = [[all_classes[class_ind][:subject_id] for class_ind in sem] for sem in classes_id_per_sem]\n",
    "    return course_nums\n",
    "end\n",
    "\n",
    "function interpret_course_attr(classes_id_per_sem, attr)\n",
    "    courses_attr = [[get(all_classes[class_ind], Symbol(attr), \"\") for class_ind in sem] for sem in classes_id_per_sem]\n",
    "    return courses_attr\n",
    "end\n",
    "\n",
    "function interpret_course_hours(classes_id_per_sem)\n",
    "    course_hours = [[H[class_ind] for class_ind in sem] for sem in classes_id_per_sem]\n",
    "    return course_hours\n",
    "end\n",
    "\n",
    "function interpret_course_units(classes_id_per_sem)\n",
    "    course_units = [[U[class_ind] for class_ind in sem] for sem in classes_id_per_sem]\n",
    "    return course_units\n",
    "end"
   ]
  },
  {
   "cell_type": "code",
   "execution_count": 212,
   "metadata": {},
   "outputs": [
    {
     "data": {
      "text/plain": [
       "8-element Vector{Vector{String}}:\n",
       " [\"18.022\", \"21M.451\", \"6.4590\", \"8.021\"]\n",
       " [\"14.399\", \"6.1400\", \"8.011\"]\n",
       " [\"10.991\", \"21M.460\", \"6.1200\", \"7.015\"]\n",
       " [\"18.01\", \"20.S900\", \"6.1010\", \"6.3100\"]\n",
       " [\"21W.032\", \"6.1210\", \"CMS.627\"]\n",
       " [\"18.05\", \"6.3260\", \"ES.113\"]\n",
       " [\"18.06\", \"21M.622\", \"6.3900\"]\n",
       " [\"10.960\", \"15.839\", \"3.091\", \"3.903\", \"6.100L\", \"6.8301\"]"
      ]
     },
     "execution_count": 212,
     "metadata": {},
     "output_type": "execute_result"
    }
   ],
   "source": [
    "interpret_course_nums(taken_classes_sem)"
   ]
  },
  {
   "cell_type": "code",
   "execution_count": 207,
   "metadata": {},
   "outputs": [
    {
     "data": {
      "text/plain": [
       "8-element Vector{Vector{String}}:\n",
       " [\"Calculus\", \"Collaborative Piano\", \"Foundations of Information Policy\", \"Physics II\"]\n",
       " [\"Seminar in Data Economics and Development Policy\", \"Computability and Complexity Theory\", \"Physics I\"]\n",
       " [\"Seminar in Chemical Engineering\", \"MIT Senegalese Drum Ensemble\", \"Mathematics for Computer Science\", \"Introductory Biology\"]\n",
       " [\"Calculus\", \"Special Subject in Biological Engineering\", \"Fundamentals of Programming\", \"Dynamical System Modeling and Control Design\"]\n",
       " [\"Science Writing and New Media: Introduction to Digital Media\", \"Introduction to Algorithms\", \"Imagination, Computation, and Expression Studio\"]\n",
       " [\"Introduction to Probability and Statistics\", \"Networks\", \"Ancient Greek Philosophy and Mathematics\"]\n",
       " [\"Linear Algebra\", \"Physical Improvisation: Scores and Structures\", \"Introduction to Machine Learning\"]\n",
       " [\"Seminar in Polymers and Soft Matter\", \"Workshop in Marketing\", \"Introduction to Solid-State Chemistry\", \"Seminar in Polymers and Soft Matter\", \"Introduction to Computer Science and Programming\", \"Advances in Computer Vision\"]"
      ]
     },
     "execution_count": 207,
     "metadata": {},
     "output_type": "execute_result"
    }
   ],
   "source": [
    "interpret_course_attr(taken_classes_sem, \"title\")"
   ]
  },
  {
   "cell_type": "code",
   "execution_count": 168,
   "metadata": {},
   "outputs": [
    {
     "data": {
      "text/plain": [
       "8-element Vector{Float64}:\n",
       " 38.53999999999999\n",
       " 23.21\n",
       " 18.43\n",
       " 28.14\n",
       " 24.25\n",
       " 21.72\n",
       " 28.78\n",
       " 19.09"
      ]
     },
     "execution_count": 168,
     "metadata": {},
     "output_type": "execute_result"
    }
   ],
   "source": [
    "sems_hours = interpret_course_hours(taken_classes_sem)\n",
    "[sum(sem_hours) for sem_hours in sems_hours]"
   ]
  },
  {
   "cell_type": "code",
   "execution_count": 211,
   "metadata": {},
   "outputs": [
    {
     "data": {
      "text/plain": [
       "8-element Vector{Vector{Int64}}:\n",
       " [12, 0, 12, 12]\n",
       " [12, 12, 12]\n",
       " [6, 6, 12, 12]\n",
       " [12, 0, 12, 12]\n",
       " [12, 12, 12]\n",
       " [12, 12, 12]\n",
       " [12, 12, 12]\n",
       " [2, 0, 12, 2, 6, 15]"
      ]
     },
     "execution_count": 211,
     "metadata": {},
     "output_type": "execute_result"
    }
   ],
   "source": [
    "sems_units = interpret_course_units(taken_classes_sem)"
   ]
  }
 ],
 "metadata": {
  "kernelspec": {
   "display_name": "Julia 1.10.5",
   "language": "julia",
   "name": "julia-1.10"
  },
  "language_info": {
   "file_extension": ".jl",
   "mimetype": "application/julia",
   "name": "julia",
   "version": "1.10.5"
  }
 },
 "nbformat": 4,
 "nbformat_minor": 2
}
