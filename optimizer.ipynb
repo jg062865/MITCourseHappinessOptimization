{
 "cells": [
  {
   "cell_type": "code",
   "execution_count": null,
   "metadata": {},
   "outputs": [
    {
     "name": "stderr",
     "output_type": "stream",
     "text": [
      "\u001b[32m\u001b[1m   Resolving\u001b[22m\u001b[39m package versions...\n",
      "\u001b[32m\u001b[1m  No Changes\u001b[22m\u001b[39m to `~/.julia/environments/v1.10/Project.toml`\n",
      "\u001b[32m\u001b[1m  No Changes\u001b[22m\u001b[39m to `~/.julia/environments/v1.10/Manifest.toml`\n"
     ]
    }
   ],
   "source": [
    "using CSV, Tables\n",
    "using JuMP\n",
    "using Gurobi\n",
    "\n",
    "import Pkg; Pkg.add(\"JSON3\")\n",
    "using JSON3"
   ]
  },
  {
   "cell_type": "code",
   "execution_count": 4,
   "metadata": {},
   "outputs": [
    {
     "name": "stdout",
     "output_type": "stream",
     "text": [
      "Set parameter Username\n",
      "Academic license - for non-commercial use only - expires 2025-09-08\n"
     ]
    }
   ],
   "source": [
    "const GRB_ENV = Gurobi.Env(output_flag=1);"
   ]
  },
  {
   "cell_type": "markdown",
   "metadata": {},
   "source": [
    "## load in data"
   ]
  },
  {
   "cell_type": "code",
   "execution_count": 5,
   "metadata": {},
   "outputs": [],
   "source": [
    "all_classes = open(\"data/all_classes_info.json\", \"r\") do file \n",
    "    JSON3.read(file)\n",
    "end\n",
    "\n",
    "R = CSV.File(\"data/ratings.csv\",header=0) |> Tables.matrix;\n",
    "H = CSV.File(\"data/hours.csv\",header=0) |> Tables.matrix;\n",
    "U = CSV.File(\"data/units.csv\",header=0) |> Tables.matrix;\n",
    "\n",
    "vars = CSV.File(\"data/variables.csv\",header=0) |> Tables.matrix;\n",
    "n = vars[1];\n",
    "S = vars[2];"
   ]
  },
  {
   "cell_type": "code",
   "execution_count": 13,
   "metadata": {},
   "outputs": [
    {
     "data": {
      "text/plain": [
       "JSON3.Object{Base.CodeUnits{UInt8, String}, SubArray{UInt64, 1, Vector{UInt64}, Tuple{UnitRange{Int64}}, true}} with 28 entries:\n",
       "  :rating              => 5.4\n",
       "  :gir_attribute       => \"REST\"\n",
       "  :has_final           => false\n",
       "  :description         => \"Presents engineering problems in a computational set…\n",
       "  :offered_fall        => false\n",
       "  :offered_spring      => true\n",
       "  :meets_with_subjects => [\"1.001\"]\n",
       "  :instructors         => [\"J. Williams\"]\n",
       "  :out_of_class_hours  => 7.99\n",
       "  :total_units         => 12\n",
       "  :related_subjects    => [\"2.156\", \"1.205\", \"1.C51\", \"1.000\", \"1.631\", \"1.063\"…\n",
       "  :pdf_option          => false\n",
       "  :in_class_hours      => 5.7\n",
       "  :is_half_class       => false\n",
       "  :level               => \"U\"\n",
       "  :prerequisites       => \"GIR:CAL1\"\n",
       "  :subject_id          => \"1.00\"\n",
       "  :title               => \"Engineering Computation and Data Science\"\n",
       "  :lab_units           => 2\n",
       "  :design_units        => 0\n",
       "  :public              => true\n",
       "  :offered_summer      => false\n",
       "  :lecture_units       => 3\n",
       "  :preparation_units   => 7\n",
       "  :enrollment_number   => 25.43\n",
       "  ⋮                    => ⋮"
      ]
     },
     "execution_count": 13,
     "metadata": {},
     "output_type": "execute_result"
    }
   ],
   "source": [
    "all_classes[1]"
   ]
  },
  {
   "cell_type": "code",
   "execution_count": 16,
   "metadata": {},
   "outputs": [
    {
     "data": {
      "text/plain": [
       "3856"
      ]
     },
     "execution_count": 16,
     "metadata": {},
     "output_type": "execute_result"
    }
   ],
   "source": [
    "findfirst(x -> x[:subject_id] == \"8.01\", all_classes)"
   ]
  },
  {
   "cell_type": "code",
   "execution_count": 59,
   "metadata": {},
   "outputs": [
    {
     "data": {
      "text/plain": [
       "6-element Vector{Vector{Int64}}:\n",
       " [2962, 3303, 3304]\n",
       " [3856, 3857, 3858, 3859]\n",
       " [3860, 3861, 3862]\n",
       " [1536, 1537]\n",
       " [1538, 1540, 1539]\n",
       " [3752, 3753, 3754, 3755, 3756]"
      ]
     },
     "execution_count": 59,
     "metadata": {},
     "output_type": "execute_result"
    }
   ],
   "source": [
    "chem_gir_ids = [\"3.091\", \"5.111\", \"5.112\"]\n",
    "phys_1_gir_ids = [\"8.01\", \"8.011\", \"8.012\", \"8.01L\"]\n",
    "phys_2_gir_ids = [\"8.02\", \"8.021\", \"8.022\"]\n",
    "math_1_gir_ids = [\"18.01\", \"18.01A\"]\n",
    "math_2_gir_ids = [\"18.02\", \"18.02A\", \"18.022\"]\n",
    "bio_gir_ids = [\"7.012\", \"7.013\", \"7.014\", \"7.015\", \"7.016\"]\n",
    "gir_ids = [chem_gir_ids, phys_1_gir_ids, phys_2_gir_ids, math_1_gir_ids, math_2_gir_ids, bio_gir_ids]\n",
    "gir_subject_types = [[findfirst(x -> x[:subject_id] == gir_id, all_classes) for gir_id in gir_type] for gir_type in gir_ids]"
   ]
  },
  {
   "cell_type": "markdown",
   "metadata": {},
   "source": [
    "## optimize"
   ]
  },
  {
   "cell_type": "code",
   "execution_count": 67,
   "metadata": {},
   "outputs": [
    {
     "data": {
      "text/plain": [
       "1-dimensional DenseAxisArray{ConstraintRef{Model, MathOptInterface.ConstraintIndex{MathOptInterface.ScalarAffineFunction{Float64}, MathOptInterface.EqualTo{Float64}}, ScalarShape},1,...} with index sets:\n",
       "    Dimension 1, [[2962, 3303, 3304], [3856, 3857, 3858, 3859], [3860, 3861, 3862], [1536, 1537], [1538, 1540, 1539], [3752, 3753, 3754, 3755, 3756]]\n",
       "And data, a 6-element Vector{ConstraintRef{Model, MathOptInterface.ConstraintIndex{MathOptInterface.ScalarAffineFunction{Float64}, MathOptInterface.EqualTo{Float64}}, ScalarShape}}:\n",
       " X[2962,1] + X[3303,1] + X[3304,1] + X[2962,2] + X[3303,2] + X[3304,2] + X[2962,3] + X[3303,3] + X[3304,3] + X[2962,4] + X[3303,4] + X[3304,4] + X[2962,5] + X[3303,5] + X[3304,5] + X[2962,6] + X[3303,6] + X[3304,6] + X[2962,7] + X[3303,7] + X[3304,7] + X[2962,8] + X[3303,8] + X[3304,8] = 1\n",
       " X[3856,1] + X[3857,1] + X[3858,1] + X[3859,1] + X[3856,2] + X[3857,2] + X[3858,2] + X[3859,2] + X[3856,3] + X[3857,3] + X[3858,3] + X[3859,3] + X[3856,4] + X[3857,4] + X[3858,4] + X[3859,4] + X[3856,5] + X[3857,5] + X[3858,5] + X[3859,5] + X[3856,6] + X[3857,6] + X[3858,6] + X[3859,6] + X[3856,7] + X[3857,7] + X[3858,7] + X[3859,7] + X[3856,8] + X[3857,8] + X[3858,8] + X[3859,8] = 1\n",
       " X[3860,1] + X[3861,1] + X[3862,1] + X[3860,2] + X[3861,2] + X[3862,2] + X[3860,3] + X[3861,3] + X[3862,3] + X[3860,4] + X[3861,4] + X[3862,4] + X[3860,5] + X[3861,5] + X[3862,5] + X[3860,6] + X[3861,6] + X[3862,6] + X[3860,7] + X[3861,7] + X[3862,7] + X[3860,8] + X[3861,8] + X[3862,8] = 1\n",
       " X[1536,1] + X[1537,1] + X[1536,2] + X[1537,2] + X[1536,3] + X[1537,3] + X[1536,4] + X[1537,4] + X[1536,5] + X[1537,5] + X[1536,6] + X[1537,6] + X[1536,7] + X[1537,7] + X[1536,8] + X[1537,8] = 1\n",
       " X[1538,1] + X[1539,1] + X[1540,1] + X[1538,2] + X[1539,2] + X[1540,2] + X[1538,3] + X[1539,3] + X[1540,3] + X[1538,4] + X[1539,4] + X[1540,4] + X[1538,5] + X[1539,5] + X[1540,5] + X[1538,6] + X[1539,6] + X[1540,6] + X[1538,7] + X[1539,7] + X[1540,7] + X[1538,8] + X[1539,8] + X[1540,8] = 1\n",
       " X[3752,1] + X[3753,1] + X[3754,1] + X[3755,1] + X[3756,1] + X[3752,2] + X[3753,2] + X[3754,2] + X[3755,2] + X[3756,2] + X[3752,3] + X[3753,3] + X[3754,3] + X[3755,3] + X[3756,3] + X[3752,4] + X[3753,4] + X[3754,4] + X[3755,4] + X[3756,4] + X[3752,5] + X[3753,5] + X[3754,5] + X[3755,5] + X[3756,5] + X[3752,6] + X[3753,6] + X[3754,6] + X[3755,6] + X[3756,6] + X[3752,7] + X[3753,7] + X[3754,7] + X[3755,7] + X[3756,7] + X[3752,8] + X[3753,8] + X[3754,8] + X[3755,8] + X[3756,8] = 1"
      ]
     },
     "execution_count": 67,
     "metadata": {},
     "output_type": "execute_result"
    }
   ],
   "source": [
    "model = Model(() -> Gurobi.Optimizer(GRB_ENV))\n",
    "\n",
    "α = 0.8\n",
    "\n",
    "# @variable(model, X[1:n,1:s] >=0)\n",
    "@variable(model, X[1:n, 1:S], Bin)\n",
    "@objective(model, Min, sum(α*H[i]*X[i,s] - (1-α)*R[i]*X[i,s] for i=1:n,s=1:S));\n",
    "\n",
    "##\n",
    "# CONSTRAINTS\n",
    "##\n",
    "\n",
    "# full-time; at least 36 units per semester\n",
    "@constraint(model, [s in 1:S], sum(U[i]*X[i, s] for i=1:n) >= 36);\n",
    "\n",
    "# wellbeing: no more than 112 hours per week\n",
    "@constraint(model, [s in 1:S], sum(H[i]*X[i, s] for i=1:n) <= 112);\n",
    "\n",
    "# not repeatable: cannot take a class again\n",
    "# for i in 1:n\n",
    "#     for t in 1:(S - 1)\n",
    "#         @constraint(model, sum(X[i, t:end]) <= 1)\n",
    "#     end\n",
    "# end\n",
    "@constraint(model, [i in 1:n], sum(X[i, t] for t=1:S) <= 1)\n",
    "\n",
    "# GIR constraints\n",
    "@constraint(model, [gir_type in gir_subject_types], sum(X[gir_ind, s] for gir_ind in gir_type, s in 1:S) == 1)\n",
    "\n",
    "# 2 CI-H\n",
    "\n"
   ]
  },
  {
   "cell_type": "code",
   "execution_count": 68,
   "metadata": {},
   "outputs": [
    {
     "name": "stdout",
     "output_type": "stream",
     "text": [
      "Gurobi Optimizer version 11.0.2 build v11.0.2rc0 (mac64[x86] - Darwin 23.6.0 23G93)\n",
      "\n",
      "CPU model: Intel(R) Core(TM) i5-8257U CPU @ 1.40GHz\n",
      "Thread count: 4 physical cores, 8 logical processors, using up to 8 threads\n",
      "\n",
      "Optimize a model with 4725 rows, 37624 columns and 108768 nonzeros\n",
      "Model fingerprint: 0xbb5bec89\n",
      "Variable types: 0 continuous, 37624 integer (37624 binary)\n",
      "Coefficient statistics:\n",
      "  Matrix range     [1e+00, 8e+01]\n",
      "  Objective range  [2e-02, 6e+01]\n",
      "  Bounds range     [0e+00, 0e+00]\n",
      "  RHS range        [1e+00, 1e+02]\n",
      "Found heuristic solution: objective 196.6940000\n",
      "Presolve removed 551 rows and 4344 columns\n",
      "Presolve time: 0.39s\n",
      "Presolved: 4174 rows, 33280 columns, 99824 nonzeros\n",
      "Found heuristic solution: objective 128.5800000\n",
      "Variable types: 0 continuous, 33280 integer (33280 binary)\n",
      "Found heuristic solution: objective 120.1900000\n",
      "\n",
      "Root relaxation: objective 6.148400e+01, 128 iterations, 0.03 seconds (0.03 work units)\n",
      "\n",
      "    Nodes    |    Current Node    |     Objective Bounds      |     Work\n",
      " Expl Unexpl |  Obj  Depth IntInf | Incumbent    BestBd   Gap | It/Node Time\n",
      "\n",
      "H    0     0                      61.4840000   19.54000  68.2%     -    0s\n",
      "     0     0          -    0        61.48400   61.48400  0.00%     -    0s\n",
      "\n",
      "Explored 1 nodes (259 simplex iterations) in 0.60 seconds (0.46 work units)\n",
      "Thread count was 8 (of 8 available processors)\n",
      "\n",
      "Solution count 4: 61.484 120.19 128.58 196.694 \n",
      "\n",
      "Optimal solution found (tolerance 1.00e-04)\n",
      "Best objective 6.148400000000e+01, best bound 6.148400000000e+01, gap 0.0000%\n",
      "\n",
      "User-callback calls 331, time in user-callback 0.00 sec\n"
     ]
    }
   ],
   "source": [
    "optimize!(model)"
   ]
  },
  {
   "cell_type": "code",
   "execution_count": 69,
   "metadata": {},
   "outputs": [
    {
     "data": {
      "text/plain": [
       "8-element Vector{Vector{Int64}}:\n",
       " [974, 1025, 1180, 2021, 2962, 3857]\n",
       " [294, 1539, 1914, 1946, 2885, 2919, 3017, 4347, 4557]\n",
       " [100, 978, 1324, 3984]\n",
       " [714, 816, 3755]\n",
       " [1350, 2600, 3861]\n",
       " [1536, 4141, 4160]\n",
       " [296, 725, 1666, 3337, 4511]\n",
       " [144, 1953, 4492]"
      ]
     },
     "execution_count": 69,
     "metadata": {},
     "output_type": "execute_result"
    }
   ],
   "source": [
    "taken_classes_sem = [[ind for (ind, val) in enumerate(sem) if val == 1] for sem in eachcol(value.(X))]"
   ]
  },
  {
   "cell_type": "markdown",
   "metadata": {},
   "source": [
    "## Interpreter"
   ]
  },
  {
   "cell_type": "code",
   "execution_count": 27,
   "metadata": {},
   "outputs": [
    {
     "data": {
      "text/plain": [
       "interpret_course_nums (generic function with 1 method)"
      ]
     },
     "execution_count": 27,
     "metadata": {},
     "output_type": "execute_result"
    }
   ],
   "source": [
    "function interpret_course_nums(classes_id_per_sem)\n",
    "    course_nums = [[all_classes[class_ind][:subject_id] for class_ind in sem] for sem in classes_id_per_sem]\n",
    "    return course_nums\n",
    "end"
   ]
  },
  {
   "cell_type": "code",
   "execution_count": 70,
   "metadata": {},
   "outputs": [
    {
     "data": {
      "text/plain": [
       "8-element Vector{Vector{String}}:\n",
       " [\"15.323\", \"15.3941\", \"15.839\", \"20.S900\", \"3.091\", \"8.011\"]\n",
       " [\"10.960\", \"18.022\", \"2.991\", \"20.001\", \"24.93\", \"3.006\", \"3.903\", \"HST.533\", \"SP.257\"]\n",
       " [\"1.267\", \"15.335\", \"16.634\", \"9.271\"]\n",
       " [\"12.834\", \"14.399\", \"7.015\"]\n",
       " [\"16.84\", \"21M.622\", \"8.021\"]\n",
       " [\"18.01\", \"CMS.627\", \"CMS.827\"]\n",
       " [\"10.991\", \"12.900\", \"18.727\", \"5.561\", \"MS.101\"]\n",
       " [\"1.713\", \"20.053\", \"MAS.921\"]"
      ]
     },
     "execution_count": 70,
     "metadata": {},
     "output_type": "execute_result"
    }
   ],
   "source": [
    "interpret_course_nums(taken_classes_sem)"
   ]
  },
  {
   "cell_type": "markdown",
   "metadata": {},
   "source": []
  }
 ],
 "metadata": {
  "kernelspec": {
   "display_name": "Julia 1.10.5",
   "language": "julia",
   "name": "julia-1.10"
  },
  "language_info": {
   "file_extension": ".jl",
   "mimetype": "application/julia",
   "name": "julia",
   "version": "1.10.5"
  }
 },
 "nbformat": 4,
 "nbformat_minor": 2
}
