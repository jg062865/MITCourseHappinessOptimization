{
 "cells": [
  {
   "cell_type": "code",
   "execution_count": 1,
   "metadata": {},
   "outputs": [],
   "source": [
    "using CSV, Tables\n",
    "using JuMP\n",
    "using Gurobi\n",
    "using JSON3\n",
    "using JSON\n",
    "using HTTP"
   ]
  },
  {
   "cell_type": "code",
   "execution_count": 2,
   "metadata": {},
   "outputs": [
    {
     "name": "stdout",
     "output_type": "stream",
     "text": [
      "Set parameter Username\n",
      "Set parameter LicenseID to value 2595637\n",
      "Academic license - for non-commercial use only - expires 2025-12-05\n"
     ]
    }
   ],
   "source": [
    "const GRB_ENV = Gurobi.Env(output_flag=1);"
   ]
  },
  {
   "cell_type": "markdown",
   "metadata": {},
   "source": [
    "#### Load in Data"
   ]
  },
  {
   "cell_type": "code",
   "execution_count": 3,
   "metadata": {},
   "outputs": [],
   "source": [
    "all_classes = open(\"data/all_classes_info.json\", \"r\") do file \n",
    "    JSON3.read(file)\n",
    "end\n",
    "\n",
    "R = CSV.File(\"data/ratings.csv\",header=0) |> Tables.matrix;\n",
    "H = CSV.File(\"data/hours.csv\",header=0) |> Tables.matrix;\n",
    "U = CSV.File(\"data/units.csv\",header=0) |> Tables.matrix;\n",
    "\n",
    "vars = CSV.File(\"data/variables.csv\",header=0) |> Tables.matrix;\n",
    "n = vars[1];\n",
    "S = vars[2];"
   ]
  },
  {
   "cell_type": "code",
   "execution_count": 4,
   "metadata": {},
   "outputs": [
    {
     "data": {
      "text/plain": [
       "JSON3.Object{Base.CodeUnits{UInt8, String}, SubArray{UInt64, 1, Vector{UInt64}, Tuple{UnitRange{Int64}}, true}} with 28 entries:\n",
       "  :rating             => 4.9\n",
       "  :has_final          => true\n",
       "  :description        => \"Subset of elementary discrete mathematics for science…\n",
       "  :offered_fall       => false\n",
       "  :offered_spring     => true\n",
       "  :instructors        => [\"P. Jaillet\"]\n",
       "  :schedule           => \"Lecture,32-144/TR/0/1-2.30;Recitation,13-3101/WF/0/1,…\n",
       "  :out_of_class_hours => 8.5\n",
       "  :url                => \"http://student.mit.edu/catalog/m6a.html#6.120A\"\n",
       "  :total_units        => 6\n",
       "  :related_subjects   => [\"6.1200\", \"18.062\", \"6.5060\", \"6.7480\", \"6.5340\", \"6.…\n",
       "  :pdf_option         => false\n",
       "  :in_class_hours     => 4.6\n",
       "  :is_half_class      => false\n",
       "  :level              => \"U\"\n",
       "  :prerequisites      => \"GIR:CAL1\"\n",
       "  :subject_id         => \"6.120A\"\n",
       "  :title              => \"Discrete Mathematics and Proof for Computer Science\"\n",
       "  :lab_units          => 0\n",
       "  ⋮                   => ⋮"
      ]
     },
     "metadata": {},
     "output_type": "display_data"
    }
   ],
   "source": [
    "random_class = all_classes[rand(1:length(all_classes))]"
   ]
  },
  {
   "cell_type": "code",
   "execution_count": 5,
   "metadata": {},
   "outputs": [
    {
     "data": {
      "text/plain": [
       "Dict{Int64, String} with 4704 entries:\n",
       "  4700 => \"WGS.301\"\n",
       "  4576 => \"STS.022\"\n",
       "  2288 => \"21G.905\"\n",
       "  1703 => \"18.C20\"\n",
       "  1956 => \"20.101\"\n",
       "  2350 => \"21H.226\"\n",
       "  3406 => \"6.2060\"\n",
       "  2841 => \"24.234\"\n",
       "  2876 => \"24.906\"\n",
       "  687  => \"12.751\"\n",
       "  185  => \"1.THG\"\n",
       "  1090 => \"15.518\"\n",
       "  2015 => \"20.560\"\n",
       "  3293 => \"5.00\"\n",
       "  1704 => \"18.S096\"\n",
       "  3220 => \"4.608\"\n",
       "  422  => \"11.353\"\n",
       "  1266 => \"16.004\"\n",
       "  183  => \"1.S992\"\n",
       "  ⋮    => ⋮"
      ]
     },
     "metadata": {},
     "output_type": "display_data"
    }
   ],
   "source": [
    "subjectid_to_index = Dict(class[:subject_id] => ind for (ind, class) in enumerate(all_classes))\n",
    "index_to_subjectid = Dict(ind => class[:subject_id] for (ind, class) in enumerate(all_classes))"
   ]
  },
  {
   "cell_type": "markdown",
   "metadata": {},
   "source": [
    "#### Defining the Basic Optimization Problem"
   ]
  },
  {
   "cell_type": "code",
   "execution_count": 6,
   "metadata": {},
   "outputs": [
    {
     "data": {
      "text/plain": [
       "A JuMP Model\n",
       "├ solver: Gurobi\n",
       "├ objective_sense: FEASIBILITY_SENSE\n",
       "├ num_variables: 0\n",
       "├ num_constraints: 0\n",
       "└ Names registered in the model: none"
      ]
     },
     "metadata": {},
     "output_type": "display_data"
    }
   ],
   "source": [
    "model = Model(() -> Gurobi.Optimizer(GRB_ENV))"
   ]
  },
  {
   "cell_type": "code",
   "execution_count": 7,
   "metadata": {},
   "outputs": [
    {
     "data": {
      "text/plain": [
       "4704×8 Matrix{VariableRef}:\n",
       " X[1,1]     X[1,2]     X[1,3]     …  X[1,6]     X[1,7]     X[1,8]\n",
       " X[2,1]     X[2,2]     X[2,3]        X[2,6]     X[2,7]     X[2,8]\n",
       " X[3,1]     X[3,2]     X[3,3]        X[3,6]     X[3,7]     X[3,8]\n",
       " X[4,1]     X[4,2]     X[4,3]        X[4,6]     X[4,7]     X[4,8]\n",
       " X[5,1]     X[5,2]     X[5,3]        X[5,6]     X[5,7]     X[5,8]\n",
       " X[6,1]     X[6,2]     X[6,3]     …  X[6,6]     X[6,7]     X[6,8]\n",
       " X[7,1]     X[7,2]     X[7,3]        X[7,6]     X[7,7]     X[7,8]\n",
       " X[8,1]     X[8,2]     X[8,3]        X[8,6]     X[8,7]     X[8,8]\n",
       " X[9,1]     X[9,2]     X[9,3]        X[9,6]     X[9,7]     X[9,8]\n",
       " X[10,1]    X[10,2]    X[10,3]       X[10,6]    X[10,7]    X[10,8]\n",
       " ⋮                                ⋱  ⋮                     \n",
       " X[4696,1]  X[4696,2]  X[4696,3]  …  X[4696,6]  X[4696,7]  X[4696,8]\n",
       " X[4697,1]  X[4697,2]  X[4697,3]     X[4697,6]  X[4697,7]  X[4697,8]\n",
       " X[4698,1]  X[4698,2]  X[4698,3]     X[4698,6]  X[4698,7]  X[4698,8]\n",
       " X[4699,1]  X[4699,2]  X[4699,3]     X[4699,6]  X[4699,7]  X[4699,8]\n",
       " X[4700,1]  X[4700,2]  X[4700,3]     X[4700,6]  X[4700,7]  X[4700,8]\n",
       " X[4701,1]  X[4701,2]  X[4701,3]  …  X[4701,6]  X[4701,7]  X[4701,8]\n",
       " X[4702,1]  X[4702,2]  X[4702,3]     X[4702,6]  X[4702,7]  X[4702,8]\n",
       " X[4703,1]  X[4703,2]  X[4703,3]     X[4703,6]  X[4703,7]  X[4703,8]\n",
       " X[4704,1]  X[4704,2]  X[4704,3]     X[4704,6]  X[4704,7]  X[4704,8]"
      ]
     },
     "metadata": {},
     "output_type": "display_data"
    }
   ],
   "source": [
    "@variable(model, X[1:n, 1:S], Bin)"
   ]
  },
  {
   "cell_type": "code",
   "execution_count": 8,
   "metadata": {},
   "outputs": [],
   "source": [
    "α = 1 # alpha between [0-1], 1 being fully optimizing on minimizing hours \n",
    "@objective(model, Min, sum(α*H[i]*X[i,s] - (1-α)*R[i]*X[i,s] for i=1:n,s=1:S));"
   ]
  },
  {
   "cell_type": "code",
   "execution_count": 9,
   "metadata": {},
   "outputs": [],
   "source": [
    "# Full-time; at least 36 units per semester\n",
    "@constraint(model, [s in 1:S], sum(U[i]*X[i, s] for i=1:n) >= 36);\n",
    "\n",
    "# Wellbeing: no more than 112 hours per week\n",
    "@constraint(model, [s in 1:S], sum(H[i]*X[i, s] for i=1:n) <= 112);\n",
    "\n",
    "# Not repeatable: cannot take a class again\n",
    "@constraint(model, [i in 1:n], sum(X[i, t] for t=1:S) <= 1);\\\n",
    "\n",
    "# Taken correct semester\n",
    "@constraint(model, [s in 1:2:S, i in 1:n], X[i, s] <= all_classes[i][:offered_fall]);\n",
    "@constraint(model, [s in 2:2:S, i in 1:n], X[i, s] <= all_classes[i][:offered_spring]);\n",
    "\n",
    "# 2 CI-H or HW\n",
    "@constraint(model, sum(\n",
    "    (get(all_classes[i], :communication_requirement, \"\") in [\"CI-H\", \"CI-HW\"]) * X[i, s] for i=1:n, s=1:S) >= 2);\n",
    "\n",
    "# 8 HASS\n",
    "@constraint(model, sum(\n",
    "    (get(all_classes[i], :hass_attribute, \"\") in [\"HASS-H\", \"HASS-A\", \"HASS-S\"]) * X[i, s] for i=1:n, s=1:S) >= 8);\n",
    "\n",
    "# 1 of each HASS-H, A, S\n",
    "@constraint(model, [hass_type in [\"HASS-H\", \"HASS-A\", \"HASS-S\"]], sum(\n",
    "    (get(all_classes[i], :hass_attribute, \"\") in [hass_type]) * X[i, s] for i=1:n, s=1:S) >= 1);\n"
   ]
  },
  {
   "cell_type": "markdown",
   "metadata": {},
   "source": [
    "#### Adding Institute Reqs ####"
   ]
  },
  {
   "cell_type": "code",
   "execution_count": 10,
   "metadata": {},
   "outputs": [
    {
     "data": {
      "text/plain": [
       "6-element Vector{Vector{Int64}}:\n",
       " [2963, 3304, 3305]\n",
       " [3857, 3858, 3859, 3860]\n",
       " [3861, 3862, 3863]\n",
       " [1537, 1538]\n",
       " [1539, 1541, 1540]\n",
       " [3753, 3754, 3755, 3756, 3757]"
      ]
     },
     "metadata": {},
     "output_type": "display_data"
    }
   ],
   "source": [
    "chem_gir_ids = [\"3.091\", \"5.111\", \"5.112\"]\n",
    "phys_1_gir_ids = [\"8.01\", \"8.011\", \"8.012\", \"8.01L\"]\n",
    "phys_2_gir_ids = [\"8.02\", \"8.021\", \"8.022\"]\n",
    "math_1_gir_ids = [\"18.01\", \"18.01A\"]\n",
    "math_2_gir_ids = [\"18.02\", \"18.02A\", \"18.022\"]\n",
    "bio_gir_ids = [\"7.012\", \"7.013\", \"7.014\", \"7.015\", \"7.016\"]\n",
    "gir_ids = [chem_gir_ids, phys_1_gir_ids, phys_2_gir_ids, math_1_gir_ids, math_2_gir_ids, bio_gir_ids]\n",
    "gir_inds_types = [[findfirst(x -> x[:subject_id] == gir_id, all_classes) for gir_id in gir_type] for gir_type in gir_ids]"
   ]
  },
  {
   "cell_type": "code",
   "execution_count": 11,
   "metadata": {},
   "outputs": [],
   "source": [
    "# GIR constraints\n",
    "@constraint(model, [gir_type in gir_inds_types], sum(X[gir_ind, s] for gir_ind in gir_type, s in 1:S) == 1);"
   ]
  },
  {
   "cell_type": "markdown",
   "metadata": {},
   "source": [
    "#### Adding 6-4 Constraints ####"
   ]
  },
  {
   "cell_type": "code",
   "execution_count": 12,
   "metadata": {},
   "outputs": [
    {
     "data": {
      "text/plain": [
       "Dict{String, Any} with 7 entries:\n",
       "  \"short-title\"     => \"6-4\"\n",
       "  \"medium-title\"    => \"6-4 Major\"\n",
       "  \"title-no-degree\" => \"Artificial Intelligence and Decision Making\"\n",
       "  \"reqs\"            => Any[Dict{String, Any}(\"connection-type\"=>\"all\", \"thresho…\n",
       "  \"list-id\"         => \"major6-4.reql\"\n",
       "  \"title\"           => \"Bachelor of Science in Artificial Intelligence and Deci…\n",
       "  \"desc\"            => \"The Bachelor of Science in Artificial Intelligence and …"
      ]
     },
     "metadata": {},
     "output_type": "display_data"
    }
   ],
   "source": [
    "# Store the URL\n",
    "url = \"https://fireroad.mit.edu/requirements/get_json/major6-4/\"\n",
    "\n",
    "# Send the request and get the response\n",
    "reqs = HTTP.get(url)\n",
    "\n",
    "# Parse the JSON response\n",
    "datafile = JSON.parse(String(reqs.body))"
   ]
  },
  {
   "cell_type": "code",
   "execution_count": 13,
   "metadata": {},
   "outputs": [
    {
     "data": {
      "text/plain": [
       "10-element Vector{Any}:\n",
       " (Any[\"6.100A\", \"6.100L\"], \"geq\", 1)\n",
       " (Any[\"6.S084\", \"18.C06\", \"18.06\"], \"geq\", 1)\n",
       " (Any[\"6.3700\", \"6.3800\", \"18.05\"], \"geq\", 1)\n",
       " (Any[\"6.1200\", \"6.1010\", \"6.1210\"], \"eq\", 3)\n",
       " (Any[(Any[\"6.3720\", \"6.3900\", (Any[\"6.C01\", \"6.S052\"], \"eq\", 2), (Any[\"6.C51\", \"6.S952\"], \"eq\", 2), \"6.S059\"], \"geq\", 1), (Any[\"6.3000\", \"6.4110\", \"6.4400\"], \"geq\", 1), (Any[\"6.3100\", \"6.4110\", \"6.7201\"], \"geq\", 1), (Any[\"6.1220\", \"6.4400\", \"6.7201\"], \"geq\", 1), (Any[\"6.3260\", \"6.3950\", \"6.4120\", \"6.4590\", \"6.C35\", \"6.S041\", \"9.660\"], \"geq\", 1)], \"geq\", 5)\n",
       " (Any[\"6.1800\", \"6.2040\", \"6.2060\", \"6.2061\", \"6.2220\", \"6.2221\", \"6.2370\", \"6.2600\", \"6.4200\", \"6.4210\", \"6.4590\", \"6.4860\", \"6.4880\", \"6.8301\", \"6.8611\", \"6.9030\", \"6.UAR\", \"6.UAT\"], \"geq\", 2)\n",
       " (Any[\"6.3900\", \"6.3950\", \"6.4590\", \"6.8301\", \"6.8611\"], \"geq\", 1)\n",
       " (Any[\"6.4200\", \"6.4210\", \"6.8301\", \"6.8611\"], \"geq\", 1)\n",
       " (Any[\"18.404\", \"6.3730\", \"6.4210\", \"6.5151\", \"6.5831\", \"6.7411\", \"6.7930\", \"6.8300\", \"6.8301\", \"6.8371\", \"6.8611\", \"6.8701\", \"6.8711\", \"6.S079\", \"6.S966\", \"6.4200\", \"6.4210\", \"6.8301\", \"6.8611\"], \"geq\", 2)\n",
       " (Any[(Any[\"18.600\", \"2.007\", (Any[\"6.100A\", \"6.100B\"], \"eq\", 2), \"6.1010\", \"6.1020\", \"6.1040\", \"6.1060\", \"6.1100\", \"6.1120\", \"6.1200\"  …  \"6.93506.935\", (Any[\"6.C01\", \"1.C01\"], \"eq\", 2), (Any[\"6.C01\", \"10.C01\"], \"eq\", 2), (Any[\"6.C01\", \"2.C01\"], \"eq\", 2), (Any[\"6.C01\", \"20.C01\"], \"eq\", 2), (Any[\"6.C01\", \"22.C01\"], \"eq\", 2), (Any[\"6.C01\", \"3.C01\"], \"eq\", 2), \"6.S047\", \"6.UAR\", \"6.UAT\"], \"geq\", 1), \"Math (course 18) requirement\"], \"geq\", 1)"
      ]
     },
     "metadata": {},
     "output_type": "display_data"
    }
   ],
   "source": [
    "# Create a mapping for comparison types\n",
    "type_mapping = Dict(\"LT\" => \"lt\", \"GT\" => \"gt\", \"GTE\" => \"geq\", \"LTE\" => \"leq\")\n",
    "\n",
    "# Function to recursively go through requirements and create vector of major requirements\n",
    "function create_requirements(data, connector=false, cutoff=1, ineq=\"geq\")\n",
    "    mandatory = []\n",
    "    all_reqs = []\n",
    "    together = false\n",
    "    comb_req = []\n",
    "    \n",
    "    for section in data[\"reqs\"]\n",
    "        ineq = \"geq\"\n",
    "        cutoff = 1\n",
    "        \n",
    "        # Base case: if there's a \"req\" key in the section\n",
    "        if haskey(section, \"req\")\n",
    "            if connector\n",
    "                push!(mandatory, section[\"req\"])\n",
    "                continue\n",
    "            else\n",
    "                push!(all_reqs, section[\"req\"])\n",
    "                continue\n",
    "            end\n",
    "        end\n",
    "\n",
    "        # Recursive case: checking for special thresholds\n",
    "        if haskey(section, \"distinct-threshold\")\n",
    "            cutoff = section[\"distinct-threshold\"][\"cutoff\"]\n",
    "            ineq = type_mapping[section[\"distinct-threshold\"][\"type\"]]\n",
    "            if haskey(section, \"threshold\") && section[\"threshold\"][\"cutoff\"] != cutoff\n",
    "                together = true\n",
    "                total_cutoff = section[\"threshold\"][\"cutoff\"]\n",
    "                total_ineq = type_mapping[section[\"threshold\"][\"type\"]]\n",
    "            end\n",
    "        elseif haskey(section, \"threshold\")\n",
    "            cutoff = section[\"threshold\"][\"cutoff\"]\n",
    "            ineq = type_mapping[section[\"threshold\"][\"type\"]]\n",
    "        end\n",
    "        \n",
    "        # Building based on connection types\n",
    "        if section[\"connection-type\"] == \"all\"\n",
    "            next = create_requirements(section, true)\n",
    "            if together\n",
    "                comb_req = vcat(comb_req, reduce(vcat, getindex.(next, 1)))\n",
    "            else\n",
    "                append!(all_reqs, next)\n",
    "            end\n",
    "        elseif section[\"connection-type\"] == \"any\"\n",
    "            next = create_requirements(section)\n",
    "            if together\n",
    "                comb_req = vcat(comb_req, reduce(vcat, getindex.(next, 1)))\n",
    "            else\n",
    "                one_req = (next, ineq, cutoff)\n",
    "                push!(all_reqs, one_req)\n",
    "            end\n",
    "        else\n",
    "            return create_requirements(section)\n",
    "        end\n",
    "        \n",
    "        #for thresholds with distinct-thresholds\n",
    "        if together\n",
    "            push!(all_reqs, (comb_req, total_ineq, total_cutoff))\n",
    "        end\n",
    "    end\n",
    "\n",
    "    if !isempty(mandatory)\n",
    "        push!(all_reqs, (mandatory, \"eq\", length(mandatory)))\n",
    "    end\n",
    "    \n",
    "    return all_reqs\n",
    "end\n",
    "\n",
    "# Call the function\n",
    "requirements = create_requirements(datafile)"
   ]
  },
  {
   "cell_type": "code",
   "execution_count": 74,
   "metadata": {},
   "outputs": [
    {
     "name": "stdout",
     "output_type": "stream",
     "text": [
      "Any[(Any[\"6.3720\", \"6.3900\", (Any[\"6.C01\", \"6.S052\"], \"eq\", 2), (Any[\"6.C51\", \"6.S952\"], \"eq\", 2), \"6.S059\"], \"geq\", 1), (Any[\"6.3000\", \"6.4110\", \"6.4400\"], \"geq\", 1), (Any[\"6.3100\", \"6.4110\", \"6.7201\"], \"geq\", 1), (Any[\"6.1220\", \"6.4400\", \"6.7201\"], \"geq\", 1), (Any[\"6.3260\", \"6.3950\", \"6.4120\", \"6.4590\", \"6.C35\", \"6.S041\", \"9.660\"], \"geq\", 1)]\n",
      "Any[(Any[\"18.600\", \"2.007\", (Any[\"6.100A\", \"6.100B\"], \"eq\", 2), \"6.1010\", \"6.1020\", \"6.1040\", \"6.1060\", \"6.1100\", \"6.1120\", \"6.1200\", \"6.1210\", \"6.1220\", \"6.1400\", \"6.1600\", \"6.1800\", \"6.1820\", \"6.1850\", \"6.1910\", \"6.1920\", \"6.2000\", \"6.2040\", \"6.2050\", \"6.2060\", \"6.2061\", \"6.2090\", \"6.2200\", \"6.2210\", \"6.2220\", \"6.2221\", \"6.2300\", \"6.2370\", \"6.2400\", \"6.2410\", \"6.2500\", \"6.2530\", \"6.2600\", \"6.2690\", \"6.3000\", \"6.3010\", \"6.3100\", \"6.3260\", \"6.3400\", \"6.3700\", \"6.3702\", \"6.3730\", \"6.3800\", \"6.3900\", \"6.4100\", \"6.4120\", \"6.4130\", \"6.4140\", \"6.4200\", \"6.4210\", \"6.4400\", \"6.4420\", \"6.4510\", \"6.4530\", \"6.4550\", \"6.4570\", \"6.4590\", \"6.4710\", \"6.4810\", \"6.4820\", \"6.4830\", \"6.4840\", \"6.4850\", \"6.4860\", \"6.4880\", \"6.4890\", \"6.4900\", \"6.5081\", \"6.5151\", \"6.5831\", \"6.5931\", \"6.6331\", \"6.7201\", \"6.8301\", \"6.8371\", \"6.8391\", \"6.8611\", \"6.8701\", \"6.8711\", \"6.8721\", \"6.8801\", \"6.9010\", \"6.9020\", \"6.9030\", \"6.9080\", \"6.93506.935\", (Any[\"6.C01\", \"1.C01\"], \"eq\", 2), (Any[\"6.C01\", \"10.C01\"], \"eq\", 2), (Any[\"6.C01\", \"2.C01\"], \"eq\", 2), (Any[\"6.C01\", \"20.C01\"], \"eq\", 2), (Any[\"6.C01\", \"22.C01\"], \"eq\", 2), (Any[\"6.C01\", \"3.C01\"], \"eq\", 2), \"6.S047\", \"6.UAR\", \"6.UAT\"], \"geq\", 1), \"Math (course 18) requirement\"]\n"
     ]
    }
   ],
   "source": [
    "for req in requirements\n",
    "    courses, ineq, cutoff = req\n",
    "    if any(x -> isa(x, Tuple), courses)\n",
    "        println(courses)\n",
    "    end\n",
    "end"
   ]
  },
  {
   "cell_type": "code",
   "execution_count": null,
   "metadata": {},
   "outputs": [
    {
     "data": {
      "text/plain": [
       "10-element Vector{Any}:\n",
       " (Any[\"6.100A\", \"6.100L\"], \"geq\", 1)\n",
       " (Any[\"6.S084\", \"18.C06\", \"18.06\"], \"geq\", 1)\n",
       " (Any[\"6.3700\", \"6.3800\", \"18.05\"], \"geq\", 1)\n",
       " (Any[\"6.1200\", \"6.1010\", \"6.1210\"], \"eq\", 3)\n",
       " (Any[(Any[\"6.3720\", \"6.3900\", (Any[\"6.C01\", \"6.S052\"], \"eq\", 2), (Any[\"6.C51\", \"6.S952\"], \"eq\", 2), \"6.S059\"], \"geq\", 1), (Any[\"6.3000\", \"6.4110\", \"6.4400\"], \"geq\", 1), (Any[\"6.3100\", \"6.4110\", \"6.7201\"], \"geq\", 1), (Any[\"6.1220\", \"6.4400\", \"6.7201\"], \"geq\", 1), (Any[\"6.3260\", \"6.3950\", \"6.4120\", \"6.4590\", \"6.C35\", \"6.S041\", \"9.660\"], \"geq\", 1)], \"geq\", 5)\n",
       " (Any[\"6.1800\", \"6.2040\", \"6.2060\", \"6.2061\", \"6.2220\", \"6.2221\", \"6.2370\", \"6.2600\", \"6.4200\", \"6.4210\", \"6.4590\", \"6.4860\", \"6.4880\", \"6.8301\", \"6.8611\", \"6.9030\", \"6.UAR\", \"6.UAT\"], \"geq\", 2)\n",
       " (Any[\"6.3900\", \"6.3950\", \"6.4590\", \"6.8301\", \"6.8611\"], \"geq\", 1)\n",
       " (Any[\"6.4200\", \"6.4210\", \"6.8301\", \"6.8611\"], \"geq\", 1)\n",
       " (Any[\"18.404\", \"6.3730\", \"6.4210\", \"6.5151\", \"6.5831\", \"6.7411\", \"6.7930\", \"6.8300\", \"6.8301\", \"6.8371\", \"6.8611\", \"6.8701\", \"6.8711\", \"6.S079\", \"6.S966\", \"6.4200\", \"6.4210\", \"6.8301\", \"6.8611\"], \"geq\", 2)\n",
       " (Any[(Any[\"18.600\", \"2.007\", (Any[\"6.100A\", \"6.100B\"], \"eq\", 2), \"6.1010\", \"6.1020\", \"6.1040\", \"6.1060\", \"6.1100\", \"6.1120\", \"6.1200\"  …  \"6.93506.935\", (Any[\"6.C01\", \"1.C01\"], \"eq\", 2), (Any[\"6.C01\", \"10.C01\"], \"eq\", 2), (Any[\"6.C01\", \"2.C01\"], \"eq\", 2), (Any[\"6.C01\", \"20.C01\"], \"eq\", 2), (Any[\"6.C01\", \"22.C01\"], \"eq\", 2), (Any[\"6.C01\", \"3.C01\"], \"eq\", 2), \"6.S047\", \"6.UAR\", \"6.UAT\"], \"geq\", 1), \"Math (course 18) requirement\"], \"geq\", 1)"
      ]
     },
     "metadata": {},
     "output_type": "display_data"
    }
   ],
   "source": [
    "requirements[5]"
   ]
  },
  {
   "cell_type": "code",
   "execution_count": 53,
   "metadata": {},
   "outputs": [
    {
     "data": {
      "text/plain": [
       "1-element Vector{VariableRef}:\n",
       " _[37999]"
      ]
     },
     "metadata": {},
     "output_type": "display_data"
    }
   ],
   "source": [
    "# Helper function to map the inequality string to a JuMP constraint\n",
    "function create_inequality_constraint(model, expr, ineq::String, value)\n",
    "    if ineq == \"geq\"\n",
    "        @constraint(model, expr >= value)\n",
    "    elseif ineq == \"eq\"\n",
    "        @constraint(model, expr == value)\n",
    "    elseif ineq == \"leq\"\n",
    "        @constraint(model, expr <= value)\n",
    "    else\n",
    "        error(\"Unknown inequality type: $ineq\")\n",
    "    end\n",
    "end\n",
    "\n",
    "# Main function to create JuMP constraints based on the requirements vector\n",
    "function add_requirements_constraints(model::Model, requirements::Vector, bin_var::Bool=false, group::Bool=false)\n",
    "    outer_group = Vector{Any}()\n",
    "    for req in requirements\n",
    "        courses, ineq, cutoff = req\n",
    "\n",
    "        # If the course requirement is a nested structure (i.e., a vector of other requirements)\n",
    "        if any(x -> isa(x, Tuple), courses)\n",
    "            # Recursively handle the nested requirements\n",
    "            solos = Vector{Any}()\n",
    "            for nested_req in courses\n",
    "                if isa(nested_req, Tuple)\n",
    "                    temps = add_requirements_constraints(model, [nested_req], true)\n",
    "                    append!(outer_group, temps)\n",
    "                else\n",
    "                    push!(solos, nested_req)\n",
    "                end\n",
    "            end\n",
    "            if !isempty(solos)\n",
    "                temps = add_requirements_constraints(model, [(solos, \"geq\", 1)], true)\n",
    "                append!(outer_group, temps)\n",
    "            end\n",
    "            final_tup = (outer_group, ineq, cutoff)\n",
    "            add_requirements_constraints(model, [final_tup], false, true)\n",
    "            outer_group = [@variable(model, binary=true)]\n",
    "        else\n",
    "            # Retrieve the variables for each course in the list\n",
    "            if group\n",
    "                course_inds = courses\n",
    "                course_expr = sum(course_inds)\n",
    "            else\n",
    "                course_inds = [subjectid_to_index[course] for course in courses if haskey(subjectid_to_index, course)]\n",
    "                if isempty(course_inds)\n",
    "                    continue\n",
    "                end\n",
    "                course_expr = sum(X[course_ind, s] for course_ind in course_inds, s in 1:S)\n",
    "            end\n",
    "\n",
    "            if bin_var\n",
    "                inner_group = @variable(model, binary=true)\n",
    "                push!(outer_group, inner_group)\n",
    "                # Create the appropriate inequality constraint\n",
    "                new_cutoff = cutoff * inner_group\n",
    "                create_inequality_constraint(model, course_expr, ineq, new_cutoff)\n",
    "            else\n",
    "                # Create the appropriate inequality constraint\n",
    "                create_inequality_constraint(model, course_expr, ineq, cutoff)\n",
    "            end\n",
    "        end\n",
    "    end\n",
    "    return outer_group\n",
    "end\n",
    "\n",
    "real_requirements = [(requirements, \"eq\", length(requirements))]\n",
    "add_requirements_constraints(model, real_requirements)"
   ]
  },
  {
   "cell_type": "markdown",
   "metadata": {},
   "source": [
    "#### Adding Prereq constraints"
   ]
  },
  {
   "cell_type": "code",
   "execution_count": 147,
   "metadata": {},
   "outputs": [
    {
     "data": {
      "text/plain": [
       "4703-element Vector{Union{Nothing, String}}:\n",
       " \"GIR:CAL1\"\n",
       " nothing\n",
       " \"GIR:CAL1\"\n",
       " nothing\n",
       " nothing\n",
       " nothing\n",
       " nothing\n",
       " \"GIR:CAL2\"\n",
       " nothing\n",
       " \"''Permission of instructor''\"\n",
       " \"2.003, 2.016, 2.678\"\n",
       " nothing\n",
       " nothing\n",
       " ⋮\n",
       " nothing\n",
       " nothing\n",
       " nothing\n",
       " nothing\n",
       " nothing\n",
       " nothing\n",
       " nothing\n",
       " nothing\n",
       " nothing\n",
       " nothing\n",
       " \"''One intermediate subject in French''/''permission of instructor''\"\n",
       " nothing"
      ]
     },
     "execution_count": 147,
     "metadata": {},
     "output_type": "execute_result"
    }
   ],
   "source": [
    "raw_prerequisites = map(course -> get(course, \"prerequisites\", nothing), all_classes)"
   ]
  },
  {
   "cell_type": "code",
   "execution_count": 148,
   "metadata": {},
   "outputs": [],
   "source": [
    "abstract type ExprNode end\n",
    "\n",
    "struct CourseNode <: ExprNode\n",
    "    course::String\n",
    "end\n",
    "\n",
    "struct ANDNode <: ExprNode\n",
    "    left::ExprNode\n",
    "    right::ExprNode\n",
    "end\n",
    "\n",
    "struct ORNode <: ExprNode\n",
    "    left::ExprNode\n",
    "    right::ExprNode\n",
    "end\n",
    "\n",
    "struct PreReq\n",
    "    root::CourseNode\n",
    "    prereqs::Union{ExprNode, Nothing}\n",
    "end "
   ]
  },
  {
   "cell_type": "code",
   "execution_count": 149,
   "metadata": {},
   "outputs": [
    {
     "data": {
      "text/plain": [
       "parse_prereq_string (generic function with 1 method)"
      ]
     },
     "execution_count": 149,
     "metadata": {},
     "output_type": "execute_result"
    }
   ],
   "source": [
    "function parse_prereq_string(input)\n",
    "    if input === nothing\n",
    "        return\n",
    "    end\n",
    "    input = replace(input, r\"\\s+\" => \"\")\n",
    "    tokens = collect(input)\n",
    "    function parse(tokens::Vector{Char})::ExprNode\n",
    "        stack = ExprNode[]\n",
    "        buffer = IOBuffer()\n",
    "        while !isempty(tokens)\n",
    "            token = popfirst!(tokens)\n",
    "            if token == '('\n",
    "                node = parse(tokens)\n",
    "                push!(stack, node)\n",
    "            elseif token == ')'\n",
    "                break\n",
    "            elseif token == ','\n",
    "                left = isempty(stack) ? CourseNode(String(take!(buffer))) : pop!(stack)\n",
    "                right = parse(tokens)\n",
    "                return ANDNode(left, right)\n",
    "            elseif token == '/'\n",
    "                left = isempty(stack) ? CourseNode(String(take!(buffer))) : pop!(stack)\n",
    "                right = parse(tokens)\n",
    "                return ORNode(left, right)\n",
    "            else\n",
    "                write(buffer, token)\n",
    "            end\n",
    "        end\n",
    "        return isempty(stack) ? CourseNode(String(take!(buffer))) : stack[1]\n",
    "    end\n",
    "    return parse(tokens)\n",
    "end"
   ]
  },
  {
   "cell_type": "code",
   "execution_count": 150,
   "metadata": {},
   "outputs": [
    {
     "data": {
      "text/plain": [
       "replace_gir_terms (generic function with 1 method)"
      ]
     },
     "execution_count": 150,
     "metadata": {},
     "output_type": "execute_result"
    }
   ],
   "source": [
    "function replace_gir_terms(input_str)\n",
    "    if input_str === nothing\n",
    "        return \n",
    "    end\n",
    "    gir_map = Dict(\n",
    "        \"GIR:CHEM\" => [\"3.091\", \"5.111\", \"5.112\"],\n",
    "        \"GIR:PHY1\" => [\"8.01\", \"8.011\", \"8.012\", \"8.01L\"],\n",
    "        \"GIR:PHY2\" => [\"8.02\", \"8.021\", \"8.022\"],\n",
    "        \"GIR:CAL1\" => [\"18.01\", \"18.01A\"],\n",
    "        \"GIR:CAL2\" => [\"18.02\", \"18.02A\", \"18.022\"],\n",
    "        \"GIR:BIOL\" => [\"7.012\", \"7.013\", \"7.014\", \"7.015\", \"7.016\"]\n",
    "    )\n",
    "    pattern = r\"GIR:\\w+\"\n",
    "    replaced_str = replace(input_str, pattern => x -> begin\n",
    "        term = match(pattern, x).match\n",
    "        if haskey(gir_map, term)\n",
    "            \"(\" * join(gir_map[term], \"/\") * \")\"\n",
    "        else\n",
    "            term\n",
    "        end\n",
    "    end)\n",
    "    return replaced_str\n",
    "end"
   ]
  },
  {
   "cell_type": "code",
   "execution_count": 151,
   "metadata": {},
   "outputs": [
    {
     "data": {
      "text/plain": [
       "4703-element Vector{Union{Nothing, String}}:\n",
       " \"(18.01/18.01A)\"\n",
       " nothing\n",
       " \"(18.01/18.01A)\"\n",
       " nothing\n",
       " nothing\n",
       " nothing\n",
       " nothing\n",
       " \"(18.02/18.02A/18.022)\"\n",
       " nothing\n",
       " \"''Permission of instructor''\"\n",
       " \"2.003, 2.016, 2.678\"\n",
       " nothing\n",
       " nothing\n",
       " ⋮\n",
       " nothing\n",
       " nothing\n",
       " nothing\n",
       " nothing\n",
       " nothing\n",
       " nothing\n",
       " nothing\n",
       " nothing\n",
       " nothing\n",
       " nothing\n",
       " \"''One intermediate subject in French''/''permission of instructor''\"\n",
       " nothing"
      ]
     },
     "execution_count": 151,
     "metadata": {},
     "output_type": "execute_result"
    }
   ],
   "source": [
    "prerequisites = map(prereq_str -> replace_gir_terms(prereq_str), raw_prerequisites)"
   ]
  },
  {
   "cell_type": "code",
   "execution_count": 152,
   "metadata": {},
   "outputs": [
    {
     "data": {
      "text/plain": [
       "4703-element Vector{Any}:\n",
       " PreReq(CourseNode(\"1.00\"), ORNode(CourseNode(\"18.01\"), CourseNode(\"18.01A\")))\n",
       " PreReq(CourseNode(\"1.000\"), nothing)\n",
       " PreReq(CourseNode(\"1.001\"), ORNode(CourseNode(\"18.01\"), CourseNode(\"18.01A\")))\n",
       " PreReq(CourseNode(\"1.005\"), nothing)\n",
       " PreReq(CourseNode(\"1.007\"), nothing)\n",
       " PreReq(CourseNode(\"1.008\"), nothing)\n",
       " PreReq(CourseNode(\"1.009\"), nothing)\n",
       " PreReq(CourseNode(\"1.010\"), ORNode(CourseNode(\"18.02\"), ORNode(CourseNode(\"18.02A\"), CourseNode(\"18.022\"))))\n",
       " PreReq(CourseNode(\"1.011\"), nothing)\n",
       " PreReq(CourseNode(\"1.013\"), CourseNode(\"''Permissionofinstructor''\"))\n",
       " PreReq(CourseNode(\"1.015\"), ANDNode(CourseNode(\"2.003\"), ANDNode(CourseNode(\"2.016\"), CourseNode(\"2.678\"))))\n",
       " PreReq(CourseNode(\"1.016\"), nothing)\n",
       " PreReq(CourseNode(\"1.018\"), nothing)\n",
       " ⋮\n",
       " PreReq(CourseNode(\"WGS.250\"), nothing)\n",
       " PreReq(CourseNode(\"WGS.270\"), nothing)\n",
       " PreReq(CourseNode(\"WGS.271\"), nothing)\n",
       " PreReq(CourseNode(\"WGS.274\"), nothing)\n",
       " PreReq(CourseNode(\"WGS.275\"), nothing)\n",
       " PreReq(CourseNode(\"WGS.276\"), nothing)\n",
       " PreReq(CourseNode(\"WGS.277\"), nothing)\n",
       " PreReq(CourseNode(\"WGS.301\"), nothing)\n",
       " PreReq(CourseNode(\"WGS.303\"), nothing)\n",
       " PreReq(CourseNode(\"WGS.310\"), nothing)\n",
       " PreReq(CourseNode(\"WGS.321\"), ORNode(CourseNode(\"''OneintermediatesubjectinFrench''\"), CourseNode(\"''permissionofinstructor''\")))\n",
       " PreReq(CourseNode(\"WGS.S10\"), nothing)"
      ]
     },
     "execution_count": 152,
     "metadata": {},
     "output_type": "execute_result"
    }
   ],
   "source": [
    "prerequisite_expressions = []\n",
    "for index in 1:length(prerequisites)\n",
    "    course_id = CourseNode(index_to_subjectid[index])\n",
    "    prereq_tree = parse_prereq_string(prerequisites[index])\n",
    "    push!(prerequisite_expressions, PreReq(course_id, prereq_tree))\n",
    "end\n",
    "prerequisite_expressions"
   ]
  },
  {
   "cell_type": "code",
   "execution_count": 153,
   "metadata": {},
   "outputs": [
    {
     "data": {
      "text/plain": [
       "add_prereq_constraint (generic function with 1 method)"
      ]
     },
     "execution_count": 153,
     "metadata": {},
     "output_type": "execute_result"
    }
   ],
   "source": [
    "function add_course_constraint(course::CourseNode, model::Model, sem::Int)\n",
    "    index = get(subjectid_to_index, course.course, nothing)\n",
    "    if index == nothing\n",
    "        return 0  # Ignore unknown courses\n",
    "    end\n",
    "    if sem == 1\n",
    "        return 0  # Cannot satisfy prerequisites in the first semester\n",
    "    else\n",
    "        return handle_prerequisite_sum(index, model, sem)\n",
    "    end\n",
    "end\n",
    "\n",
    "function handle_prerequisite_sum(index::Int, model::Model, sem::Int)\n",
    "    prereq_sum = sum(X[index, s] for s in 1:sem-1)\n",
    "    binary_prereq_var = @variable(model, binary=true)\n",
    "    @constraint(model, binary_prereq_var <= prereq_sum)\n",
    "    @constraint(model, binary_prereq_var >=  prereq_sum / (sem-1))  # Ensure binary behavior\n",
    "    return binary_prereq_var\n",
    "end\n",
    "\n",
    "function add_and_constraint(left_var, right_var, model::Model)\n",
    "    and_var = @variable(model, binary=true)\n",
    "    @constraint(model, and_var <= left_var)\n",
    "    @constraint(model, and_var <= right_var)\n",
    "    @constraint(model, and_var >= left_var + right_var - 1)\n",
    "    return and_var\n",
    "end\n",
    "\n",
    "function add_or_constraint(left_var, right_var, model::Model)\n",
    "    or_var = @variable(model, binary=true)\n",
    "    @constraint(model, or_var >= left_var)\n",
    "    @constraint(model, or_var >= right_var)\n",
    "    @constraint(model, or_var <= left_var + right_var)\n",
    "    return or_var\n",
    "end\n",
    "\n",
    "function add_and_or_constraints(expr::ExprNode, model::Model, sem::Int)\n",
    "    if isa(expr, CourseNode)\n",
    "        return add_course_constraint(expr, model, sem)\n",
    "    elseif isa(expr, ANDNode)\n",
    "        left_var = add_and_or_constraints(expr.left, model, sem)\n",
    "        right_var = add_and_or_constraints(expr.right, model, sem)\n",
    "        return add_and_constraint(left_var, right_var, model)\n",
    "    elseif isa(expr, ORNode)\n",
    "        left_var = add_and_or_constraints(expr.left, model, sem)\n",
    "        right_var = add_and_or_constraints(expr.right, model, sem)\n",
    "        return add_or_constraint(left_var, right_var, model)\n",
    "    else\n",
    "        error(\"Unknown expression type\")\n",
    "    end\n",
    "end\n",
    "\n",
    "function add_prereq_constraint(prereq_obj::PreReq, model::Model, sem::Int)\n",
    "    index = get(subjectid_to_index, prereq_obj.root.course, nothing)\n",
    "    if index == nothing\n",
    "        return 1  # Ignore unknown courses\n",
    "    end\n",
    "    if prereq_obj.prereqs === nothing\n",
    "        return X[index, sem]\n",
    "    else\n",
    "        prereq_var = add_and_or_constraints(prereq_obj.prereqs, model, sem)\n",
    "        @constraint(model, X[index, sem] <= prereq_var)\n",
    "        return X[index, sem]\n",
    "    end\n",
    "end\n"
   ]
  },
  {
   "cell_type": "code",
   "execution_count": 154,
   "metadata": {},
   "outputs": [],
   "source": [
    "### Adding Course prereq constraints\n",
    "for s in 1:S\n",
    "    for prereq_expr in prerequisite_expressions\n",
    "        add_prereq_constraint(prereq_expr, model, s)\n",
    "    end\n",
    "end"
   ]
  },
  {
   "cell_type": "markdown",
   "metadata": {},
   "source": [
    "#### Optimizing the Model and Interpretation"
   ]
  },
  {
   "cell_type": "code",
   "execution_count": 155,
   "metadata": {},
   "outputs": [
    {
     "name": "stdout",
     "output_type": "stream",
     "text": [
      "Gurobi Optimizer version 11.0.2 build v11.0.2rc0 (mac64[arm] - Darwin 21.5.0 21F79)\n",
      "\n",
      "CPU model: Apple M1\n",
      "Thread count: 8 physical cores, 8 logical processors, using up to 8 threads\n",
      "\n",
      "Optimize a model with 422334 rows, 155174 columns and 1359208 nonzeros\n",
      "Model fingerprint: 0x50040df8\n",
      "Variable types: 0 continuous, 155174 integer (155174 binary)\n",
      "Coefficient statistics:\n",
      "  Matrix range     [1e-01, 8e+01]\n",
      "  Objective range  [1e+00, 8e+01]\n",
      "  Bounds range     [0e+00, 0e+00]\n",
      "  RHS range        [1e+00, 1e+02]\n",
      "\n",
      "MIP start from previous solve produced solution with objective 217.68 (0.18s)\n",
      "Loaded MIP start from previous solve with objective 217.68\n",
      "\n",
      "Presolve removed 377967 rows and 129679 columns\n",
      "Presolve time: 2.47s\n",
      "Presolved: 44367 rows, 25495 columns, 153568 nonzeros\n",
      "Variable types: 0 continuous, 25495 integer (25495 binary)\n",
      "Deterministic concurrent LP optimizer: primal and dual simplex\n",
      "Showing primal log only...\n",
      "\n",
      "Concurrent spin time: 0.03s\n",
      "\n",
      "Solved with dual simplex\n",
      "\n",
      "Use crossover to convert LP symmetric solution to basic solution...\n",
      "\n",
      "Root relaxation: objective 2.167867e+02, 3084 iterations, 0.19 seconds (0.24 work units)\n",
      "\n",
      "    Nodes    |    Current Node    |     Objective Bounds      |     Work\n",
      " Expl Unexpl |  Obj  Depth IntInf | Incumbent    BestBd   Gap | It/Node Time\n",
      "\n",
      "     0     0  216.78667    0  559  217.68000  216.78667  0.41%     -    3s\n",
      "     0     0     cutoff    0       217.68000  217.68000  0.00%     -    3s\n",
      "\n",
      "Explored 1 nodes (4649 simplex iterations) in 3.92 seconds (6.13 work units)\n",
      "Thread count was 8 (of 8 available processors)\n",
      "\n",
      "Solution count 1: 217.68 \n",
      "\n",
      "Optimal solution found (tolerance 1.00e-04)\n",
      "Best objective 2.176800000000e+02, best bound 2.176800000000e+02, gap 0.0000%\n",
      "\n",
      "User-callback calls 1147, time in user-callback 0.00 sec\n"
     ]
    }
   ],
   "source": [
    "optimize!(model)"
   ]
  },
  {
   "cell_type": "code",
   "execution_count": 162,
   "metadata": {},
   "outputs": [
    {
     "data": {
      "text/plain": [
       "interpret_course_units (generic function with 1 method)"
      ]
     },
     "execution_count": 162,
     "metadata": {},
     "output_type": "execute_result"
    }
   ],
   "source": [
    "function interpret_course_nums(classes_id_per_sem)\n",
    "    course_nums = [[all_classes[class_ind][:subject_id] for class_ind in sem] for sem in classes_id_per_sem]\n",
    "    return course_nums\n",
    "end\n",
    "\n",
    "\n",
    "\n",
    "function interpret_course_attr(classes_id_per_sem, attr)\n",
    "    courses_attr = [[get(all_classes[class_ind], Symbol(attr), \"\") for class_ind in sem] for sem in classes_id_per_sem]\n",
    "    return courses_attr\n",
    "end\n",
    "\n",
    "function interpret_course_hours(classes_id_per_sem)\n",
    "    course_hours = [[H[class_ind] for class_ind in sem] for sem in classes_id_per_sem]\n",
    "    return course_hours\n",
    "end\n",
    "\n",
    "function interpret_course_units(classes_id_per_sem)\n",
    "    course_units = [[U[class_ind] for class_ind in sem] for sem in classes_id_per_sem]\n",
    "    return course_units\n",
    "end"
   ]
  },
  {
   "cell_type": "code",
   "execution_count": 161,
   "metadata": {},
   "outputs": [
    {
     "data": {
      "text/plain": [
       "8-element Vector{Vector{String}}:\n",
       " [\"21M.622\", \"21M.747\", \"8.01L\"]\n",
       " [\"18.01\", \"21M.460\", \"3.091\", \"6.100A\"]\n",
       " [\"18.022\", \"6.1010\", \"6.1200\"]\n",
       " [\"21M.623\", \"6.1210\", \"ES.113\"]\n",
       " [\"21M.451\", \"21W.032\", \"6.3700\", \"8.02\"]\n",
       " [\"18.06\", \"6.1400\", \"6.3260\"]\n",
       " [\"6.3900\", \"6.3950\", \"7.012\"]\n",
       " [\"6.3100\", \"6.8301\", \"6.UAT\"]"
      ]
     },
     "execution_count": 161,
     "metadata": {},
     "output_type": "execute_result"
    }
   ],
   "source": [
    "taken_classes_sem = [[ind for (ind, val) in enumerate(sem) if val == 1] for sem in eachcol(value.(X))]\n",
    "interpret_course_nums(taken_classes_sem)"
   ]
  },
  {
   "cell_type": "code",
   "execution_count": 166,
   "metadata": {},
   "outputs": [
    {
     "ename": "LoadError",
     "evalue": "UndefVarError: `course_ids` not defined",
     "output_type": "error",
     "traceback": [
      "UndefVarError: `course_ids` not defined",
      "",
      "Stacktrace:",
      " [1] top-level scope",
      "   @ In[166]:1"
     ]
    }
   ],
   "source": [
    "function interpret_course_attr(classes_id_per_sem, \"title\")"
   ]
  },
  {
   "cell_type": "code",
   "execution_count": 159,
   "metadata": {},
   "outputs": [
    {
     "data": {
      "text/plain": [
       "PreReq(CourseNode(\"16.84\"), ORNode(CourseNode(\"6.4200\"), CourseNode(\"''permissionofinstructor''\")))"
      ]
     },
     "execution_count": 159,
     "metadata": {},
     "output_type": "execute_result"
    }
   ],
   "source": [
    "prerequisite_expressions[subjectid_to_index[\"16.84\"]]"
   ]
  },
  {
   "cell_type": "code",
   "execution_count": 160,
   "metadata": {},
   "outputs": [
    {
     "data": {
      "text/plain": [
       "8-element Vector{Float64}:\n",
       " 20.32\n",
       " 31.049999999999997\n",
       " 31.43\n",
       " 20.43\n",
       " 31.09\n",
       " 28.15\n",
       " 25.86\n",
       " 29.349999999999998"
      ]
     },
     "execution_count": 160,
     "metadata": {},
     "output_type": "execute_result"
    }
   ],
   "source": [
    "sems_hours = interpret_course_hours(taken_classes_sem)\n",
    "[sum(sem_hours) for sem_hours in sems_hours]"
   ]
  }
 ],
 "metadata": {
  "kernelspec": {
   "display_name": "Julia 1.11.2",
   "language": "julia",
   "name": "julia-1.11"
  },
  "language_info": {
   "file_extension": ".jl",
   "mimetype": "application/julia",
   "name": "julia",
   "version": "1.11.2"
  }
 },
 "nbformat": 4,
 "nbformat_minor": 2
}
