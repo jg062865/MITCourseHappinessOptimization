{
 "cells": [
  {
   "cell_type": "code",
   "execution_count": 3,
   "metadata": {},
   "outputs": [
    {
     "name": "stderr",
     "output_type": "stream",
     "text": [
      "\u001b[32m\u001b[1m   Resolving\u001b[22m\u001b[39m package versions...\n",
      "\u001b[32m\u001b[1m  No Changes\u001b[22m\u001b[39m to `~/.julia/environments/v1.10/Project.toml`\n",
      "\u001b[32m\u001b[1m  No Changes\u001b[22m\u001b[39m to `~/.julia/environments/v1.10/Manifest.toml`\n",
      "\u001b[32m\u001b[1m   Resolving\u001b[22m\u001b[39m package versions...\n",
      "\u001b[32m\u001b[1m  No Changes\u001b[22m\u001b[39m to `~/.julia/environments/v1.10/Project.toml`\n",
      "\u001b[32m\u001b[1m  No Changes\u001b[22m\u001b[39m to `~/.julia/environments/v1.10/Manifest.toml`\n",
      "\u001b[32m\u001b[1m   Resolving\u001b[22m\u001b[39m package versions...\n",
      "\u001b[32m\u001b[1m  No Changes\u001b[22m\u001b[39m to `~/.julia/environments/v1.10/Project.toml`\n",
      "\u001b[32m\u001b[1m  No Changes\u001b[22m\u001b[39m to `~/.julia/environments/v1.10/Manifest.toml`\n"
     ]
    }
   ],
   "source": [
    "import Pkg; Pkg.add(\"Tables\")\n",
    "using CSV, Tables\n",
    "using DataFrames\n",
    "using Statistics\n",
    "\n",
    "Pkg.add(\"HTTP\")\n",
    "using HTTP\n",
    "Pkg.add(\"JSON3\")\n",
    "using JSON3"
   ]
  },
  {
   "cell_type": "code",
   "execution_count": 13,
   "metadata": {},
   "outputs": [
    {
     "data": {
      "text/plain": [
       "\"https://fireroad.mit.edu/courses/all?full=true\""
      ]
     },
     "execution_count": 13,
     "metadata": {},
     "output_type": "execute_result"
    }
   ],
   "source": [
    "classes_url = \"https://fireroad.mit.edu/courses/all?full=true\""
   ]
  },
  {
   "cell_type": "code",
   "execution_count": null,
   "metadata": {},
   "outputs": [
    {
     "data": {
      "text/plain": [
       "get_all_classes (generic function with 1 method)"
      ]
     },
     "execution_count": 14,
     "metadata": {},
     "output_type": "execute_result"
    }
   ],
   "source": [
    "function get_all_classes()\n",
    "    \"\"\"\n",
    "    Returns an array of dictionaries for each class that is valid, meaning it has a rating,\n",
    "    in/out-of-class hours, and is public (ensuring that each class also has subject_id, title, and semester).\n",
    "    \"\"\"\n",
    "    response = HTTP.get(classes_url)\n",
    "    if response.status == 200\n",
    "        all_classes_info_raw = JSON3.read(String(response.body))  # List of dictionaries\n",
    "    else\n",
    "        println(\"Failed to fetch all_classes_data: \", response.status)\n",
    "        return []\n",
    "    end\n",
    "\n",
    "    # Identify \"bad\" classes missing required fields or not public\n",
    "    bad_data = Set([\n",
    "        class_info[\"subject_id\"] for class_info in all_classes_info_raw\n",
    "        if !haskey(class_info, \"rating\") ||\n",
    "           !haskey(class_info, \"in_class_hours\") ||\n",
    "           !haskey(class_info, \"out_of_class_hours\") ||\n",
    "           class_info[\"public\"] == false\n",
    "    ])\n",
    "\n",
    "    # Filter out bad classes\n",
    "    all_classes_info = [\n",
    "        class_info for class_info in all_classes_info_raw\n",
    "        if !(class_info[\"subject_id\"] in bad_data)\n",
    "    ]\n",
    "\n",
    "    return all_classes_info\n",
    "end"
   ]
  },
  {
   "cell_type": "code",
   "execution_count": null,
   "metadata": {},
   "outputs": [],
   "source": []
  },
  {
   "cell_type": "code",
   "execution_count": 15,
   "metadata": {},
   "outputs": [
    {
     "name": "stdout",
     "output_type": "stream",
     "text": [
      "Number of valid classes: 4703\n"
     ]
    }
   ],
   "source": [
    "all_classes = get_all_classes()\n",
    "println(\"Number of valid classes: \", length(all_classes))  # should be 4703"
   ]
  },
  {
   "cell_type": "code",
   "execution_count": 18,
   "metadata": {},
   "outputs": [
    {
     "data": {
      "text/plain": [
       "JSON3.Object{Base.CodeUnits{UInt8, String}, Vector{UInt64}} with 25 entries:\n",
       "  :has_final           => true\n",
       "  :description         => \"Introduction to the methods and applications of opti…\n",
       "  :offered_fall        => true\n",
       "  :offered_spring      => false\n",
       "  :meets_with_subjects => [\"6.C57\", \"15.C57\", \"IDS.C57\"]\n",
       "  :instructors         => [\"A. Jacquillat, H. Lu\"]\n",
       "  :joint_subjects      => [\"15.C571\"]\n",
       "  :total_units         => 12\n",
       "  :related_subjects    => [\"6.C57\", \"IDS.C57\", \"6.7220\", \"6.7250\", \"6.C06\", \"15…\n",
       "  :pdf_option          => false\n",
       "  :is_half_class       => false\n",
       "  :schedule            => \"Lecture,E62-233/MW/0/1-2.30,E62-262/MW/0/4-5.30,E62-…\n",
       "  :level               => \"U\"\n",
       "  :prerequisites       => \"18.C06/''permission of instructor''\"\n",
       "  :subject_id          => \"6.C571\"\n",
       "  :title               => \"Optimization Methods\"\n",
       "  :lab_units           => 0\n",
       "  :design_units        => 0\n",
       "  :public              => true\n",
       "  :offered_summer      => false\n",
       "  :lecture_units       => 4\n",
       "  :preparation_units   => 8\n",
       "  :url                 => \"http://student.mit.edu/catalog/m6e.html#6.C571\"\n",
       "  :is_variable_units   => false\n",
       "  :offered_IAP         => false"
      ]
     },
     "execution_count": 18,
     "metadata": {},
     "output_type": "execute_result"
    }
   ],
   "source": [
    "om_response = HTTP.get(\"https://fireroad.mit.edu/courses/lookup/6.c571\")\n",
    "if om_response.status == 200\n",
    "    opt_meth_info = JSON3.read(String(om_response.body))  # List of dictionaries\n",
    "end \n",
    "opt_meth_info"
   ]
  },
  {
   "cell_type": "code",
   "execution_count": 8,
   "metadata": {},
   "outputs": [
    {
     "data": {
      "text/plain": [
       "JSON3.Object{Base.CodeUnits{UInt8, String}, SubArray{UInt64, 1, Vector{UInt64}, Tuple{UnitRange{Int64}}, true}} with 28 entries:\n",
       "  :rating              => 5.4\n",
       "  :gir_attribute       => \"REST\"\n",
       "  :has_final           => false\n",
       "  :description         => \"Presents engineering problems in a computational set…\n",
       "  :offered_fall        => false\n",
       "  :offered_spring      => true\n",
       "  :meets_with_subjects => [\"1.001\"]\n",
       "  :instructors         => [\"J. Williams\"]\n",
       "  :out_of_class_hours  => 7.99\n",
       "  :total_units         => 12\n",
       "  :related_subjects    => [\"2.156\", \"1.205\", \"1.C51\", \"1.000\", \"1.631\", \"1.063\"…\n",
       "  :pdf_option          => false\n",
       "  :in_class_hours      => 5.7\n",
       "  :is_half_class       => false\n",
       "  :level               => \"U\"\n",
       "  :prerequisites       => \"GIR:CAL1\"\n",
       "  :subject_id          => \"1.00\"\n",
       "  :title               => \"Engineering Computation and Data Science\"\n",
       "  :lab_units           => 2\n",
       "  :design_units        => 0\n",
       "  :public              => true\n",
       "  :offered_summer      => false\n",
       "  :lecture_units       => 3\n",
       "  :preparation_units   => 7\n",
       "  :enrollment_number   => 25.43\n",
       "  ⋮                    => ⋮"
      ]
     },
     "execution_count": 8,
     "metadata": {},
     "output_type": "execute_result"
    }
   ],
   "source": [
    "all_classes[1]"
   ]
  },
  {
   "cell_type": "code",
   "execution_count": 16,
   "metadata": {},
   "outputs": [],
   "source": [
    "R = [class[:rating] for class in all_classes];\n",
    "H_raw = [class[:in_class_hours] + class[:out_of_class_hours] for class in all_classes];\n",
    "H = round.(H_raw, digits=2)\n",
    "U = [class[:total_units] for class in all_classes];\n",
    "\n",
    "n = length(all_classes);\n",
    "S = 8;"
   ]
  },
  {
   "cell_type": "markdown",
   "metadata": {},
   "source": [
    "### run the following lines to get the data as csv files"
   ]
  },
  {
   "cell_type": "code",
   "execution_count": 17,
   "metadata": {},
   "outputs": [
    {
     "data": {
      "text/plain": [
       "5733134"
      ]
     },
     "execution_count": 17,
     "metadata": {},
     "output_type": "execute_result"
    }
   ],
   "source": [
    "# uncomment and run each of the lines below to save the files\n",
    "\n",
    "# mkdir(\"data\")\n",
    "\n",
    "open(\"data/all_classes_info.json\", \"w\") do file \n",
    "    JSON3.write(file, all_classes)\n",
    "end\n",
    "\n",
    "# CSV.write(\"data/ratings.csv\",  Tables.table(R), writeheader=false)\n",
    "# CSV.write(\"data/hours.csv\",  Tables.table(H), writeheader=false)\n",
    "# CSV.write(\"data/units.csv\",  Tables.table(U), writeheader=false)\n",
    "# CSV.write(\"data/variables.csv\", Tables.table([n, S]), writeheader=false)"
   ]
  }
 ],
 "metadata": {
  "kernelspec": {
   "display_name": "Julia 1.10.5",
   "language": "julia",
   "name": "julia-1.10"
  },
  "language_info": {
   "file_extension": ".jl",
   "mimetype": "application/julia",
   "name": "julia",
   "version": "1.10.5"
  }
 },
 "nbformat": 4,
 "nbformat_minor": 2
}
