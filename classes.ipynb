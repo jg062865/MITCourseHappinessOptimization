{
 "cells": [
  {
   "cell_type": "code",
   "execution_count": 32,
   "metadata": {},
   "outputs": [],
   "source": [
    "using JuMP\n",
    "using Gurobi\n",
    "using CSV\n",
    "using DataFrames\n",
    "using Statistics\n",
    "\n",
    "# import Pkg; Pkg.add(\"HTTP\")\n",
    "using HTTP\n",
    "# import Pkg; Pkg.add(\"JSON3\")\n",
    "using JSON3"
   ]
  },
  {
   "cell_type": "code",
   "execution_count": 33,
   "metadata": {},
   "outputs": [
    {
     "name": "stdout",
     "output_type": "stream",
     "text": [
      "Set parameter Username\n",
      "Academic license - for non-commercial use only - expires 2025-09-08\n"
     ]
    }
   ],
   "source": [
    "const GRB_ENV = Gurobi.Env(output_flag=1);"
   ]
  },
  {
   "cell_type": "code",
   "execution_count": 4,
   "metadata": {},
   "outputs": [
    {
     "data": {
      "text/plain": [
       "\"https://fireroad.mit.edu/courses/all?full=true\""
      ]
     },
     "execution_count": 4,
     "metadata": {},
     "output_type": "execute_result"
    }
   ],
   "source": [
    "classes_url = \"https://fireroad.mit.edu/courses/all?full=true\""
   ]
  },
  {
   "cell_type": "code",
   "execution_count": 5,
   "metadata": {},
   "outputs": [
    {
     "data": {
      "text/plain": [
       "get_all_classes (generic function with 1 method)"
      ]
     },
     "execution_count": 5,
     "metadata": {},
     "output_type": "execute_result"
    }
   ],
   "source": [
    "function get_all_classes()\n",
    "    \"\"\"\n",
    "    Returns an array of dictionaries for each class that is valid, meaning it has a rating,\n",
    "    in/out-of-class hours, and is public (ensuring that each class also has subject_id, title, and semester).\n",
    "    \"\"\"\n",
    "    response = HTTP.get(classes_url)\n",
    "    if response.status == 200\n",
    "        all_classes_info_raw = JSON3.read(String(response.body))  # List of dictionaries\n",
    "    else\n",
    "        println(\"Failed to fetch all_classes_data: \", response.status)\n",
    "        return []\n",
    "    end\n",
    "\n",
    "    # Identify \"bad\" classes missing required fields or not public\n",
    "    bad_data = Set([\n",
    "        class_info[\"subject_id\"] for class_info in all_classes_info_raw\n",
    "        if !haskey(class_info, \"rating\") ||\n",
    "           !haskey(class_info, \"in_class_hours\") ||\n",
    "           !haskey(class_info, \"out_of_class_hours\") ||\n",
    "           class_info[\"public\"] == false\n",
    "    ])\n",
    "\n",
    "    # Filter out bad classes\n",
    "    all_classes_info = [\n",
    "        class_info for class_info in all_classes_info_raw\n",
    "        if !(class_info[\"subject_id\"] in bad_data)\n",
    "    ]\n",
    "\n",
    "    return all_classes_info\n",
    "end"
   ]
  },
  {
   "cell_type": "code",
   "execution_count": 6,
   "metadata": {},
   "outputs": [
    {
     "name": "stdout",
     "output_type": "stream",
     "text": [
      "Number of valid classes: 4703\n"
     ]
    }
   ],
   "source": [
    "all_classes = get_all_classes()\n",
    "println(\"Number of valid classes: \", length(all_classes))"
   ]
  },
  {
   "cell_type": "code",
   "execution_count": 12,
   "metadata": {},
   "outputs": [
    {
     "data": {
      "text/plain": [
       "JSON3.Object{Base.CodeUnits{UInt8, String}, SubArray{UInt64, 1, Vector{UInt64}, Tuple{UnitRange{Int64}}, true}} with 28 entries:\n",
       "  :rating              => 5.4\n",
       "  :gir_attribute       => \"REST\"\n",
       "  :has_final           => false\n",
       "  :description         => \"Presents engineering problems in a computational set…\n",
       "  :offered_fall        => false\n",
       "  :offered_spring      => true\n",
       "  :meets_with_subjects => [\"1.001\"]\n",
       "  :instructors         => [\"J. Williams\"]\n",
       "  :out_of_class_hours  => 7.99\n",
       "  :total_units         => 12\n",
       "  :related_subjects    => [\"2.156\", \"1.205\", \"1.C51\", \"1.000\", \"1.631\", \"1.063\"…\n",
       "  :pdf_option          => false\n",
       "  :in_class_hours      => 5.7\n",
       "  :is_half_class       => false\n",
       "  :level               => \"U\"\n",
       "  :prerequisites       => \"GIR:CAL1\"\n",
       "  :subject_id          => \"1.00\"\n",
       "  :title               => \"Engineering Computation and Data Science\"\n",
       "  :lab_units           => 2\n",
       "  :design_units        => 0\n",
       "  :public              => true\n",
       "  :offered_summer      => false\n",
       "  :lecture_units       => 3\n",
       "  :preparation_units   => 7\n",
       "  :enrollment_number   => 25.43\n",
       "  ⋮                    => ⋮"
      ]
     },
     "execution_count": 12,
     "metadata": {},
     "output_type": "execute_result"
    }
   ],
   "source": [
    "all_classes[1]"
   ]
  },
  {
   "cell_type": "code",
   "execution_count": 41,
   "metadata": {},
   "outputs": [
    {
     "data": {
      "text/plain": [
       "8"
      ]
     },
     "execution_count": 41,
     "metadata": {},
     "output_type": "execute_result"
    }
   ],
   "source": [
    "n = length(all_classes)\n",
    "S = 8"
   ]
  },
  {
   "cell_type": "code",
   "execution_count": 27,
   "metadata": {},
   "outputs": [],
   "source": [
    "R = [class[:rating] for class in all_classes];\n",
    "H = [class[:in_class_hours] + class[:out_of_class_hours] for class in all_classes];\n",
    "U = [class[:total_units] for class in all_classes];"
   ]
  },
  {
   "cell_type": "code",
   "execution_count": 25,
   "metadata": {},
   "outputs": [
    {
     "data": {
      "text/plain": [
       "6.049223899638529"
      ]
     },
     "execution_count": 25,
     "metadata": {},
     "output_type": "execute_result"
    }
   ],
   "source": [
    "mean(R)"
   ]
  },
  {
   "cell_type": "markdown",
   "metadata": {},
   "source": [
    "## OPTIMIZER"
   ]
  },
  {
   "cell_type": "code",
   "execution_count": 42,
   "metadata": {},
   "outputs": [
    {
     "name": "stdout",
     "output_type": "stream",
     "text": [
      "Gurobi Optimizer version 11.0.2 build v11.0.2rc0 (mac64[x86] - Darwin 23.6.0 23G93)\n",
      "\n",
      "CPU model: Intel(R) Core(TM) i5-8257U CPU @ 1.40GHz\n",
      "Thread count: 4 physical cores, 8 logical processors, using up to 8 threads\n",
      "\n",
      "Optimize a model with 8 rows, 37624 columns and 33360 nonzeros\n",
      "Model fingerprint: 0xf2a0b634\n",
      "Variable types: 0 continuous, 37624 integer (37624 binary)\n",
      "Coefficient statistics:\n",
      "  Matrix range     [1e+00, 3e+01]\n",
      "  Objective range  [2e-02, 6e+01]\n",
      "  Bounds range     [0e+00, 0e+00]\n",
      "  RHS range        [4e+01, 4e+01]\n",
      "Found heuristic solution: objective 127.6000000\n",
      "Presolve removed 7 rows and 35219 columns\n",
      "Presolve time: 0.12s\n",
      "Presolved: 1 rows, 2405 columns, 2405 nonzeros\n",
      "Variable types: 0 continuous, 2405 integer (1528 binary)\n",
      "Found heuristic solution: objective 113.2000000\n",
      "\n",
      "Root relaxation: objective 3.320000e+00, 1 iterations, 0.00 seconds (0.00 work units)\n",
      "\n",
      "    Nodes    |    Current Node    |     Objective Bounds      |     Work\n",
      " Expl Unexpl |  Obj  Depth IntInf | Incumbent    BestBd   Gap | It/Node Time\n",
      "\n",
      "     0     0    3.32000    0    1  113.20000    3.32000  97.1%     -    0s\n",
      "H    0     0                      29.7600000    3.32000  88.8%     -    0s\n",
      "H    0     0                       4.2400000    3.32000  21.7%     -    0s\n",
      "     0     0    3.32000    0    1    4.24000    3.32000  21.7%     -    0s\n",
      "\n",
      "Explored 1 nodes (1 simplex iterations) in 0.23 seconds (0.05 work units)\n",
      "Thread count was 8 (of 8 available processors)\n",
      "\n",
      "Solution count 4: 4.24 29.76 113.2 127.6 \n",
      "\n",
      "Optimal solution found (tolerance 1.00e-04)\n",
      "Best objective 4.240000000000e+00, best bound 4.240000000000e+00, gap 0.0000%\n",
      "\n",
      "User-callback calls 321, time in user-callback 0.00 sec\n"
     ]
    }
   ],
   "source": [
    "model = Model(() -> Gurobi.Optimizer(GRB_ENV))\n",
    "\n",
    "α = 0.8\n",
    "\n",
    "# @variable(model, X[1:n,1:s] >=0)\n",
    "@variable(model, X[1:n, 1:S], Bin)\n",
    "\n",
    "@objective(model, Min, sum(α*H[i]*X[i,s] - (1-α)*R[i]*X[i,s] for i=1:n,s=1:S));\n",
    "\n",
    "@constraint(model, [s in 1:S], sum(U[i]*X[i, s] for i=1:n) >= 36);\n",
    "# @constraint(model, capacity_constraint[j in 1:m], sum(x[i,j] for i=1:n) <= capacity[j]);\n",
    "\n",
    "optimize!(model)"
   ]
  },
  {
   "cell_type": "code",
   "execution_count": 44,
   "metadata": {},
   "outputs": [
    {
     "data": {
      "text/plain": [
       "8-element Vector{Int64}:\n",
       "  144\n",
       "  294\n",
       "  296\n",
       "  816\n",
       " 1180\n",
       " 2021\n",
       " 2885\n",
       " 3017"
      ]
     },
     "execution_count": 44,
     "metadata": {},
     "output_type": "execute_result"
    }
   ],
   "source": [
    "taken_classes = [i for i in 1:n if value.(X)[i] == 1.0]"
   ]
  },
  {
   "cell_type": "code",
   "execution_count": 52,
   "metadata": {},
   "outputs": [
    {
     "data": {
      "text/plain": [
       "8-element Vector{Vector{Int64}}:\n",
       " [144, 294, 296, 816, 1180, 2021, 2885, 3017]\n",
       " [144, 294, 296, 816, 1180, 2021, 2885, 3017]\n",
       " [144, 294, 296, 816, 1180, 2021, 2885, 3017]\n",
       " [144, 294, 816, 1180, 2021, 2885, 3017, 4347]\n",
       " [144, 294, 296, 816, 1180, 2021, 2885, 3017]\n",
       " [144, 294, 296, 816, 1180, 2021, 2885, 3017]\n",
       " [294, 714, 816, 1180, 2021, 2885, 3017, 4347]\n",
       " [144, 294, 296, 816, 1180, 2021, 2885, 3017]"
      ]
     },
     "execution_count": 52,
     "metadata": {},
     "output_type": "execute_result"
    }
   ],
   "source": [
    "taken_classes_sem = [[ind for (ind, val) in enumerate(sem) if val == 1] for sem in eachcol(value.(X))]"
   ]
  },
  {
   "cell_type": "code",
   "execution_count": 50,
   "metadata": {},
   "outputs": [
    {
     "data": {
      "text/plain": [
       "4703×8 Matrix{Float64}:\n",
       " -0.0  0.0  0.0  0.0  0.0  0.0  0.0  0.0\n",
       " -0.0  0.0  0.0  0.0  0.0  0.0  0.0  0.0\n",
       "  0.0  0.0  0.0  0.0  0.0  0.0  0.0  0.0\n",
       "  0.0  0.0  0.0  0.0  0.0  0.0  0.0  0.0\n",
       " -0.0  0.0  0.0  0.0  0.0  0.0  0.0  0.0\n",
       " -0.0  0.0  0.0  0.0  0.0  0.0  0.0  0.0\n",
       " -0.0  0.0  0.0  0.0  0.0  0.0  0.0  0.0\n",
       " -0.0  0.0  0.0  0.0  0.0  0.0  0.0  0.0\n",
       " -0.0  0.0  0.0  0.0  0.0  0.0  0.0  0.0\n",
       " -0.0  0.0  0.0  0.0  0.0  0.0  0.0  0.0\n",
       "  0.0  0.0  0.0  0.0  0.0  0.0  0.0  0.0\n",
       " -0.0  0.0  0.0  0.0  0.0  0.0  0.0  0.0\n",
       " -0.0  0.0  0.0  0.0  0.0  0.0  0.0  0.0\n",
       "  ⋮                        ⋮         \n",
       " -0.0  0.0  0.0  0.0  0.0  0.0  0.0  0.0\n",
       "  0.0  0.0  0.0  0.0  0.0  0.0  0.0  0.0\n",
       " -0.0  0.0  0.0  0.0  0.0  0.0  0.0  0.0\n",
       "  0.0  0.0  0.0  0.0  0.0  0.0  0.0  0.0\n",
       "  0.0  0.0  0.0  0.0  0.0  0.0  0.0  0.0\n",
       "  0.0  0.0  0.0  0.0  0.0  0.0  0.0  0.0\n",
       "  0.0  0.0  0.0  0.0  0.0  0.0  0.0  0.0\n",
       "  0.0  0.0  0.0  0.0  0.0  0.0  0.0  0.0\n",
       "  0.0  0.0  0.0  0.0  0.0  0.0  0.0  0.0\n",
       " -0.0  0.0  0.0  0.0  0.0  0.0  0.0  0.0\n",
       "  0.0  0.0  0.0  0.0  0.0  0.0  0.0  0.0\n",
       "  0.0  0.0  0.0  0.0  0.0  0.0  0.0  0.0"
      ]
     },
     "execution_count": 50,
     "metadata": {},
     "output_type": "execute_result"
    }
   ],
   "source": [
    "value.(X)"
   ]
  },
  {
   "cell_type": "code",
   "execution_count": 51,
   "metadata": {},
   "outputs": [
    {
     "data": {
      "text/plain": [
       "4703-element Vector{Float64}:\n",
       " -0.0\n",
       " -0.0\n",
       "  0.0\n",
       "  0.0\n",
       " -0.0\n",
       " -0.0\n",
       " -0.0\n",
       " -0.0\n",
       " -0.0\n",
       " -0.0\n",
       "  0.0\n",
       " -0.0\n",
       " -0.0\n",
       "  ⋮\n",
       " -0.0\n",
       "  0.0\n",
       " -0.0\n",
       "  0.0\n",
       "  0.0\n",
       "  0.0\n",
       "  0.0\n",
       "  0.0\n",
       "  0.0\n",
       " -0.0\n",
       "  0.0\n",
       "  0.0"
      ]
     },
     "execution_count": 51,
     "metadata": {},
     "output_type": "execute_result"
    }
   ],
   "source": [
    "value.(X)[:, 1]"
   ]
  },
  {
   "cell_type": "markdown",
   "metadata": {},
   "source": [
    "## INTERPRETER"
   ]
  },
  {
   "cell_type": "code",
   "execution_count": 57,
   "metadata": {},
   "outputs": [
    {
     "data": {
      "text/plain": [
       "interpret_course_nums (generic function with 1 method)"
      ]
     },
     "execution_count": 57,
     "metadata": {},
     "output_type": "execute_result"
    }
   ],
   "source": [
    "function interpret_course_nums(classes_id_per_sem)\n",
    "    course_nums = [[all_classes[class_ind][:subject_id] for class_ind in sem] for sem in classes_id_per_sem]\n",
    "    return course_nums\n",
    "end"
   ]
  },
  {
   "cell_type": "code",
   "execution_count": 58,
   "metadata": {},
   "outputs": [
    {
     "data": {
      "text/plain": [
       "8-element Vector{Vector{String}}:\n",
       " [\"1.713\", \"10.960\", \"10.991\", \"14.399\", \"15.839\", \"20.S900\", \"24.93\", \"3.903\"]\n",
       " [\"1.713\", \"10.960\", \"10.991\", \"14.399\", \"15.839\", \"20.S900\", \"24.93\", \"3.903\"]\n",
       " [\"1.713\", \"10.960\", \"10.991\", \"14.399\", \"15.839\", \"20.S900\", \"24.93\", \"3.903\"]\n",
       " [\"1.713\", \"10.960\", \"14.399\", \"15.839\", \"20.S900\", \"24.93\", \"3.903\", \"HST.533\"]\n",
       " [\"1.713\", \"10.960\", \"10.991\", \"14.399\", \"15.839\", \"20.S900\", \"24.93\", \"3.903\"]\n",
       " [\"1.713\", \"10.960\", \"10.991\", \"14.399\", \"15.839\", \"20.S900\", \"24.93\", \"3.903\"]\n",
       " [\"10.960\", \"12.834\", \"14.399\", \"15.839\", \"20.S900\", \"24.93\", \"3.903\", \"HST.533\"]\n",
       " [\"1.713\", \"10.960\", \"10.991\", \"14.399\", \"15.839\", \"20.S900\", \"24.93\", \"3.903\"]"
      ]
     },
     "execution_count": 58,
     "metadata": {},
     "output_type": "execute_result"
    }
   ],
   "source": [
    "interpret_course_nums(taken_classes_sem)"
   ]
  }
 ],
 "metadata": {
  "kernelspec": {
   "display_name": "Julia 1.10.5",
   "language": "julia",
   "name": "julia-1.10"
  },
  "language_info": {
   "file_extension": ".jl",
   "mimetype": "application/julia",
   "name": "julia",
   "version": "1.10.5"
  }
 },
 "nbformat": 4,
 "nbformat_minor": 2
}
