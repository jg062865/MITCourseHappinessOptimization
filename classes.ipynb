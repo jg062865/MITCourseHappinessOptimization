{
 "cells": [
  {
   "cell_type": "code",
   "execution_count": 3,
   "metadata": {},
   "outputs": [
    {
     "name": "stderr",
     "output_type": "stream",
     "text": [
      "\u001b[32m\u001b[1m   Resolving\u001b[22m\u001b[39m package versions...\n",
      "\u001b[32m\u001b[1m  No Changes\u001b[22m\u001b[39m to `~/.julia/environments/v1.10/Project.toml`\n",
      "\u001b[32m\u001b[1m  No Changes\u001b[22m\u001b[39m to `~/.julia/environments/v1.10/Manifest.toml`\n",
      "\u001b[32m\u001b[1m   Resolving\u001b[22m\u001b[39m package versions...\n",
      "\u001b[32m\u001b[1m   Installed\u001b[22m\u001b[39m StructTypes ─ v1.11.0\n",
      "\u001b[32m\u001b[1m   Installed\u001b[22m\u001b[39m JSON3 ─────── v1.14.1\n",
      "\u001b[32m\u001b[1m    Updating\u001b[22m\u001b[39m `~/.julia/environments/v1.10/Project.toml`\n",
      "  \u001b[90m[0f8b85d8] \u001b[39m\u001b[92m+ JSON3 v1.14.1\u001b[39m\n",
      "\u001b[32m\u001b[1m    Updating\u001b[22m\u001b[39m `~/.julia/environments/v1.10/Manifest.toml`\n",
      "  \u001b[90m[0f8b85d8] \u001b[39m\u001b[92m+ JSON3 v1.14.1\u001b[39m\n",
      "  \u001b[90m[856f2bd8] \u001b[39m\u001b[92m+ StructTypes v1.11.0\u001b[39m\n",
      "\u001b[32m\u001b[1mPrecompiling\u001b[22m\u001b[39m project...\n",
      "\u001b[32m  ✓ \u001b[39m\u001b[90mStructTypes\u001b[39m\n",
      "\u001b[32m  ✓ \u001b[39mJSON3\n",
      "  2 dependencies successfully precompiled in 13 seconds. 198 already precompiled.\n"
     ]
    }
   ],
   "source": [
    "import Pkg; Pkg.add(\"HTTP\")\n",
    "using HTTP\n",
    "import Pkg; Pkg.add(\"JSON3\")\n",
    "using JSON3"
   ]
  },
  {
   "cell_type": "code",
   "execution_count": 4,
   "metadata": {},
   "outputs": [
    {
     "data": {
      "text/plain": [
       "\"https://fireroad.mit.edu/courses/all?full=true\""
      ]
     },
     "execution_count": 4,
     "metadata": {},
     "output_type": "execute_result"
    }
   ],
   "source": [
    "classes_url = \"https://fireroad.mit.edu/courses/all?full=true\""
   ]
  },
  {
   "cell_type": "code",
   "execution_count": 5,
   "metadata": {},
   "outputs": [
    {
     "data": {
      "text/plain": [
       "get_all_classes (generic function with 1 method)"
      ]
     },
     "execution_count": 5,
     "metadata": {},
     "output_type": "execute_result"
    }
   ],
   "source": [
    "function get_all_classes()\n",
    "    \"\"\"\n",
    "    Returns an array of dictionaries for each class that is valid, meaning it has a rating,\n",
    "    in/out-of-class hours, and is public (ensuring that each class also has subject_id, title, and semester).\n",
    "    \"\"\"\n",
    "    response = HTTP.get(classes_url)\n",
    "    if response.status == 200\n",
    "        all_classes_info_raw = JSON3.read(String(response.body))  # List of dictionaries\n",
    "    else\n",
    "        println(\"Failed to fetch all_classes_data: \", response.status)\n",
    "        return []\n",
    "    end\n",
    "\n",
    "    # Identify \"bad\" classes missing required fields or not public\n",
    "    bad_data = Set([\n",
    "        class_info[\"subject_id\"] for class_info in all_classes_info_raw\n",
    "        if !haskey(class_info, \"rating\") ||\n",
    "           !haskey(class_info, \"in_class_hours\") ||\n",
    "           !haskey(class_info, \"out_of_class_hours\") ||\n",
    "           class_info[\"public\"] == false\n",
    "    ])\n",
    "\n",
    "    # Filter out bad classes\n",
    "    all_classes_info = [\n",
    "        class_info for class_info in all_classes_info_raw\n",
    "        if !(class_info[\"subject_id\"] in bad_data)\n",
    "    ]\n",
    "\n",
    "    return all_classes_info\n",
    "end"
   ]
  },
  {
   "cell_type": "code",
   "execution_count": 6,
   "metadata": {},
   "outputs": [
    {
     "name": "stdout",
     "output_type": "stream",
     "text": [
      "Number of valid classes: 4703\n"
     ]
    }
   ],
   "source": [
    "all_classes = get_all_classes()\n",
    "println(\"Number of valid classes: \", length(all_classes))"
   ]
  },
  {
   "cell_type": "code",
   "execution_count": 12,
   "metadata": {},
   "outputs": [
    {
     "data": {
      "text/plain": [
       "JSON3.Object{Base.CodeUnits{UInt8, String}, SubArray{UInt64, 1, Vector{UInt64}, Tuple{UnitRange{Int64}}, true}} with 28 entries:\n",
       "  :rating              => 5.4\n",
       "  :gir_attribute       => \"REST\"\n",
       "  :has_final           => false\n",
       "  :description         => \"Presents engineering problems in a computational set…\n",
       "  :offered_fall        => false\n",
       "  :offered_spring      => true\n",
       "  :meets_with_subjects => [\"1.001\"]\n",
       "  :instructors         => [\"J. Williams\"]\n",
       "  :out_of_class_hours  => 7.99\n",
       "  :total_units         => 12\n",
       "  :related_subjects    => [\"2.156\", \"1.205\", \"1.C51\", \"1.000\", \"1.631\", \"1.063\"…\n",
       "  :pdf_option          => false\n",
       "  :in_class_hours      => 5.7\n",
       "  :is_half_class       => false\n",
       "  :level               => \"U\"\n",
       "  :prerequisites       => \"GIR:CAL1\"\n",
       "  :subject_id          => \"1.00\"\n",
       "  :title               => \"Engineering Computation and Data Science\"\n",
       "  :lab_units           => 2\n",
       "  :design_units        => 0\n",
       "  :public              => true\n",
       "  :offered_summer      => false\n",
       "  :lecture_units       => 3\n",
       "  :preparation_units   => 7\n",
       "  :enrollment_number   => 25.43\n",
       "  ⋮                    => ⋮"
      ]
     },
     "execution_count": 12,
     "metadata": {},
     "output_type": "execute_result"
    }
   ],
   "source": [
    "all_classes[1]"
   ]
  },
  {
   "cell_type": "code",
   "execution_count": 15,
   "metadata": {},
   "outputs": [
    {
     "data": {
      "text/plain": [
       "8"
      ]
     },
     "execution_count": 15,
     "metadata": {},
     "output_type": "execute_result"
    }
   ],
   "source": [
    "n = length(all_classes)\n",
    "S = 8"
   ]
  },
  {
   "cell_type": "code",
   "execution_count": 13,
   "metadata": {},
   "outputs": [
    {
     "data": {
      "text/plain": [
       "4703-element Vector{Int64}:\n",
       " 12\n",
       " 12\n",
       " 12\n",
       "  3\n",
       "  6\n",
       "  3\n",
       "  3\n",
       " 12\n",
       " 12\n",
       "  6\n",
       " 12\n",
       "  9\n",
       " 12\n",
       "  ⋮\n",
       " 12\n",
       " 12\n",
       " 12\n",
       " 12\n",
       " 12\n",
       " 12\n",
       " 12\n",
       " 12\n",
       " 12\n",
       " 12\n",
       " 12\n",
       " 12"
      ]
     },
     "execution_count": 13,
     "metadata": {},
     "output_type": "execute_result"
    }
   ],
   "source": [
    "R = [class[:rating] for class in all_classes]\n",
    "H = [class[:in_class_hours] + class[:out_of_class_hours] for class in all_classes]\n",
    "U = [class[:total_units] for class in all_classes]"
   ]
  },
  {
   "cell_type": "code",
   "execution_count": null,
   "metadata": {},
   "outputs": [],
   "source": []
  },
  {
   "cell_type": "code",
   "execution_count": null,
   "metadata": {},
   "outputs": [],
   "source": []
  }
 ],
 "metadata": {
  "kernelspec": {
   "display_name": "Julia 1.10.5",
   "language": "julia",
   "name": "julia-1.10"
  },
  "language_info": {
   "file_extension": ".jl",
   "mimetype": "application/julia",
   "name": "julia",
   "version": "1.10.5"
  }
 },
 "nbformat": 4,
 "nbformat_minor": 2
}
