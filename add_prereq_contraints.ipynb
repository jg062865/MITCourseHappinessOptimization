{
 "cells": [
  {
   "cell_type": "code",
   "execution_count": 1,
   "id": "064a4b1e-1dac-40b0-8f43-726ae577b765",
   "metadata": {},
   "outputs": [],
   "source": [
    "using JuMP\n",
    "using Gurobi\n",
    "using Pkg"
   ]
  },
  {
   "cell_type": "code",
   "execution_count": 2,
   "id": "2a0aa8c4-3fc4-4c78-b162-9867d5fc048b",
   "metadata": {},
   "outputs": [
    {
     "name": "stdout",
     "output_type": "stream",
     "text": [
      "Set parameter Username\n",
      "Academic license - for non-commercial use only - expires 2025-09-04\n"
     ]
    },
    {
     "data": {
      "text/plain": [
       "A JuMP Model\n",
       "├ solver: Gurobi\n",
       "├ objective_sense: FEASIBILITY_SENSE\n",
       "├ num_variables: 0\n",
       "├ num_constraints: 0\n",
       "└ Names registered in the model: none"
      ]
     },
     "execution_count": 2,
     "metadata": {},
     "output_type": "execute_result"
    }
   ],
   "source": [
    "model = Model(Gurobi.Optimizer)"
   ]
  },
  {
   "cell_type": "markdown",
   "id": "5786dbd6-85d8-41ef-98fd-4edcb37b6fdd",
   "metadata": {},
   "source": [
    "**Fetch And Process Data**"
   ]
  },
  {
   "cell_type": "code",
   "execution_count": 3,
   "id": "1b760a41-5163-49e9-8523-eb681b570b98",
   "metadata": {},
   "outputs": [
    {
     "data": {
      "text/plain": [
       "6585-element Vector{Any}:\n",
       " Dict{String, Any}(\"public\" => true, \"out_of_class_hours\" => 7.99, \"rating\" => 5.4, \"is_variable_units\" => false, \"meets_with_subjects\" => Any[\"1.001\"], \"pdf_option\" => false, \"level\" => \"U\", \"subject_id\" => \"1.00\", \"lecture_units\" => 3, \"offered_fall\" => false…)\n",
       " Dict{String, Any}(\"public\" => true, \"out_of_class_hours\" => 6.16, \"rating\" => 5.12, \"is_variable_units\" => false, \"pdf_option\" => false, \"level\" => \"U\", \"schedule\" => \"Lecture,5-233/MW/0/9.30-11;Lab,5-233/F/0/9.30-11\", \"subject_id\" => \"1.000\", \"lecture_units\" => 3, \"offered_fall\" => true…)\n",
       " Dict{String, Any}(\"public\" => true, \"out_of_class_hours\" => 7.99, \"rating\" => 5.4, \"is_variable_units\" => false, \"meets_with_subjects\" => Any[\"1.00\"], \"pdf_option\" => false, \"level\" => \"G\", \"subject_id\" => \"1.001\", \"lecture_units\" => 3, \"offered_fall\" => false…)\n",
       " Dict{String, Any}(\"public\" => true, \"is_variable_units\" => false, \"meets_with_subjects\" => Any[\"1.147\"], \"pdf_option\" => false, \"level\" => \"U\", \"subject_id\" => \"1.004\", \"lecture_units\" => 3, \"offered_fall\" => false, \"description\" => \"Provides a practical introduction to key innovations in the fields of civil and environmental engineering that are currently having an impact. Structured around the different aspects of starting and maintaining a company in the first years after incorporation. Key topics include idea protection, team formation, and seed funds. Guest speakers who are involved in the startup process or are successful entrepreneurs present. Under faculty supervision, students work on case studies in areas such as renewable energy, sustainable design, food security, climate change, new infrastructures, and transportation. Concludes with the writing of a SBIR/STTR-type grant or business model. Students taking graduate version complete additional assignments.\", \"total_units\" => 12…)\n",
       " Dict{String, Any}(\"public\" => true, \"out_of_class_hours\" => 5.0, \"rating\" => 6.3, \"is_variable_units\" => false, \"pdf_option\" => false, \"level\" => \"U\", \"subject_id\" => \"1.005\", \"lecture_units\" => 1, \"offered_fall\" => true, \"description\" => \"Examines the frameworks, governance, science, and social science of sustainability around students' summer internships, research, and other experiential learning activities. During the summer (virtually) and through the first four weeks of the fall term, students engage in small group discussions on diverse topics in sustainability, from environmental justice to corporate social responsibility. Includes global climate action negotiation simulation activities, roundtables with experts in sustainability, and/or similar opportunities for interaction with broad topics in sustainability. In the fall, students reflect on their engagement with sustainability during their summer experience, culminating in a showcase of final presentations. Students planning to take this subject must apply in the spring; consult the program website for details.\"…)\n",
       " Dict{String, Any}(\"public\" => true, \"is_variable_units\" => false, \"pdf_option\" => false, \"level\" => \"U\", \"subject_id\" => \"1.006\", \"lecture_units\" => 3, \"offered_fall\" => false, \"description\" => \"Conveys the principles, tools, and practice of environmentally sustainable design. Augments understanding of societal limitations to implementation of sustainable solutions, such that they may be strategically navigated. Presents the arguments and historical motivation for early evaluation of environmental impact metrics; illustrates and utilizes modern, rigorous tools for environmental optimization; and highlights national and global experts drawn from non-governmental organizations (NGOs), government, industry, and academia. Provides an overview of the principles of Green Chemistry and Engineering, Life Cycle Analysis, toxicity prediction, and basic chemical and materials flows knowledge.\", \"total_units\" => 12, \"lab_units\" => 0…)\n",
       " Dict{String, Any}(\"public\" => true, \"out_of_class_hours\" => 0.55, \"rating\" => 6.35, \"is_historical\" => true, \"source_semester\" => \"spring-2021\", \"is_variable_units\" => false, \"pdf_option\" => false, \"level\" => \"U\", \"subject_id\" => \"1.007\", \"lecture_units\" => 3…)\n",
       " Dict{String, Any}(\"public\" => true, \"out_of_class_hours\" => 0.03, \"rating\" => 6.17, \"is_variable_units\" => false, \"pdf_option\" => false, \"level\" => \"U\", \"subject_id\" => \"1.008\", \"lecture_units\" => 1, \"offered_fall\" => true, \"description\" => \"Introduces engineering principles for sustainable development of infrastructure, environmental, and societal systems. Faculty members discuss case studies that highlight challenges and opportunities in the areas of smart cities, cyber-physical systems (transportation, electricity, and societal networks), sustainable resource management (land, water, and energy), and resilient design under the changing environment. Instruction covers the use of computation and data analytics for generating insights, and exercises designed to promote systems thinking and problem-solving skills. Subject can count toward the 6-unit discovery-focused credit limit for first-year students.\"…)\n",
       " Dict{String, Any}(\"public\" => true, \"out_of_class_hours\" => 1.67, \"rating\" => 5.53, \"is_variable_units\" => false, \"pdf_option\" => false, \"level\" => \"U\", \"subject_id\" => \"1.009\", \"lecture_units\" => 1, \"offered_fall\" => true, \"description\" => \"Provides an introduction to global climate change processes, drivers, and impacts. Offers exposure to exciting MIT research on climate change. Students explore why and how the world should solve this global problem and how they can contribute to the solutions. Students produce a mini-project on the topic. Subject can count toward the 6-unit discovery-focused credit limit for first year students.\"…)\n",
       " Dict{String, Any}(\"public\" => true, \"out_of_class_hours\" => 5.1, \"rating\" => 5.11, \"is_variable_units\" => false, \"pdf_option\" => false, \"level\" => \"U\", \"subject_id\" => \"1.010\", \"lecture_units\" => 5, \"offered_fall\" => true, \"description\" => \"Introduces probability and causal inference with an emphasis on understanding, quantifying, and modeling uncertainty and cause-effect relationships in an engineering context. Topics in the first half include events and their probability, the total probability and Bayes' theorems, discrete and continuous random variables and vectors, and conditional analysis. Topics in the second half include covariance, correlation, regression analysis, causality analysis, structural causal models, interventions, and hypothesis testing. Concepts illustrated through data and applications. credit cannot also be received for 1.010A or 1.010B.\"…)\n",
       " Dict{String, Any}(\"public\" => true, \"quarter_information\" => \"0,oct 18\", \"is_variable_units\" => false, \"pdf_option\" => false, \"level\" => \"U\", \"schedule\" => \"Lecture,1-242/TR/0/3-4.30;Recitation,1-242/W/0/2.30\", \"subject_id\" => \"1.010A\", \"lecture_units\" => 2, \"offered_fall\" => true, \"description\" => \"Introduces probability with an emphasis on probabilistic systems analysis. Readings about conceptual and mathematical background are given in advanced of each class. Classes revise background and are centered on developing problem-solving skills. The course is exam-based and focused on the analysis of probabilistic outcomes, estimating what can happen under uncertain environments. Topics include random events and their probability, combinatorial analysis, conditional analysis, random vectors, functions of random vectors, propagation of uncertainty, and prediction analysis. Credit cannot also be received for 1.010.\"…)\n",
       " Dict{String, Any}(\"public\" => true, \"quarter_information\" => \"1,oct 21\", \"is_variable_units\" => false, \"pdf_option\" => false, \"level\" => \"U\", \"schedule\" => \"Lecture,1-242/TR/0/3-4.30;Recitation,1-242/W/0/2.30\", \"subject_id\" => \"1.010B\", \"lecture_units\" => 2, \"offered_fall\" => true, \"description\" => \"Introduces causal inference with an emphasis on probabilistic systems analysis. Readings about conceptual and mathematical background are given in advanced of each class. Class is focused on understanding theory based on real-world applications. The course is project-based and focused on cause-effect relationships, understanding why probabilistic outcomes happen. Topics include correlation analysis, Reichenbach's principle, Simpson's paradox, structural causal models and graphs, interventions, do-calculus, average causal effects, dealing with missing information, mediation, and hypothesis testing. Credit cannot also be received for 1.010.\"…)\n",
       " Dict{String, Any}(\"public\" => true, \"out_of_class_hours\" => 6.05, \"rating\" => 5.8, \"is_historical\" => true, \"source_semester\" => \"fall-2018\", \"is_variable_units\" => false, \"pdf_option\" => false, \"level\" => \"U\", \"subject_id\" => \"1.011\", \"lecture_units\" => 3…)\n",
       " ⋮\n",
       " Dict{String, Any}(\"public\" => true, \"is_variable_units\" => true, \"pdf_option\" => false, \"level\" => \"G\", \"subject_id\" => \"WGS.605\", \"lecture_units\" => 0, \"offered_fall\" => true, \"description\" => \"Individual supervised work for graduate students who wish to study topics not covered in the regular Women's and Gender Studies offerings. Before registering for this subject, students must plan a course of study with a member of the Women's and Gender Studies faculty and secure the Director's approval. Normal maximum is 6 units; exceptional 9-unit projects occasionally approved.\", \"total_units\" => 0, \"lab_units\" => 0…)\n",
       " Dict{String, Any}(\"public\" => true, \"is_variable_units\" => false, \"pdf_option\" => false, \"level\" => \"G\", \"schedule\" => \"Lecture,5-233/R/1/4-7 PM\", \"subject_id\" => \"WGS.610\", \"lecture_units\" => 3, \"offered_fall\" => true, \"description\" => \"Summer: Information: Graduate Consortium in Gender, Culture, Women, and Sexuality\", \"total_units\" => 12…)\n",
       " Dict{String, Any}(\"public\" => true, \"is_variable_units\" => false, \"pdf_option\" => false, \"level\" => \"G\", \"subject_id\" => \"WGS.615\", \"lecture_units\" => 3, \"offered_fall\" => false, \"description\" => \"Investigates theories and practices of feminist inquiry across a range of disciplines. Feminist research involves rethinking disciplinary assumptions and methodologies, developing new understandings of what counts as knowledge, seeking alternative ways of understanding the origins of problems/issues, formulating new ways of asking questions and redefining the relationship between subjects and objects of study. Focus on methodology, i.e., the theory and analysis of how research should proceed. Special attention to epistemological issues--pre-suppositions about the nature of knowledge. What makes research distinctively feminist lies in the complex connections between epistemologies, methodologies and research methods. Explore how these connections are formed in the traditional disciplines and raise questions about why they are inadequate and/or problematic for feminist inquiry and what, specifically, are the feminist critiques of these intersections.\", \"total_units\" => 12, \"lab_units\" => 0…)\n",
       " Dict{String, Any}(\"public\" => true, \"is_variable_units\" => false, \"pdf_option\" => false, \"level\" => \"G\", \"subject_id\" => \"WGS.640\", \"lecture_units\" => 3, \"offered_fall\" => false, \"description\" => \"Close examination of women's life narratives. Topics vary from term to term. Limited to 10.\", \"total_units\" => 12, \"lab_units\" => 0…)\n",
       " Dict{String, Any}(\"public\" => true, \"is_variable_units\" => false, \"pdf_option\" => false, \"level\" => \"G\", \"subject_id\" => \"WGS.645\", \"lecture_units\" => 3, \"offered_fall\" => false, \"description\" => \"An examination of various topics in gender, culture, women, and sexuality studies. Syllabi vary depending on instructors.\", \"total_units\" => 12, \"lab_units\" => 0…)\n",
       " Dict{String, Any}(\"public\" => true, \"is_variable_units\" => false, \"pdf_option\" => false, \"level\" => \"G\", \"subject_id\" => \"WGS.680\", \"lecture_units\" => 3, \"offered_fall\" => true, \"description\" => \"Explores the changing map of the public and the private in pre-industrial and modern societies and examines how that map affected men's and women's production and consumption of goods and leisure. The reproductive strategies of women, either in conjunction with or in opposition to their families, is another major theme. Subject asks how an ideal of the 'domestic' arose in the early modern west, and to what extent did it limit the economic position of women; and how has that idea been challenged, and with what success in the post-industrial period. Focuses on western Europe since the Middle Ages and on the United States, but also examines how these issues have played themselves out in non-Western cultures. Graduate students are expected to pursue the subject in greater depth through reading and individual research.\", \"total_units\" => 12, \"lab_units\" => 0…)\n",
       " Dict{String, Any}(\"public\" => true, \"is_variable_units\" => false, \"pdf_option\" => false, \"level\" => \"G\", \"schedule\" => \"Lecture,1-277/W/1/6-9 PM\", \"subject_id\" => \"WGS.700\", \"lecture_units\" => 3, \"offered_fall\" => true, \"description\" => \"An interdisciplinary seminar aiming to familiarize students with the core texts and key debates that have shaped feminist and queer theories. Syllabi vary depending on instructors.\", \"total_units\" => 12…)\n",
       " Dict{String, Any}(\"public\" => true, \"out_of_class_hours\" => 5.5, \"rating\" => 6.25, \"is_variable_units\" => false, \"pdf_option\" => false, \"level\" => \"U\", \"subject_id\" => \"WGS.S10\", \"lecture_units\" => 3, \"offered_fall\" => false, \"description\" => \"Covers topics not included in regular curriculum; taught in seminar format. May be repeated for credit with permission of instructor.\"…)\n",
       " Dict{String, Any}(\"public\" => true, \"is_variable_units\" => false, \"pdf_option\" => false, \"level\" => \"U\", \"subject_id\" => \"WGS.S20\", \"lecture_units\" => 3, \"offered_fall\" => false, \"description\" => \"Covers topics not included in regular curriculum; taught in seminar format. May be repeated for credit with permission of instructor.\", \"total_units\" => 12, \"lab_units\" => 0…)\n",
       " Dict{String, Any}(\"public\" => true, \"is_variable_units\" => false, \"pdf_option\" => false, \"level\" => \"G\", \"subject_id\" => \"WGS.S30\", \"lecture_units\" => 3, \"offered_fall\" => true, \"description\" => \"Each of the following may be taken for credit as a Women?s and Gender Studies (WGS) subject when its content meets WGS criteria. The full description of each subject appears with its designated Course listing. For more information, contact the program office, 14E-316, 617-253-8844, wgs@mit.edu.\", \"total_units\" => 12, \"lab_units\" => 0…)\n",
       " Dict{String, Any}(\"public\" => true, \"is_variable_units\" => true, \"pdf_option\" => false, \"level\" => \"U\", \"subject_id\" => \"WGS.UR\", \"lecture_units\" => 0, \"offered_fall\" => true, \"description\" => \"Undergraduate research opportunities in the Women's and Gender Studies Program.\", \"total_units\" => 0, \"lab_units\" => 0…)\n",
       " Dict{String, Any}(\"public\" => true, \"is_variable_units\" => true, \"pdf_option\" => false, \"level\" => \"U\", \"subject_id\" => \"WGS.URG\", \"lecture_units\" => 0, \"offered_fall\" => true, \"description\" => \"Undergraduate research opportunities in the Women's and Gender Studies Program.\", \"total_units\" => 0, \"lab_units\" => 0…)"
      ]
     },
     "execution_count": 3,
     "metadata": {},
     "output_type": "execute_result"
    }
   ],
   "source": [
    "using HTTP\n",
    "using JSON\n",
    "\n",
    "function fetch_data(url)\n",
    "    response = HTTP.get(url)\n",
    "    if response.status == 200\n",
    "        return courses_data = JSON.parse(String(response.body))\n",
    "    else\n",
    "        println(\"Failed to fetch data. Status code: \", response.status)\n",
    "    end\n",
    "end\n",
    "\n",
    "all_course_api = \"https://fireroad.mit.edu/reference/catalog/courses/all?full=true\"\n",
    "courses_data = fetch_data(all_course_api)"
   ]
  },
  {
   "cell_type": "code",
   "execution_count": 4,
   "id": "180d643b-e25a-4adc-ba53-f4eafed2b288",
   "metadata": {},
   "outputs": [],
   "source": [
    "courses_ids = map(course -> get(course, \"subject_id\", nothing), courses_data)\n",
    "prerequisites = map(course -> get(course, \"prerequisites\", nothing), courses_data)\n",
    "rating = map(course -> get(course, \"prerequisites\", nothing), courses_data)\n",
    "course_variables = Dict{String, JuMP.VariableRef}()\n",
    "for course_id in courses_ids\n",
    "    course_variables[course_id] = @variable(model, binary=true, base_name=course_id)\n",
    "end"
   ]
  },
  {
   "cell_type": "markdown",
   "id": "ae12df69-fd2e-4aa2-99a3-948c2f5ba3de",
   "metadata": {},
   "source": [
    "****Adding Prerequisite Constraints****"
   ]
  },
  {
   "cell_type": "code",
   "execution_count": 5,
   "id": "0a763e05-6f62-4459-8967-4259c63cb8eb",
   "metadata": {},
   "outputs": [],
   "source": [
    "abstract type ExprNode end\n",
    "\n",
    "struct CourseNode <: ExprNode\n",
    "    course::String\n",
    "end\n",
    "\n",
    "struct ANDNode <: ExprNode\n",
    "    left::ExprNode\n",
    "    right::ExprNode\n",
    "end\n",
    "\n",
    "struct ORNode <: ExprNode\n",
    "    left::ExprNode\n",
    "    right::ExprNode\n",
    "end\n",
    "\n",
    "struct PreReq\n",
    "    root::CourseNode\n",
    "    prereqs::Union{ExprNode, Nothing}\n",
    "end "
   ]
  },
  {
   "cell_type": "code",
   "execution_count": 6,
   "id": "e6684836-6892-42e5-9c3a-c53aa14f27ab",
   "metadata": {},
   "outputs": [
    {
     "data": {
      "text/plain": [
       "parse_prereq_string (generic function with 1 method)"
      ]
     },
     "execution_count": 6,
     "metadata": {},
     "output_type": "execute_result"
    }
   ],
   "source": [
    "function parse_prereq_string(input)\n",
    "    if input === nothing\n",
    "        return\n",
    "    end\n",
    "    input = replace(input, r\"\\s+\" => \"\")\n",
    "    tokens = collect(input)\n",
    "    function parse(tokens::Vector{Char})::ExprNode\n",
    "        stack = ExprNode[]\n",
    "        buffer = IOBuffer()\n",
    "        while !isempty(tokens)\n",
    "            token = popfirst!(tokens)\n",
    "            if token == '('\n",
    "                node = parse(tokens)\n",
    "                push!(stack, node)\n",
    "            elseif token == ')'\n",
    "                break\n",
    "            elseif token == ','\n",
    "                left = isempty(stack) ? CourseNode(String(take!(buffer))) : pop!(stack)\n",
    "                right = parse(tokens)\n",
    "                return ANDNode(left, right)\n",
    "            elseif token == '/'\n",
    "                left = isempty(stack) ? CourseNode(String(take!(buffer))) : pop!(stack)\n",
    "                right = parse(tokens)\n",
    "                return ORNode(left, right)\n",
    "            else\n",
    "                write(buffer, token)\n",
    "            end\n",
    "        end\n",
    "        return isempty(stack) ? CourseNode(String(take!(buffer))) : stack[1]\n",
    "    end\n",
    "    return parse(tokens)\n",
    "end"
   ]
  },
  {
   "cell_type": "code",
   "execution_count": 7,
   "id": "25bbc8d0-20b8-4f62-84ae-431600c1e2c0",
   "metadata": {},
   "outputs": [
    {
     "data": {
      "text/plain": [
       "6585-element Vector{Any}:\n",
       " PreReq(CourseNode(\"1.00\"), CourseNode(\"GIR:CAL1\"))\n",
       " PreReq(CourseNode(\"1.000\"), nothing)\n",
       " PreReq(CourseNode(\"1.001\"), CourseNode(\"GIR:CAL1\"))\n",
       " PreReq(CourseNode(\"1.004\"), nothing)\n",
       " PreReq(CourseNode(\"1.005\"), nothing)\n",
       " PreReq(CourseNode(\"1.006\"), nothing)\n",
       " PreReq(CourseNode(\"1.007\"), nothing)\n",
       " PreReq(CourseNode(\"1.008\"), nothing)\n",
       " PreReq(CourseNode(\"1.009\"), nothing)\n",
       " PreReq(CourseNode(\"1.010\"), CourseNode(\"GIR:CAL2\"))\n",
       " PreReq(CourseNode(\"1.010A\"), CourseNode(\"GIR:CAL2\"))\n",
       " PreReq(CourseNode(\"1.010B\"), ORNode(CourseNode(\"1.010A\"), CourseNode(\"''permissionofinstructor''\")))\n",
       " PreReq(CourseNode(\"1.011\"), nothing)\n",
       " ⋮\n",
       " PreReq(CourseNode(\"WGS.605\"), CourseNode(\"''Permissionofinstructor''\"))\n",
       " PreReq(CourseNode(\"WGS.610\"), ANDNode(CourseNode(\"''MustapplytotheGraduateConsortiuminGender''\"), ANDNode(CourseNode(\"''Culture''\"), ANDNode(CourseNode(\"''Women''\"), CourseNode(\"''Sexuality''\")))))\n",
       " PreReq(CourseNode(\"WGS.615\"), CourseNode(\"''MustapplytotheGraduateConsortiuminWomen'sStudies''\"))\n",
       " PreReq(CourseNode(\"WGS.640\"), CourseNode(\"''MustapplytotheGraduateConsortiuminWomen'sStudies''\"))\n",
       " PreReq(CourseNode(\"WGS.645\"), ANDNode(CourseNode(\"''ApplicationtotheGraduateConsortiuminGender''\"), ANDNode(CourseNode(\"''Culture''\"), ANDNode(CourseNode(\"''Women''\"), CourseNode(\"''Sexuality''\")))))\n",
       " PreReq(CourseNode(\"WGS.680\"), nothing)\n",
       " PreReq(CourseNode(\"WGS.700\"), ANDNode(CourseNode(\"''MustapplytotheGraduateConsortiuminGender''\"), ANDNode(CourseNode(\"''Culture''\"), ANDNode(CourseNode(\"''Women''\"), CourseNode(\"''Sexuality''\")))))\n",
       " PreReq(CourseNode(\"WGS.S10\"), nothing)\n",
       " PreReq(CourseNode(\"WGS.S20\"), nothing)\n",
       " PreReq(CourseNode(\"WGS.S30\"), nothing)\n",
       " PreReq(CourseNode(\"WGS.UR\"), CourseNode(\"''Permissionofinstructor''\"))\n",
       " PreReq(CourseNode(\"WGS.URG\"), CourseNode(\"''Permissionofinstructor''\"))"
      ]
     },
     "execution_count": 7,
     "metadata": {},
     "output_type": "execute_result"
    }
   ],
   "source": [
    "prerequisite_expressions = []\n",
    "for index in 1:length(prerequisites)\n",
    "    course_id = CourseNode(courses_ids[index])\n",
    "    prereq_tree = parse_prereq_string(prerequisites[index])\n",
    "    push!(prerequisite_expressions, PreReq(course_id, prereq_tree))\n",
    "end\n",
    "prerequisite_expressions"
   ]
  },
  {
   "cell_type": "code",
   "execution_count": null,
   "id": "727e732c-0361-485d-995e-f80e5ad4c3a8",
   "metadata": {},
   "outputs": [
    {
     "data": {
      "text/plain": [
       "add_prereq_constraint (generic function with 1 method)"
      ]
     },
     "execution_count": 8,
     "metadata": {},
     "output_type": "execute_result"
    }
   ],
   "source": [
    "function add_and_or_constraints(expr::ExprNode, model::Model, course_vars::Dict{String, JuMP.VariableRef})\n",
    "    if isa(expr, CourseNode)\n",
    "        return get(course_vars, expr.course, 1)\n",
    "    elseif isa(expr, ANDNode)\n",
    "        left_var = add_and_or_constraints(expr.left, model, course_vars)\n",
    "        right_var = add_and_or_constraints(expr.right, model, course_vars)\n",
    "        and_var = @variable(model, binary=true)\n",
    "        @constraint(model, and_var <= left_var)\n",
    "        @constraint(model, and_var <= right_var)\n",
    "        @constraint(model, and_var >= left_var + right_var - 1)\n",
    "        return and_var\n",
    "    elseif isa(expr, ORNode)\n",
    "        left_var = add_and_or_constraints(expr.left, model, course_vars)\n",
    "        right_var = add_and_or_constraints(expr.right, model, course_vars)\n",
    "        or_var = @variable(model, binary=true)\n",
    "        @constraint(model, or_var >= left_var)\n",
    "        @constraint(model, or_var >= right_var)\n",
    "        @constraint(model, or_var <= left_var + right_var)\n",
    "        return or_var\n",
    "    else\n",
    "        error(\"Unknown expression type\")\n",
    "    end\n",
    "end\n",
    "\n",
    "function add_prereq_constraint(\n",
    "    prereq_obj::PreReq, \n",
    "    model::Model, \n",
    "    course_vars::Dict{String, JuMP.VariableRef}\n",
    ")\n",
    "    course_var = get(course_vars, prereq_obj.root.course, 1)\n",
    "    if prereq_obj.prereqs === nothing\n",
    "        return course_var\n",
    "    else\n",
    "        prereq_var = add_and_or_constraints(prereq_obj.prereqs, model, course_vars)\n",
    "        @constraint(model, course_var <= prereq_var)\n",
    "        return course_var\n",
    "    end\n",
    "end"
   ]
  },
  {
   "cell_type": "code",
   "execution_count": 9,
   "id": "b18584c9-8c50-46e2-b548-ebce9e344f6c",
   "metadata": {},
   "outputs": [],
   "source": [
    "for expr in prerequisite_expressions\n",
    "    add_prereq_constraint(expr, model, course_variables)\n",
    "end"
   ]
  }
 ],
 "metadata": {
  "kernelspec": {
   "display_name": "Julia 1.10.5",
   "language": "julia",
   "name": "julia-1.10"
  },
  "language_info": {
   "file_extension": ".jl",
   "mimetype": "application/julia",
   "name": "julia",
   "version": "1.10.5"
  }
 },
 "nbformat": 4,
 "nbformat_minor": 5
}
