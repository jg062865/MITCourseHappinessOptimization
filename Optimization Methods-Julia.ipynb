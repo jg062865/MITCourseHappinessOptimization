{
 "cells": [
  {
   "cell_type": "code",
   "execution_count": 14,
   "metadata": {},
   "outputs": [
    {
     "name": "stdout",
     "output_type": "stream",
     "text": [
      "Set parameter Username\n",
      "Academic license - for non-commercial use only - expires 2025-09-04\n"
     ]
    },
    {
     "data": {
      "text/plain": [
       "A JuMP Model\n",
       "├ solver: Gurobi\n",
       "├ objective_sense: FEASIBILITY_SENSE\n",
       "├ num_variables: 0\n",
       "├ num_constraints: 0\n",
       "└ Names registered in the model: none"
      ]
     },
     "execution_count": 14,
     "metadata": {},
     "output_type": "execute_result"
    }
   ],
   "source": [
    "using JuMP\n",
    "using Gurobi\n",
    "model = Model(Gurobi.Optimizer)"
   ]
  },
  {
   "cell_type": "code",
   "execution_count": 15,
   "metadata": {},
   "outputs": [
    {
     "data": {
      "text/plain": [
       "Dict{String, Any} with 7 entries:\n",
       "  \"short-title\"     => \"2\"\n",
       "  \"medium-title\"    => \"2-A Major\"\n",
       "  \"title-no-degree\" => \"Mechanical Engineering\"\n",
       "  \"reqs\"            => Any[Dict{String, Any}(\"connection-type\"=>\"all\", \"thresho…\n",
       "  \"list-id\"         => \"major2a.reql\"\n",
       "  \"title\"           => \"Engineering as Recommended by the Department of Mechani…\n",
       "  \"desc\"            => \"Course 2-A is designed for students whose academic and …"
      ]
     },
     "execution_count": 15,
     "metadata": {},
     "output_type": "execute_result"
    }
   ],
   "source": [
    "# Import the necessary libraries\n",
    "using HTTP\n",
    "using JSON\n",
    "\n",
    "# Store the URL\n",
    "url = \"https://fireroad.mit.edu/requirements/get_json/major2A/\"\n",
    "\n",
    "# Send the request and get the response\n",
    "reqs = HTTP.get(url)\n",
    "\n",
    "# Parse the JSON response\n",
    "datafile = JSON.parse(String(reqs.body))"
   ]
  },
  {
   "cell_type": "code",
   "execution_count": 16,
   "metadata": {},
   "outputs": [
    {
     "data": {
      "text/plain": [
       "6-element Vector{Any}:\n",
       " (Any[\"2.00\", \"2.00A\", \"2.00B\", \"2.00C\"], \"geq\", 1)\n",
       " (Any[\"2.678\", \"2.674\"], \"geq\", 1)\n",
       " (Any[\"2.009\", \"2.013\", \"2.750\", \"2.760\"], \"geq\", 1)\n",
       " (Any[\"2.001\", \"2.003\", \"2.005\", \"2.086\", \"2.671\", \"18.03\"], \"eq\", 6)\n",
       " \"72 units\"\n",
       " (Any[\"2.671\", \"2.009\", \"2.013\", \"2.750\", \"2.760\"], \"geq\", 1)"
      ]
     },
     "execution_count": 16,
     "metadata": {},
     "output_type": "execute_result"
    }
   ],
   "source": [
    "# Create a mapping for comparison types\n",
    "type_mapping = Dict(\"LT\" => \"lt\", \"GT\" => \"gt\", \"GTE\" => \"geq\", \"LTE\" => \"leq\")\n",
    "\n",
    "function create_requirements(data, connector=false, cutoff=1, ineq=\"geq\")\n",
    "    mandatory = []\n",
    "    all_reqs = []\n",
    "    together = false\n",
    "    comb_req = []\n",
    "    \n",
    "    for section in data[\"reqs\"]\n",
    "        ineq = \"geq\"\n",
    "        cutoff = 1\n",
    "        \n",
    "        # Base case: if there's a \"req\" key in the section\n",
    "        if haskey(section, \"req\")\n",
    "            if connector\n",
    "                push!(mandatory, section[\"req\"])\n",
    "                continue\n",
    "            else\n",
    "                push!(all_reqs, section[\"req\"])\n",
    "                continue\n",
    "            end\n",
    "        end\n",
    "\n",
    "        # Recursive case: checking for special thresholds\n",
    "        if haskey(section, \"distinct-threshold\")\n",
    "            cutoff = section[\"distinct-threshold\"][\"cutoff\"]\n",
    "            ineq = type_mapping[section[\"distinct-threshold\"][\"type\"]]\n",
    "            if haskey(section, \"threshold\") && section[\"threshold\"][\"cutoff\"] != cutoff\n",
    "                together = true\n",
    "                total_cutoff = section[\"threshold\"][\"cutoff\"]\n",
    "                total_ineq = type_mapping[section[\"threshold\"][\"type\"]]\n",
    "            end\n",
    "        elseif haskey(section, \"threshold\")\n",
    "            cutoff = section[\"threshold\"][\"cutoff\"]\n",
    "            ineq = type_mapping[section[\"threshold\"][\"type\"]]\n",
    "        end\n",
    "        \n",
    "        # Building based on connection types\n",
    "        if section[\"connection-type\"] == \"all\"\n",
    "            next = create_requirements(section, true)\n",
    "            if together\n",
    "                comb_req = vcat(comb_req, reduce(vcat, getindex.(next, 1)))\n",
    "            else\n",
    "                append!(all_reqs, next)\n",
    "            end\n",
    "        elseif section[\"connection-type\"] == \"any\"\n",
    "            next = create_requirements(section)\n",
    "            if together\n",
    "                comb_req = vcat(comb_req, reduce(vcat, getindex.(next, 1)))\n",
    "            else\n",
    "                one_req = (next, ineq, cutoff)\n",
    "                push!(all_reqs, one_req)\n",
    "            end\n",
    "        else\n",
    "            return create_requirements(section)\n",
    "        end\n",
    "        \n",
    "        if together\n",
    "            push!(all_reqs, (comb_req, total_ineq, total_cutoff))\n",
    "        end\n",
    "    end\n",
    "\n",
    "    if !isempty(mandatory)\n",
    "        push!(all_reqs, (mandatory, \"eq\", length(mandatory)))\n",
    "    end\n",
    "    \n",
    "    return all_reqs\n",
    "end\n",
    "\n",
    "# Call the function\n",
    "requirements = create_requirements(datafile)"
   ]
  },
  {
   "cell_type": "code",
   "execution_count": 17,
   "metadata": {},
   "outputs": [
    {
     "data": {
      "text/plain": [
       "add_requirements_constraints (generic function with 1 method)"
      ]
     },
     "execution_count": 17,
     "metadata": {},
     "output_type": "execute_result"
    }
   ],
   "source": [
    "function create_inequality_constraint(model, expr, ineq::String, value)\n",
    "    if ineq == \"geq\"\n",
    "        @constraint(model, expr >= value)\n",
    "    elseif ineq == \"eq\"\n",
    "        @constraint(model, expr == value)\n",
    "    elseif ineq == \"leq\"\n",
    "        @constraint(model, expr <= value)\n",
    "    else\n",
    "        error(\"Unknown inequality type: $ineq\")\n",
    "    end\n",
    "end\n",
    "\n",
    "\n",
    "function add_requirements_constraints(model::Model, requirements::Vector, course_vars::Dict{String, JuMP.VariableRef})\n",
    "    for req in requirements\n",
    "        courses, ineq, cutoff = req\n",
    "\n",
    "        # If the course requirement is a nested structure (i.e., a vector of other requirements)\n",
    "        if isa(courses, Vector{Any}) && isa(courses[1], Tuple)\n",
    "            # Recursively handle the nested requirements\n",
    "            for nested_req in courses\n",
    "                add_requirements_constraints(model, [nested_req], course_vars)\n",
    "            end\n",
    "        else\n",
    "            # Retrieve the variables for each course in the list\n",
    "            course_vars_expr = sum(get(course_vars, course, 0) for course in courses)\n",
    "\n",
    "            # Create the appropriate inequality constraint\n",
    "            create_inequality_constraint(model, course_vars_expr, ineq, cutoff)\n",
    "        end\n",
    "    end\n",
    "end"
   ]
  }
 ],
 "metadata": {
  "kernelspec": {
   "display_name": "Julia 1.10.5",
   "language": "julia",
   "name": "julia-1.10"
  },
  "language_info": {
   "file_extension": ".jl",
   "mimetype": "application/julia",
   "name": "julia",
   "version": "1.10.5"
  }
 },
 "nbformat": 4,
 "nbformat_minor": 2
}
