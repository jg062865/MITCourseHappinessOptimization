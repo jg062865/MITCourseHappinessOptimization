{
 "cells": [
  {
   "cell_type": "code",
   "execution_count": 2,
   "metadata": {},
   "outputs": [
    {
     "name": "stdout",
     "output_type": "stream",
     "text": [
      "Set parameter Username\n",
      "Set parameter LicenseID to value 2595637\n",
      "Academic license - for non-commercial use only - expires 2025-12-05\n"
     ]
    },
    {
     "data": {
      "text/plain": [
       "A JuMP Model\n",
       "├ solver: Gurobi\n",
       "├ objective_sense: FEASIBILITY_SENSE\n",
       "├ num_variables: 0\n",
       "├ num_constraints: 0\n",
       "└ Names registered in the model: none"
      ]
     },
     "metadata": {},
     "output_type": "display_data"
    }
   ],
   "source": [
    "using JuMP\n",
    "using Gurobi\n",
    "model = Model(Gurobi.Optimizer)"
   ]
  },
  {
   "cell_type": "code",
   "execution_count": 7,
   "metadata": {},
   "outputs": [
    {
     "data": {
      "text/plain": [
       "Dict{String, Any} with 7 entries:\n",
       "  \"short-title\"     => \"6-4\"\n",
       "  \"medium-title\"    => \"6-4 Major\"\n",
       "  \"title-no-degree\" => \"Artificial Intelligence and Decision Making\"\n",
       "  \"reqs\"            => Any[Dict{String, Any}(\"connection-type\"=>\"all\", \"thresho…\n",
       "  \"list-id\"         => \"major6-4.reql\"\n",
       "  \"title\"           => \"Bachelor of Science in Artificial Intelligence and Deci…\n",
       "  \"desc\"            => \"The Bachelor of Science in Artificial Intelligence and …"
      ]
     },
     "metadata": {},
     "output_type": "display_data"
    }
   ],
   "source": [
    "# Import the necessary libraries\n",
    "using HTTP\n",
    "using JSON\n",
    "\n",
    "# Store the URL\n",
    "url = \"https://fireroad.mit.edu/requirements/get_json/major6-4/\"\n",
    "\n",
    "# Send the request and get the response\n",
    "reqs = HTTP.get(url)\n",
    "\n",
    "# Parse the JSON response\n",
    "datafile = JSON.parse(String(reqs.body))"
   ]
  },
  {
   "cell_type": "code",
   "execution_count": 8,
   "metadata": {},
   "outputs": [
    {
     "data": {
      "text/plain": [
       "10-element Vector{Any}:\n",
       " (Any[\"6.100A\", \"6.100L\"], \"geq\", 1)\n",
       " (Any[\"6.S084\", \"18.C06\", \"18.06\"], \"geq\", 1)\n",
       " (Any[\"6.3700\", \"6.3800\", \"18.05\"], \"geq\", 1)\n",
       " (Any[\"6.1200\", \"6.1010\", \"6.1210\"], \"eq\", 3)\n",
       " (Any[(Any[\"6.3720\", \"6.3900\", (Any[\"6.C01\", \"6.S052\"], \"eq\", 2), (Any[\"6.C51\", \"6.S952\"], \"eq\", 2), \"6.S059\"], \"geq\", 1), (Any[\"6.3000\", \"6.4110\", \"6.4400\"], \"geq\", 1), (Any[\"6.3100\", \"6.4110\", \"6.7201\"], \"geq\", 1), (Any[\"6.1220\", \"6.4400\", \"6.7201\"], \"geq\", 1), (Any[\"6.3260\", \"6.3950\", \"6.4120\", \"6.4590\", \"6.C35\", \"6.S041\", \"9.660\"], \"geq\", 1)], \"geq\", 5)\n",
       " (Any[\"6.1800\", \"6.2040\", \"6.2060\", \"6.2061\", \"6.2220\", \"6.2221\", \"6.2370\", \"6.2600\", \"6.4200\", \"6.4210\", \"6.4590\", \"6.4860\", \"6.4880\", \"6.8301\", \"6.8611\", \"6.9030\", \"6.UAR\", \"6.UAT\"], \"geq\", 2)\n",
       " (Any[\"6.3900\", \"6.3950\", \"6.4590\", \"6.8301\", \"6.8611\"], \"geq\", 1)\n",
       " (Any[\"6.4200\", \"6.4210\", \"6.8301\", \"6.8611\"], \"geq\", 1)\n",
       " (Any[\"18.404\", \"6.3730\", \"6.4210\", \"6.5151\", \"6.5831\", \"6.7411\", \"6.7930\", \"6.8300\", \"6.8301\", \"6.8371\", \"6.8611\", \"6.8701\", \"6.8711\", \"6.S079\", \"6.S966\", \"6.4200\", \"6.4210\", \"6.8301\", \"6.8611\"], \"geq\", 2)\n",
       " (Any[(Any[\"18.600\", \"2.007\", (Any[\"6.100A\", \"6.100B\"], \"eq\", 2), \"6.1010\", \"6.1020\", \"6.1040\", \"6.1060\", \"6.1100\", \"6.1120\", \"6.1200\"  …  \"6.93506.935\", (Any[\"6.C01\", \"1.C01\"], \"eq\", 2), (Any[\"6.C01\", \"10.C01\"], \"eq\", 2), (Any[\"6.C01\", \"2.C01\"], \"eq\", 2), (Any[\"6.C01\", \"20.C01\"], \"eq\", 2), (Any[\"6.C01\", \"22.C01\"], \"eq\", 2), (Any[\"6.C01\", \"3.C01\"], \"eq\", 2), \"6.S047\", \"6.UAR\", \"6.UAT\"], \"geq\", 1), \"Math (course 18) requirement\"], \"geq\", 1)"
      ]
     },
     "metadata": {},
     "output_type": "display_data"
    }
   ],
   "source": [
    "# Create a mapping for comparison types\n",
    "type_mapping = Dict(\"LT\" => \"lt\", \"GT\" => \"gt\", \"GTE\" => \"geq\", \"LTE\" => \"leq\")\n",
    "\n",
    "function create_requirements(data, connector=false, cutoff=1, ineq=\"geq\")\n",
    "    mandatory = []\n",
    "    all_reqs = []\n",
    "    together = false\n",
    "    comb_req = []\n",
    "    \n",
    "    for section in data[\"reqs\"]\n",
    "        ineq = \"geq\"\n",
    "        cutoff = 1\n",
    "        \n",
    "        # Base case: if there's a \"req\" key in the section\n",
    "        if haskey(section, \"req\")\n",
    "            if connector\n",
    "                push!(mandatory, section[\"req\"])\n",
    "                continue\n",
    "            else\n",
    "                push!(all_reqs, section[\"req\"])\n",
    "                continue\n",
    "            end\n",
    "        end\n",
    "\n",
    "        # Recursive case: checking for special thresholds\n",
    "        if haskey(section, \"distinct-threshold\")\n",
    "            cutoff = section[\"distinct-threshold\"][\"cutoff\"]\n",
    "            ineq = type_mapping[section[\"distinct-threshold\"][\"type\"]]\n",
    "            if haskey(section, \"threshold\") && section[\"threshold\"][\"cutoff\"] != cutoff\n",
    "                together = true\n",
    "                total_cutoff = section[\"threshold\"][\"cutoff\"]\n",
    "                total_ineq = type_mapping[section[\"threshold\"][\"type\"]]\n",
    "            end\n",
    "        elseif haskey(section, \"threshold\")\n",
    "            cutoff = section[\"threshold\"][\"cutoff\"]\n",
    "            ineq = type_mapping[section[\"threshold\"][\"type\"]]\n",
    "        end\n",
    "        \n",
    "        # Building based on connection types\n",
    "        if section[\"connection-type\"] == \"all\"\n",
    "            next = create_requirements(section, true)\n",
    "            if together\n",
    "                comb_req = vcat(comb_req, reduce(vcat, getindex.(next, 1)))\n",
    "            else\n",
    "                append!(all_reqs, next)\n",
    "            end\n",
    "        elseif section[\"connection-type\"] == \"any\"\n",
    "            next = create_requirements(section)\n",
    "            if together\n",
    "                comb_req = vcat(comb_req, reduce(vcat, getindex.(next, 1)))\n",
    "            else\n",
    "                one_req = (next, ineq, cutoff)\n",
    "                push!(all_reqs, one_req)\n",
    "            end\n",
    "        else\n",
    "            return create_requirements(section)\n",
    "        end\n",
    "        \n",
    "        if together\n",
    "            push!(all_reqs, (comb_req, total_ineq, total_cutoff))\n",
    "        end\n",
    "    end\n",
    "\n",
    "    if !isempty(mandatory)\n",
    "        push!(all_reqs, (mandatory, \"eq\", length(mandatory)))\n",
    "    end\n",
    "    \n",
    "    return all_reqs\n",
    "end\n",
    "\n",
    "# Call the function\n",
    "requirements = create_requirements(datafile)"
   ]
  },
  {
   "cell_type": "code",
   "execution_count": null,
   "metadata": {},
   "outputs": [],
   "source": [
    "# Helper function to map the inequality string to a JuMP constraint\n",
    "function create_inequality_constraint(model, expr, ineq::String, value)\n",
    "    if ineq == \"geq\"\n",
    "        @constraint(model, expr >= value)\n",
    "    elseif ineq == \"eq\"\n",
    "        @constraint(model, expr == value)\n",
    "    elseif ineq == \"leq\"\n",
    "        @constraint(model, expr <= value)\n",
    "    else\n",
    "        error(\"Unknown inequality type: $ineq\")\n",
    "    end\n",
    "end\n",
    "\n",
    "# Main function to create JuMP constraints based on the requirements vector\n",
    "function add_requirements_constraints(model::Model, requirements::Vector, course_vars::Dict{String, JuMP.VariableRef})\n",
    "    for req in requirements\n",
    "        courses, ineq, cutoff = req\n",
    "\n",
    "        # If the course requirement is a nested structure (i.e., a vector of other requirements)\n",
    "        if isa(courses, Vector{Any}) && isa(courses[1], Tuple)\n",
    "            # Recursively handle the nested requirements\n",
    "            for nested_req in courses\n",
    "                add_requirements_constraints(model, [nested_req], course_vars)\n",
    "            end\n",
    "        else\n",
    "            # Retrieve the variables for each course in the list\n",
    "            course_vars_expr = sum(get(course_vars, course, 0) for course in courses)\n",
    "\n",
    "            # Create the appropriate inequality constraint\n",
    "            create_inequality_constraint(model, course_vars_expr, ineq, cutoff)\n",
    "        end\n",
    "    end\n",
    "end"
   ]
  }
 ],
 "metadata": {
  "kernelspec": {
   "display_name": "Julia 1.11.2",
   "language": "julia",
   "name": "julia-1.11"
  },
  "language_info": {
   "file_extension": ".jl",
   "mimetype": "application/julia",
   "name": "julia",
   "version": "1.11.2"
  }
 },
 "nbformat": 4,
 "nbformat_minor": 2
}
