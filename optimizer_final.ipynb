{
 "cells": [
  {
   "cell_type": "code",
   "execution_count": 2,
   "metadata": {},
   "outputs": [
    {
     "name": "stderr",
     "output_type": "stream",
     "text": [
      "\u001b[32m\u001b[1m   Resolving\u001b[22m\u001b[39m package versions...\n",
      "\u001b[32m\u001b[1m  No Changes\u001b[22m\u001b[39m to `~/.julia/environments/v1.11/Project.toml`\n",
      "\u001b[32m\u001b[1m  No Changes\u001b[22m\u001b[39m to `~/.julia/environments/v1.11/Manifest.toml`\n",
      "\u001b[92m\u001b[1mPrecompiling\u001b[22m\u001b[39m project...\n",
      "   5911.1 ms\u001b[32m  ✓ \u001b[39m\u001b[90mRevise\u001b[39m\n",
      "  10536.6 ms\u001b[32m  ✓ \u001b[39m\u001b[90mJuliaFormatter\u001b[39m\n",
      "   4126.4 ms\u001b[32m  ✓ \u001b[39mGenie\n",
      "  3 dependencies successfully precompiled in 16 seconds. 131 already precompiled.\n",
      "\u001b[32m\u001b[1m   Resolving\u001b[22m\u001b[39m package versions...\n",
      "\u001b[32m\u001b[1m  No Changes\u001b[22m\u001b[39m to `~/.julia/environments/v1.11/Project.toml`\n",
      "\u001b[32m\u001b[1m  No Changes\u001b[22m\u001b[39m to `~/.julia/environments/v1.11/Manifest.toml`\n"
     ]
    }
   ],
   "source": [
    "import Pkg; Pkg.add(\"Tables\")\n",
    "using CSV, Tables\n",
    "using JuMP\n",
    "using Gurobi\n",
    "\n",
    "Pkg.add(\"JSON3\")\n",
    "using JSON\n",
    "using JSON3\n",
    "using HTTP"
   ]
  },
  {
   "cell_type": "code",
   "execution_count": 3,
   "metadata": {},
   "outputs": [
    {
     "name": "stdout",
     "output_type": "stream",
     "text": [
      "Set parameter Username\n",
      "Set parameter LicenseID to value 2595637\n",
      "Academic license - for non-commercial use only - expires 2025-12-05\n"
     ]
    }
   ],
   "source": [
    "const GRB_ENV = Gurobi.Env(output_flag=1);"
   ]
  },
  {
   "cell_type": "markdown",
   "metadata": {},
   "source": [
    "#### Load in Data"
   ]
  },
  {
   "cell_type": "code",
   "execution_count": 4,
   "metadata": {},
   "outputs": [],
   "source": [
    "all_classes = open(\"data/all_classes_info.json\", \"r\") do file \n",
    "    JSON3.read(file)\n",
    "end\n",
    "\n",
    "R = CSV.File(\"data/ratings.csv\",header=0) |> Tables.matrix;\n",
    "H = CSV.File(\"data/hours.csv\",header=0) |> Tables.matrix;\n",
    "U = CSV.File(\"data/units.csv\",header=0) |> Tables.matrix;\n",
    "\n",
    "vars = CSV.File(\"data/variables.csv\",header=0) |> Tables.matrix;\n",
    "n = vars[1];\n",
    "S = vars[2];"
   ]
  },
  {
   "cell_type": "code",
   "execution_count": 5,
   "metadata": {},
   "outputs": [
    {
     "data": {
      "text/plain": [
       "JSON3.Object{Base.CodeUnits{UInt8, String}, SubArray{UInt64, 1, Vector{UInt64}, Tuple{UnitRange{Int64}}, true}} with 27 entries:\n",
       "  :rating             => 5.51\n",
       "  :has_final          => true\n",
       "  :description        => \"Integrated development of the fundamental principles …\n",
       "  :offered_fall       => true\n",
       "  :offered_spring     => true\n",
       "  :instructors        => [\"Fall: P. Lermusiaux\", \"Spring: J. Buongiorno, K. Var…\n",
       "  :schedule           => \"Lecture,1-190/TR/0/9-11;Recitation,1-150/F/0/10,1-150…\n",
       "  :out_of_class_hours => 7.18\n",
       "  :total_units        => 12\n",
       "  :related_subjects   => [\"2.006\", \"1.066\", \"16.004\", \"2.25\", \"2.096\", \"2.51\", …\n",
       "  :pdf_option         => false\n",
       "  :in_class_hours     => 4.75\n",
       "  :is_half_class      => false\n",
       "  :level              => \"U\"\n",
       "  :prerequisites      => \"(GIR:PHY2, 18.03, (2.086/6.100B/18.06))/''permission …\n",
       "  :subject_id         => \"2.005\"\n",
       "  :title              => \"Thermal-Fluids Engineering I\"\n",
       "  :lab_units          => 0\n",
       "  :design_units       => 0\n",
       "  ⋮                   => ⋮"
      ]
     },
     "metadata": {},
     "output_type": "display_data"
    }
   ],
   "source": [
    "random_class = all_classes[rand(1:length(all_classes))]"
   ]
  },
  {
   "cell_type": "code",
   "execution_count": 6,
   "metadata": {},
   "outputs": [
    {
     "data": {
      "text/plain": [
       "Dict{Int64, String} with 4704 entries:\n",
       "  4700 => \"WGS.301\"\n",
       "  4576 => \"STS.022\"\n",
       "  2288 => \"21G.905\"\n",
       "  1703 => \"18.C20\"\n",
       "  1956 => \"20.101\"\n",
       "  2350 => \"21H.226\"\n",
       "  3406 => \"6.2060\"\n",
       "  2841 => \"24.234\"\n",
       "  2876 => \"24.906\"\n",
       "  687  => \"12.751\"\n",
       "  185  => \"1.THG\"\n",
       "  1090 => \"15.518\"\n",
       "  2015 => \"20.560\"\n",
       "  3293 => \"5.00\"\n",
       "  1704 => \"18.S096\"\n",
       "  3220 => \"4.608\"\n",
       "  422  => \"11.353\"\n",
       "  1266 => \"16.004\"\n",
       "  183  => \"1.S992\"\n",
       "  ⋮    => ⋮"
      ]
     },
     "metadata": {},
     "output_type": "display_data"
    }
   ],
   "source": [
    "subjectid_to_index = Dict(class[:subject_id] => ind for (ind, class) in enumerate(all_classes))\n",
    "index_to_subjectid = Dict(ind => class[:subject_id] for (ind, class) in enumerate(all_classes))"
   ]
  },
  {
   "cell_type": "markdown",
   "metadata": {},
   "source": [
    "#### Defining the Basic Optimization Problem"
   ]
  },
  {
   "cell_type": "code",
   "execution_count": 7,
   "metadata": {},
   "outputs": [
    {
     "data": {
      "text/plain": [
       "A JuMP Model\n",
       "├ solver: Gurobi\n",
       "├ objective_sense: FEASIBILITY_SENSE\n",
       "├ num_variables: 0\n",
       "├ num_constraints: 0\n",
       "└ Names registered in the model: none"
      ]
     },
     "metadata": {},
     "output_type": "display_data"
    }
   ],
   "source": [
    "function create_model(env) \n",
    "    return  Model(() -> Gurobi.Optimizer(env))\n",
    "end\n",
    "model1 = create_model(GRB_ENV)"
   ]
  },
  {
   "cell_type": "code",
   "execution_count": 8,
   "metadata": {},
   "outputs": [
    {
     "data": {
      "text/plain": [
       "4704×8 Matrix{VariableRef}:\n",
       " _[1]     _[4705]  _[9409]   _[14113]  _[18817]  _[23521]  _[28225]  _[32929]\n",
       " _[2]     _[4706]  _[9410]   _[14114]  _[18818]  _[23522]  _[28226]  _[32930]\n",
       " _[3]     _[4707]  _[9411]   _[14115]  _[18819]  _[23523]  _[28227]  _[32931]\n",
       " _[4]     _[4708]  _[9412]   _[14116]  _[18820]  _[23524]  _[28228]  _[32932]\n",
       " _[5]     _[4709]  _[9413]   _[14117]  _[18821]  _[23525]  _[28229]  _[32933]\n",
       " _[6]     _[4710]  _[9414]   _[14118]  _[18822]  _[23526]  _[28230]  _[32934]\n",
       " _[7]     _[4711]  _[9415]   _[14119]  _[18823]  _[23527]  _[28231]  _[32935]\n",
       " _[8]     _[4712]  _[9416]   _[14120]  _[18824]  _[23528]  _[28232]  _[32936]\n",
       " _[9]     _[4713]  _[9417]   _[14121]  _[18825]  _[23529]  _[28233]  _[32937]\n",
       " _[10]    _[4714]  _[9418]   _[14122]  _[18826]  _[23530]  _[28234]  _[32938]\n",
       " ⋮                                               ⋮                   \n",
       " _[4696]  _[9400]  _[14104]  _[18808]  _[23512]  _[28216]  _[32920]  _[37624]\n",
       " _[4697]  _[9401]  _[14105]  _[18809]  _[23513]  _[28217]  _[32921]  _[37625]\n",
       " _[4698]  _[9402]  _[14106]  _[18810]  _[23514]  _[28218]  _[32922]  _[37626]\n",
       " _[4699]  _[9403]  _[14107]  _[18811]  _[23515]  _[28219]  _[32923]  _[37627]\n",
       " _[4700]  _[9404]  _[14108]  _[18812]  _[23516]  _[28220]  _[32924]  _[37628]\n",
       " _[4701]  _[9405]  _[14109]  _[18813]  _[23517]  _[28221]  _[32925]  _[37629]\n",
       " _[4702]  _[9406]  _[14110]  _[18814]  _[23518]  _[28222]  _[32926]  _[37630]\n",
       " _[4703]  _[9407]  _[14111]  _[18815]  _[23519]  _[28223]  _[32927]  _[37631]\n",
       " _[4704]  _[9408]  _[14112]  _[18816]  _[23520]  _[28224]  _[32928]  _[37632]"
      ]
     },
     "metadata": {},
     "output_type": "display_data"
    }
   ],
   "source": [
    "function add_course_semester_variables!(model::JuMP.Model)\n",
    "    @variable(model, [1:n, 1:S], Bin)\n",
    "end\n",
    "model_var = add_course_semester_variables!(model1)"
   ]
  },
  {
   "cell_type": "code",
   "execution_count": 9,
   "metadata": {},
   "outputs": [
    {
     "data": {
      "text/latex": [
       "$ 18.689999999999998 {\\_}_{1} + 26.431651480753146 {\\_}_{4705} + 32.37202959346231 {\\_}_{9409} + 37.379999999999995 {\\_}_{14113} + 41.792110499471065 {\\_}_{18817} + 45.78096329261759 {\\_}_{23521} + 49.4490920037972 {\\_}_{28225} + 52.86330296150629 {\\_}_{32929} + 15.68 {\\_}_{2} + 22.17486865801013 {\\_}_{4706} + 27.158556662679995 {\\_}_{9410} + 31.36 {\\_}_{14114} + 35.0615458871967 {\\_}_{18818} + 38.40799916684023 {\\_}_{23522} + 41.48538055749278 {\\_}_{28226} + 44.34973731602026 {\\_}_{32930} + 18.689999999999998 {\\_}_{3} + 26.431651480753146 {\\_}_{4707} + 32.37202959346231 {\\_}_{9411} + 37.379999999999995 {\\_}_{14115} + 41.792110499471065 {\\_}_{18819} + 45.78096329261759 {\\_}_{23523} + 49.4490920037972 {\\_}_{28227} + 52.86330296150629 {\\_}_{32931} + 11 {\\_}_{4} + 15.556349186104047 {\\_}_{4708} + 19.05255888325765 {\\_}_{9412} + 22 {\\_}_{14116} + 24.596747752497688 {\\_}_{18820} + 26.944387170614956 {\\_}_{23524} + [[\\ldots\\text{37572 terms omitted}\\ldots]] + 23.209480821422954 {\\_}_{14109} + 26.8 {\\_}_{18813} + 29.963310898497184 {\\_}_{23517} + 32.82316255329459 {\\_}_{28221} + 35.45306756826552 {\\_}_{32925} + 37.90092347159895 {\\_}_{37629} + 13.6 {\\_}_{4702} + 19.233304448274094 {\\_}_{9406} + 23.55589098293673 {\\_}_{14110} + 27.2 {\\_}_{18814} + 30.41052449399714 {\\_}_{23518} + 33.31306050185122 {\\_}_{28222} + 35.98221783047843 {\\_}_{32926} + 38.46660889654819 {\\_}_{37630} + 13.6 {\\_}_{4703} + 19.233304448274094 {\\_}_{9407} + 23.55589098293673 {\\_}_{14111} + 27.2 {\\_}_{18815} + 30.41052449399714 {\\_}_{23519} + 33.31306050185122 {\\_}_{28223} + 35.98221783047843 {\\_}_{32927} + 38.46660889654819 {\\_}_{37631} + 13.5 {\\_}_{4704} + 19.091883092036785 {\\_}_{9408} + 23.38268590217984 {\\_}_{14112} + 27 {\\_}_{18816} + 30.186917696247164 {\\_}_{23520} + 33.0681115275729 {\\_}_{28224} + 35.71764269937197 {\\_}_{32928} + 38.18376618407357 {\\_}_{37632} $"
      ],
      "text/plain": [
       "18.689999999999998 _[1] + 26.431651480753146 _[4705] + 32.37202959346231 _[9409] + 37.379999999999995 _[14113] + 41.792110499471065 _[18817] + 45.78096329261759 _[23521] + 49.4490920037972 _[28225] + 52.86330296150629 _[32929] + 15.68 _[2] + 22.17486865801013 _[4706] + 27.158556662679995 _[9410] + 31.36 _[14114] + 35.0615458871967 _[18818] + 38.40799916684023 _[23522] + 41.48538055749278 _[28226] + 44.34973731602026 _[32930] + 18.689999999999998 _[3] + 26.431651480753146 _[4707] + 32.37202959346231 _[9411] + 37.379999999999995 _[14115] + 41.792110499471065 _[18819] + 45.78096329261759 _[23523] + 49.4490920037972 _[28227] + 52.86330296150629 _[32931] + 11 _[4] + 15.556349186104047 _[4708] + 19.05255888325765 _[9412] + 22 _[14116] + 24.596747752497688 _[18820] + 26.944387170614956 _[23524] + [[...37572 terms omitted...]] + 23.209480821422954 _[14109] + 26.8 _[18813] + 29.963310898497184 _[23517] + 32.82316255329459 _[28221] + 35.45306756826552 _[32925] + 37.90092347159895 _[37629] + 13.6 _[4702] + 19.233304448274094 _[9406] + 23.55589098293673 _[14110] + 27.2 _[18814] + 30.41052449399714 _[23518] + 33.31306050185122 _[28222] + 35.98221783047843 _[32926] + 38.46660889654819 _[37630] + 13.6 _[4703] + 19.233304448274094 _[9407] + 23.55589098293673 _[14111] + 27.2 _[18815] + 30.41052449399714 _[23519] + 33.31306050185122 _[28223] + 35.98221783047843 _[32927] + 38.46660889654819 _[37631] + 13.5 _[4704] + 19.091883092036785 _[9408] + 23.38268590217984 _[14112] + 27 _[18816] + 30.186917696247164 _[23520] + 33.0681115275729 _[28224] + 35.71764269937197 _[32928] + 38.18376618407357 _[37632]"
      ]
     },
     "metadata": {},
     "output_type": "display_data"
    }
   ],
   "source": [
    "function set_objective_func(model, dVar, α= .8)\n",
    "    @objective(model, Min, sum( sqrt(s)*(α*H[i]*dVar[i,s] - (1-α)*R[i]*dVar[i,s] + 5*dVar[i,s])  for i=1:n,s=1:S));\n",
    "end\n",
    "set_objective_func(model1, model_var, 1)"
   ]
  },
  {
   "cell_type": "code",
   "execution_count": 10,
   "metadata": {},
   "outputs": [
    {
     "data": {
      "text/plain": [
       "1-dimensional DenseAxisArray{ConstraintRef{Model, MathOptInterface.ConstraintIndex{MathOptInterface.ScalarAffineFunction{Float64}, MathOptInterface.GreaterThan{Float64}}, ScalarShape},1,...} with index sets:\n",
       "    Dimension 1, [\"HASS-H\", \"HASS-A\", \"HASS-S\"]\n",
       "And data, a 3-element Vector{ConstraintRef{Model, MathOptInterface.ConstraintIndex{MathOptInterface.ScalarAffineFunction{Float64}, MathOptInterface.GreaterThan{Float64}}, ScalarShape}}:\n",
       " _[194] + _[300] + _[308] + _[309] + _[310] + _[311] + _[315] + _[329] + _[335] + _[343] + _[344] + _[346] + _[348] + _[1398] + _[1399] + _[1400] + _[1403] + _[1404] + _[1406] + _[2039] + _[2040] + _[2043] + _[2092] + _[2095] + _[2096] + _[2100] + _[2102] + _[2103] + _[2104] + _[2105] + [[...3844 terms omitted...]] + _[37526] + _[37535] + _[37538] + _[37542] + _[37543] + _[37584] + _[37585] + _[37586] + _[37587] + _[37588] + _[37591] + _[37592] + _[37593] + _[37596] + _[37599] + _[37601] + _[37604] + _[37609] + _[37612] + _[37613] + _[37614] + _[37615] + _[37616] + _[37617] + _[37618] + _[37619] + _[37621] + _[37628] + _[37629] + _[37631] ≥ 1\n",
       " _[2078] + _[2083] + _[2114] + _[2137] + _[2138] + _[2149] + _[2177] + _[2207] + _[2214] + _[2233] + _[2234] + _[2279] + _[2325] + _[2383] + _[2420] + _[2426] + _[2437] + _[2458] + _[2472] + _[2475] + _[2478] + _[2482] + _[2513] + _[2515] + _[2516] + _[2517] + _[2518] + _[2519] + _[2520] + _[2521] + [[...1756 terms omitted...]] + _[36394] + _[36511] + _[37005] + _[37022] + _[37023] + _[37024] + _[37025] + _[37026] + _[37030] + _[37031] + _[37032] + _[37033] + _[37044] + _[37059] + _[37060] + _[37062] + _[37066] + _[37067] + _[37069] + _[37070] + _[37071] + _[37072] + _[37134] + _[37380] + _[37489] + _[37515] + _[37527] + _[37531] + _[37589] + _[37594] ≥ 1\n",
       " _[155] + _[301] + _[302] + _[304] + _[305] + _[307] + _[312] + _[314] + _[316] + _[318] + _[319] + _[320] + _[323] + _[324] + _[325] + _[326] + _[327] + _[328] + _[330] + _[332] + _[334] + _[336] + _[337] + _[340] + _[341] + _[345] + _[347] + _[351] + _[353] + _[354] + [[...2228 terms omitted...]] + _[37518] + _[37519] + _[37520] + _[37521] + _[37529] + _[37530] + _[37532] + _[37533] + _[37534] + _[37536] + _[37537] + _[37539] + _[37540] + _[37541] + _[37590] + _[37595] + _[37597] + _[37600] + _[37602] + _[37605] + _[37606] + _[37607] + _[37608] + _[37610] + _[37611] + _[37622] + _[37623] + _[37624] + _[37625] + _[37626] ≥ 1"
      ]
     },
     "metadata": {},
     "output_type": "display_data"
    }
   ],
   "source": [
    "function add_general_requirements(model, dVar) \n",
    "    # Full-time; at least 36 units per semester\n",
    "    @constraint(model, [s in 1:S], sum(U[i]*dVar[i, s] for i=1:n) >= 36);\n",
    "\n",
    "    # Wellbeing: no more than 112 hours per week\n",
    "    @constraint(model, [s in 1:S], sum(H[i]*dVar[i, s] for i=1:n) <= 112);\n",
    "\n",
    "    # Not repeatable: cannot take a class again\n",
    "    @constraint(model, [i in 1:n], sum(dVar[i, t] for t=1:S) <= 1);\n",
    "\n",
    "    # Taken correct semester\n",
    "    @constraint(model, [s in 1:2:S, i in 1:n], dVar[i, s] <= all_classes[i][:offered_fall]);\n",
    "    @constraint(model, [s in 2:2:S, i in 1:n], dVar[i, s] <= all_classes[i][:offered_spring]);\n",
    "\n",
    "    # 2 CI-H or HW\n",
    "    @constraint(model, sum(\n",
    "        (get(all_classes[i], :communication_requirement, \"\") in [\"CI-H\", \"CI-HW\"]) * dVar[i, s] for i=1:n, s=1:S) >= 2);\n",
    "    \n",
    "    # 8 HASS\n",
    "    @constraint(model, sum(\n",
    "        (get(all_classes[i], :hass_attribute, \"\") in [\"HASS-H\", \"HASS-A\", \"HASS-S\"]) * dVar[i, s] for i=1:n, s=1:S) >= 8);\n",
    "\n",
    "    # 1 of each HASS-H, A, S\n",
    "    @constraint(model, [hass_type in [\"HASS-H\", \"HASS-A\", \"HASS-S\"]], sum(\n",
    "        (get(all_classes[i], :hass_attribute, \"\") in [hass_type]) * dVar[i, s] for i=1:n, s=1:S) >= 1);\n",
    "end\n",
    "add_general_requirements(model1, model_var)"
   ]
  },
  {
   "cell_type": "markdown",
   "metadata": {},
   "source": [
    "#### Adding Institute Reqs ####"
   ]
  },
  {
   "cell_type": "code",
   "execution_count": 11,
   "metadata": {},
   "outputs": [
    {
     "data": {
      "text/plain": [
       "6-element Vector{Vector{Int64}}:\n",
       " [2963, 3304, 3305]\n",
       " [3857, 3858, 3859, 3860]\n",
       " [3861, 3862, 3863]\n",
       " [1537, 1538]\n",
       " [1539, 1541, 1540]\n",
       " [3753, 3754, 3755, 3756, 3757]"
      ]
     },
     "metadata": {},
     "output_type": "display_data"
    }
   ],
   "source": [
    "chem_gir_ids = [\"3.091\", \"5.111\", \"5.112\"]\n",
    "phys_1_gir_ids = [\"8.01\", \"8.011\", \"8.012\", \"8.01L\"]\n",
    "phys_2_gir_ids = [\"8.02\", \"8.021\", \"8.022\"]\n",
    "math_1_gir_ids = [\"18.01\", \"18.01A\"]\n",
    "math_2_gir_ids = [\"18.02\", \"18.02A\", \"18.022\"]\n",
    "bio_gir_ids = [\"7.012\", \"7.013\", \"7.014\", \"7.015\", \"7.016\"]\n",
    "gir_ids = [chem_gir_ids, phys_1_gir_ids, phys_2_gir_ids, math_1_gir_ids, math_2_gir_ids, bio_gir_ids]\n",
    "gir_inds_types = [[findfirst(x -> x[:subject_id] == gir_id, all_classes) for gir_id in gir_type] for gir_type in gir_ids]"
   ]
  },
  {
   "cell_type": "code",
   "execution_count": 12,
   "metadata": {},
   "outputs": [
    {
     "data": {
      "text/plain": [
       "1-dimensional DenseAxisArray{ConstraintRef{Model, MathOptInterface.ConstraintIndex{MathOptInterface.ScalarAffineFunction{Float64}, MathOptInterface.EqualTo{Float64}}, ScalarShape},1,...} with index sets:\n",
       "    Dimension 1, [[2963, 3304, 3305], [3857, 3858, 3859, 3860], [3861, 3862, 3863], [1537, 1538], [1539, 1541, 1540], [3753, 3754, 3755, 3756, 3757]]\n",
       "And data, a 6-element Vector{ConstraintRef{Model, MathOptInterface.ConstraintIndex{MathOptInterface.ScalarAffineFunction{Float64}, MathOptInterface.EqualTo{Float64}}, ScalarShape}}:\n",
       " _[2963] + _[3304] + _[3305] + _[7667] + _[8008] + _[8009] + _[12371] + _[12712] + _[12713] + _[17075] + _[17416] + _[17417] + _[21779] + _[22120] + _[22121] + _[26483] + _[26824] + _[26825] + _[31187] + _[31528] + _[31529] + _[35891] + _[36232] + _[36233] = 1\n",
       " _[3857] + _[3858] + _[3859] + _[3860] + _[8561] + _[8562] + _[8563] + _[8564] + _[13265] + _[13266] + _[13267] + _[13268] + _[17969] + _[17970] + _[17971] + _[17972] + _[22673] + _[22674] + _[22675] + _[22676] + _[27377] + _[27378] + _[27379] + _[27380] + _[32081] + _[32082] + _[32083] + _[32084] + _[36785] + _[36786] + _[36787] + _[36788] = 1\n",
       " _[3861] + _[3862] + _[3863] + _[8565] + _[8566] + _[8567] + _[13269] + _[13270] + _[13271] + _[17973] + _[17974] + _[17975] + _[22677] + _[22678] + _[22679] + _[27381] + _[27382] + _[27383] + _[32085] + _[32086] + _[32087] + _[36789] + _[36790] + _[36791] = 1\n",
       " _[1537] + _[1538] + _[6241] + _[6242] + _[10945] + _[10946] + _[15649] + _[15650] + _[20353] + _[20354] + _[25057] + _[25058] + _[29761] + _[29762] + _[34465] + _[34466] = 1\n",
       " _[1539] + _[1540] + _[1541] + _[6243] + _[6244] + _[6245] + _[10947] + _[10948] + _[10949] + _[15651] + _[15652] + _[15653] + _[20355] + _[20356] + _[20357] + _[25059] + _[25060] + _[25061] + _[29763] + _[29764] + _[29765] + _[34467] + _[34468] + _[34469] = 1\n",
       " _[3753] + _[3754] + _[3755] + _[3756] + _[3757] + _[8457] + _[8458] + _[8459] + _[8460] + _[8461] + _[13161] + _[13162] + _[13163] + _[13164] + _[13165] + _[17865] + _[17866] + _[17867] + _[17868] + _[17869] + _[22569] + _[22570] + _[22571] + _[22572] + _[22573] + _[27273] + _[27274] + _[27275] + _[27276] + _[27277] + _[31977] + _[31978] + _[31979] + _[31980] + _[31981] + _[36681] + _[36682] + _[36683] + _[36684] + _[36685] = 1"
      ]
     },
     "metadata": {},
     "output_type": "display_data"
    }
   ],
   "source": [
    "function add_gir_constraints(model, dVar)\n",
    "    @constraint(model, [gir_type in gir_inds_types], sum(dVar[gir_ind, s] for gir_ind in gir_type, s in 1:S) == 1);\n",
    "end\n",
    "add_gir_constraints(model1, model_var)"
   ]
  },
  {
   "cell_type": "markdown",
   "metadata": {},
   "source": [
    "#### Adding 6-4 Constraints ####"
   ]
  },
  {
   "cell_type": "code",
   "execution_count": 36,
   "metadata": {},
   "outputs": [
    {
     "data": {
      "text/plain": [
       "Dict{String, Any} with 7 entries:\n",
       "  \"short-title\"     => \"18\"\n",
       "  \"medium-title\"    => \"18 Major (Applied)\"\n",
       "  \"title-no-degree\" => \"Applied Mathematics\"\n",
       "  \"reqs\"            => Any[Dict{String, Any}(\"connection-type\"=>\"all\", \"thresho…\n",
       "  \"list-id\"         => \"major18am.reql\"\n",
       "  \"title\"           => \"Bachelor of Science in Mathematics (Applied Mathematics…\n",
       "  \"desc\"            => \"Applied mathematics focuses on the mathematical concept…"
      ]
     },
     "metadata": {},
     "output_type": "display_data"
    }
   ],
   "source": [
    "function get_major_requirements(major::String)\n",
    "    # Store the URL\n",
    "    url = \"https://fireroad.mit.edu/requirements/get_json/major\"*major*\"/\"\n",
    "\n",
    "    # Send the request and get the response\n",
    "    reqs = HTTP.get(url)\n",
    "\n",
    "    # Parse the JSON response\n",
    "    datafile = JSON.parse(String(reqs.body))\n",
    "    return datafile\n",
    "end\n",
    "\n",
    "df = get_major_requirements(\"18am\")"
   ]
  },
  {
   "cell_type": "code",
   "execution_count": 37,
   "metadata": {},
   "outputs": [
    {
     "data": {
      "text/plain": [
       "7-element Vector{Any}:\n",
       " (Any[\"18.03\", \"18.032\", \"18.152\", \"18.303\"], \"geq\", 1)\n",
       " (Any[\"18.04\", \"18.112\"], \"geq\", 1)\n",
       " (Any[\"18.200\", \"18.200A\"], \"geq\", 1)\n",
       " (Any[\"18.06\", \"18.300\"], \"eq\", 2)\n",
       " (Any[(Any[\"Group I subject\", \"Group I subject\", \"Group I subject\"], \"geq\", 1), (Any[\"Group II subject\", \"Group II subject\", \"Group II subject\"], \"geq\", 1)], \"geq\", 4)\n",
       " (Any[\"18.104\", \"18.204\", \"18.384\", \"18.424\", \"18.434\", \"18.504\", \"18.704\", \"18.784\", \"18.821\", \"18.904\", \"18.994\"], \"geq\", 1)\n",
       " (Any[\"8.06\", \"14.18\", \"14.33\", \"18.100P\", \"18.100Q\", \"18.200\"], \"geq\", 0)"
      ]
     },
     "metadata": {},
     "output_type": "display_data"
    }
   ],
   "source": [
    "# Create a mapping for comparison types\n",
    "type_mapping = Dict(\"LT\" => \"lt\", \"GT\" => \"gt\", \"GTE\" => \"geq\", \"LTE\" => \"leq\")\n",
    "\n",
    "# Function to recursively go through requirements and create vector of major requirements\n",
    "function create_major_requirements(data, connector=false, cutoff=1, ineq=\"geq\")\n",
    "    mandatory = []\n",
    "    all_reqs = []\n",
    "    together = false\n",
    "    comb_req = []\n",
    "    \n",
    "    for section in data[\"reqs\"]\n",
    "        ineq = \"geq\"\n",
    "        cutoff = 1\n",
    "        \n",
    "        # Base case: if there's a \"req\" key in the section\n",
    "        if haskey(section, \"req\")\n",
    "            if connector\n",
    "                push!(mandatory, section[\"req\"])\n",
    "                continue\n",
    "            else\n",
    "                push!(all_reqs, section[\"req\"])\n",
    "                continue\n",
    "            end\n",
    "        end\n",
    "\n",
    "        # Recursive case: checking for special thresholds\n",
    "        if haskey(section, \"distinct-threshold\")\n",
    "            cutoff = section[\"distinct-threshold\"][\"cutoff\"]\n",
    "            ineq = type_mapping[section[\"distinct-threshold\"][\"type\"]]\n",
    "            if haskey(section, \"threshold\") && section[\"threshold\"][\"cutoff\"] != cutoff\n",
    "                together = true\n",
    "                total_cutoff = section[\"threshold\"][\"cutoff\"]\n",
    "                total_ineq = type_mapping[section[\"threshold\"][\"type\"]]\n",
    "            end\n",
    "        elseif haskey(section, \"threshold\")\n",
    "            cutoff = section[\"threshold\"][\"cutoff\"]\n",
    "            ineq = type_mapping[section[\"threshold\"][\"type\"]]\n",
    "        end\n",
    "        \n",
    "        # Building based on connection types\n",
    "        if section[\"connection-type\"] == \"all\"\n",
    "            next = create_major_requirements(section, true)\n",
    "            if together\n",
    "                comb_req = vcat(comb_req, reduce(vcat, getindex.(next, 1)))\n",
    "            else\n",
    "                append!(all_reqs, next)\n",
    "            end\n",
    "        elseif section[\"connection-type\"] == \"any\"\n",
    "            next = create_major_requirements(section)\n",
    "            if together\n",
    "                comb_req = vcat(comb_req, reduce(vcat, getindex.(next, 1)))\n",
    "            else\n",
    "                one_req = (next, ineq, cutoff)\n",
    "                push!(all_reqs, one_req)\n",
    "            end\n",
    "        else\n",
    "            return create_major_requirements(section)\n",
    "        end\n",
    "        \n",
    "        #for thresholds with distinct-thresholds\n",
    "        if together\n",
    "            push!(all_reqs, (comb_req, total_ineq, total_cutoff))\n",
    "        end\n",
    "    end\n",
    "\n",
    "    if !isempty(mandatory)\n",
    "        push!(all_reqs, (mandatory, \"eq\", length(mandatory)))\n",
    "    end\n",
    "    \n",
    "    return all_reqs\n",
    "end\n",
    "\n",
    "# Call the function\n",
    "major_requirements = create_major_requirements(df)"
   ]
  },
  {
   "cell_type": "code",
   "execution_count": 39,
   "metadata": {},
   "outputs": [
    {
     "name": "stdout",
     "output_type": "stream",
     "text": [
      "hiAny[(Any[\"18.03\", \"18.032\", \"18.152\", \"18.303\"], \"geq\", 1), (Any[\"18.04\", \"18.112\"], \"geq\", 1), (Any[\"18.200\", \"18.200A\"], \"geq\", 1), (Any[\"18.06\", \"18.300\"], \"eq\", 2), (Any[(Any[\"Group I subject\", \"Group I subject\", \"Group I subject\"], \"geq\", 1), (Any[\"Group II subject\", \"Group II subject\", \"Group II subject\"], \"geq\", 1)], \"geq\", 4), (Any[\"18.104\", \"18.204\", \"18.384\", \"18.424\", \"18.434\", \"18.504\", \"18.704\", \"18.784\", \"18.821\", \"18.904\", \"18.994\"], \"geq\", 1), (Any[\"8.06\", \"14.18\", \"14.33\", \"18.100P\", \"18.100Q\", \"18.200\"], \"geq\", 0)]\n",
      "hiAny[\"18.03\", \"18.032\", \"18.152\", \"18.303\"]\n",
      "_[1542] + _[1544] + _[1580] + _[1599] + _[6246] + _[6248] + _[6284] + _[6303] + _[10950] + _[10952] + _[10988] + _[11007] + _[15654] + _[15656] + _[15692] + _[15711] + _[20358] + _[20360] + _[20396] + _[20415] + _[25062] + _[25064] + _[25100] + _[25119] + _[29766] + _[29768] + _[29804] + _[29823] + _[34470] + _[34472] + _[34508] + _[34527]\n",
      "hiAny[\"18.04\", \"18.112\"]\n",
      "_[1545] + _[1573] + _[6249] + _[6277] + _[10953] + _[10981] + _[15657] + _[15685] + _[20361] + _[20389] + _[25065] + _[25093] + _[29769] + _[29797] + _[34473] + _[34501]\n",
      "hiAny[\"18.200\", \"18.200A\"]\n",
      "_[1589] + _[1590] + _[6293] + _[6294] + _[10997] + _[10998] + _[15701] + _[15702] + _[20405] + _[20406] + _[25109] + _[25110] + _[29813] + _[29814] + _[34517] + _[34518]\n",
      "hiAny[\"18.06\", \"18.300\"]\n",
      "_[1547] + _[1598] + _[6251] + _[6302] + _[10955] + _[11006] + _[15659] + _[15710] + _[20363] + _[20414] + _[25067] + _[25118] + _[29771] + _[29822] + _[34475] + _[34526]\n",
      "hiAny[(Any[\"Group I subject\", \"Group I subject\", \"Group I subject\"], \"geq\", 1), (Any[\"Group II subject\", \"Group II subject\", \"Group II subject\"], \"geq\", 1)]\n",
      "hiAny[\"Group I subject\", \"Group I subject\", \"Group I subject\"]\n",
      "hiAny[\"Group II subject\", \"Group II subject\", \"Group II subject\"]\n",
      "hiAny[\"18.104\", \"18.204\", \"18.384\", \"18.424\", \"18.434\", \"18.504\", \"18.704\", \"18.784\", \"18.821\", \"18.904\", \"18.994\"]\n",
      "_[1572] + _[1591] + _[1619] + _[1633] + _[1635] + _[1642] + _[1659] + _[1678] + _[1682] + _[1688] + _[1701] + _[6276] + _[6295] + _[6323] + _[6337] + _[6339] + _[6346] + _[6363] + _[6382] + _[6386] + _[6392] + _[6405] + _[10980] + _[10999] + _[11027] + _[11041] + _[11043] + _[11050] + _[11067] + _[11086] + [[...28 terms omitted...]] + _[25153] + _[25155] + _[25162] + _[25179] + _[25198] + _[25202] + _[25208] + _[25221] + _[29796] + _[29815] + _[29843] + _[29857] + _[29859] + _[29866] + _[29883] + _[29902] + _[29906] + _[29912] + _[29925] + _[34500] + _[34519] + _[34547] + _[34561] + _[34563] + _[34570] + _[34587] + _[34606] + _[34610] + _[34616] + _[34629]\n",
      "hiAny[\"8.06\", \"14.18\", \"14.33\", \"18.100P\", \"18.100Q\", \"18.200\"]\n",
      "_[3871] + _[780] + _[805] + _[1564] + _[1565] + _[1589] + _[8575] + _[5484] + _[5509] + _[6268] + _[6269] + _[6293] + _[13279] + _[10188] + _[10213] + _[10972] + _[10973] + _[10997] + _[17983] + _[14892] + _[14917] + _[15676] + _[15677] + _[15701] + _[22687] + _[19596] + _[19621] + _[20380] + _[20381] + _[20405] + _[27391] + _[24300] + _[24325] + _[25084] + _[25085] + _[25109] + _[32095] + _[29004] + _[29029] + _[29788] + _[29789] + _[29813] + _[36799] + _[33708] + _[33733] + _[34492] + _[34493] + _[34517]\n",
      "hiAny[_[96701], _[96702], _[96703], _[96704], _[96705], _[96706]]\n",
      "_[96701] + _[96702] + _[96703] + _[96704] + _[96705] + _[96706]\n"
     ]
    },
    {
     "data": {
      "text/plain": [
       "1-element Vector{VariableRef}:\n",
       " _[96707]"
      ]
     },
     "metadata": {},
     "output_type": "display_data"
    }
   ],
   "source": [
    "# Helper function to map the inequality string to a JuMP constraint\n",
    "function create_inequality_constraint(model, expr, ineq::String, value)\n",
    "    println(expr)\n",
    "    if ineq == \"geq\"\n",
    "        @constraint(model, expr >= value)\n",
    "    elseif ineq == \"eq\"\n",
    "        @constraint(model, expr == value)\n",
    "    elseif ineq == \"leq\"\n",
    "        @constraint(model, expr <= value)\n",
    "    else\n",
    "        error(\"Unknown inequality type: $ineq\")\n",
    "    end\n",
    "end\n",
    "\n",
    "# Main function to create JuMP constraints based on the requirements vector\n",
    "function add_requirements_constraints(model::Model, requirements::Vector, dVar, bin_var::Bool=false, group::Bool=false)\n",
    "    outer_group = Vector{Any}()\n",
    "    for req in requirements\n",
    "        courses, ineq, cutoff = req\n",
    "        print(\"hi\")\n",
    "        println(courses)\n",
    "        #if cutoff == 0\n",
    "        #    print(\"yo\")\n",
    "        #    continue\n",
    "        #end\n",
    "\n",
    "        # If the course requirement is a nested structure (i.e., a vector of other requirements)\n",
    "        if any(x -> isa(x, Tuple), courses)\n",
    "            # Recursively handle the nested requirements\n",
    "            solos = Vector{Any}()\n",
    "            for nested_req in courses\n",
    "                if isa(nested_req, Tuple)\n",
    "                    temps = add_requirements_constraints(model, [nested_req], dVar, true)\n",
    "                    append!(outer_group, temps)\n",
    "                    if isempty(temps)\n",
    "                        cutoff = cutoff - 1\n",
    "                    end\n",
    "                else\n",
    "                    push!(solos, nested_req)\n",
    "                end\n",
    "            end\n",
    "            if !isempty(solos)\n",
    "                temps = add_requirements_constraints(model, [(solos, \"geq\", 1)], dVar, true)\n",
    "                append!(outer_group, temps)\n",
    "            end\n",
    "            if !isempty(outer_group)\n",
    "                final_tup = (outer_group, ineq, cutoff)\n",
    "                add_requirements_constraints(model, [final_tup], dVar, false, true)\n",
    "                outer_group = [@variable(model, binary=true)]\n",
    "            end\n",
    "        else\n",
    "            # Retrieve the variables for each course in the list\n",
    "            if group\n",
    "                course_inds = courses\n",
    "                course_expr = sum(course_inds)\n",
    "            else\n",
    "                course_inds = [subjectid_to_index[course] for course in courses if haskey(subjectid_to_index, course)]\n",
    "                if isempty(course_inds)\n",
    "                    continue\n",
    "                end\n",
    "                course_expr = sum(dVar[course_ind, s] for course_ind in course_inds, s in 1:S)\n",
    "            end\n",
    "\n",
    "            if bin_var\n",
    "                inner_group = @variable(model, binary=true)\n",
    "                push!(outer_group, inner_group)\n",
    "                # Create the appropriate inequality constraint\n",
    "                new_cutoff = cutoff * inner_group\n",
    "                create_inequality_constraint(model, course_expr, ineq, new_cutoff)\n",
    "            else\n",
    "                # Create the appropriate inequality constraint\n",
    "                create_inequality_constraint(model, course_expr, ineq, cutoff)\n",
    "            end\n",
    "        end\n",
    "    end\n",
    "    return outer_group\n",
    "end\n",
    "\n",
    "real_major_requirements = [(major_requirements, \"eq\", length(major_requirements))]\n",
    "add_requirements_constraints(model1, real_major_requirements, model_var)"
   ]
  },
  {
   "cell_type": "code",
   "execution_count": 19,
   "metadata": {},
   "outputs": [
    {
     "data": {
      "text/plain": [
       "add_major_requirements (generic function with 1 method)"
      ]
     },
     "metadata": {},
     "output_type": "display_data"
    }
   ],
   "source": [
    "function add_major_requirements(major::String, model::Model, dVar)\n",
    "    datafile = get_major_requirements(major)\n",
    "    parsed_requirements = create_major_requirements(datafile)\n",
    "    requirements = [(parsed_requirements, \"eq\", length(parsed_requirements))]\n",
    "    add_requirements_constraints(model, requirements, dVar)\n",
    "end"
   ]
  },
  {
   "cell_type": "markdown",
   "metadata": {},
   "source": [
    "#### Adding Prereq constraints"
   ]
  },
  {
   "cell_type": "code",
   "execution_count": 22,
   "metadata": {},
   "outputs": [
    {
     "data": {
      "text/plain": [
       "4704-element Vector{Union{Nothing, String}}:\n",
       " \"GIR:CAL1, ((6.100A, 6.100B)/(6.100L, 16.C20))\"\n",
       " nothing\n",
       " \"GIR:CAL1\"\n",
       " nothing\n",
       " nothing\n",
       " nothing\n",
       " nothing\n",
       " \"GIR:CAL2\"\n",
       " nothing\n",
       " \"''Permission of instructor''\"\n",
       " ⋮\n",
       " nothing\n",
       " nothing\n",
       " nothing\n",
       " nothing\n",
       " nothing\n",
       " nothing\n",
       " nothing\n",
       " \"''One intermediate subject in French''/''permission of instructor''\"\n",
       " nothing"
      ]
     },
     "metadata": {},
     "output_type": "display_data"
    }
   ],
   "source": [
    "raw_prerequisites = map(course -> get(course, \"prerequisites\", nothing), all_classes)"
   ]
  },
  {
   "cell_type": "code",
   "execution_count": 23,
   "metadata": {},
   "outputs": [],
   "source": [
    "abstract type ExprNode end\n",
    "\n",
    "struct CourseNode <: ExprNode\n",
    "    course::String\n",
    "end\n",
    "\n",
    "struct ANDNode <: ExprNode\n",
    "    left::ExprNode\n",
    "    right::ExprNode\n",
    "end\n",
    "\n",
    "struct ORNode <: ExprNode\n",
    "    left::ExprNode\n",
    "    right::ExprNode\n",
    "end\n",
    "\n",
    "struct PreReq\n",
    "    root::CourseNode\n",
    "    prereqs::Union{ExprNode, Nothing}\n",
    "end "
   ]
  },
  {
   "cell_type": "code",
   "execution_count": 24,
   "metadata": {},
   "outputs": [
    {
     "data": {
      "text/plain": [
       "parse_prereq_string (generic function with 1 method)"
      ]
     },
     "metadata": {},
     "output_type": "display_data"
    }
   ],
   "source": [
    "function parse_prereq_string(input)\n",
    "    if input === nothing\n",
    "        return\n",
    "    end\n",
    "    input = replace(input, r\"\\s+\" => \"\")\n",
    "    tokens = collect(input)\n",
    "    function parse(tokens::Vector{Char})::ExprNode\n",
    "        stack = ExprNode[]\n",
    "        buffer = IOBuffer()\n",
    "        while !isempty(tokens)\n",
    "            token = popfirst!(tokens)\n",
    "            if token == '('\n",
    "                node = parse(tokens)\n",
    "                push!(stack, node)\n",
    "            elseif token == ')'\n",
    "                break\n",
    "            elseif token == ','\n",
    "                left = isempty(stack) ? CourseNode(String(take!(buffer))) : pop!(stack)\n",
    "                right = parse(tokens)\n",
    "                return ANDNode(left, right)\n",
    "            elseif token == '/'\n",
    "                left = isempty(stack) ? CourseNode(String(take!(buffer))) : pop!(stack)\n",
    "                right = parse(tokens)\n",
    "                return ORNode(left, right)\n",
    "            else\n",
    "                write(buffer, token)\n",
    "            end\n",
    "        end\n",
    "        return isempty(stack) ? CourseNode(String(take!(buffer))) : stack[1]\n",
    "    end\n",
    "    return parse(tokens)\n",
    "end"
   ]
  },
  {
   "cell_type": "code",
   "execution_count": 25,
   "metadata": {},
   "outputs": [
    {
     "data": {
      "text/plain": [
       "replace_gir_terms (generic function with 1 method)"
      ]
     },
     "metadata": {},
     "output_type": "display_data"
    }
   ],
   "source": [
    "function replace_gir_terms(input_str)\n",
    "    if input_str === nothing\n",
    "        return \n",
    "    end\n",
    "    gir_map = Dict(\n",
    "        \"GIR:CHEM\" => [\"3.091\", \"5.111\", \"5.112\"],\n",
    "        \"GIR:PHY1\" => [\"8.01\", \"8.011\", \"8.012\", \"8.01L\"],\n",
    "        \"GIR:PHY2\" => [\"8.02\", \"8.021\", \"8.022\"],\n",
    "        \"GIR:CAL1\" => [\"18.01\", \"18.01A\"],\n",
    "        \"GIR:CAL2\" => [\"18.02\", \"18.02A\", \"18.022\"],\n",
    "        \"GIR:BIOL\" => [\"7.012\", \"7.013\", \"7.014\", \"7.015\", \"7.016\"]\n",
    "    )\n",
    "    pattern = r\"GIR:\\w+\"\n",
    "    replaced_str = replace(input_str, pattern => x -> begin\n",
    "        term = match(pattern, x).match\n",
    "        if haskey(gir_map, term)\n",
    "            \"(\" * join(gir_map[term], \"/\") * \")\"\n",
    "        else\n",
    "            term\n",
    "        end\n",
    "    end)\n",
    "    return replaced_str\n",
    "end"
   ]
  },
  {
   "cell_type": "code",
   "execution_count": 26,
   "metadata": {},
   "outputs": [
    {
     "data": {
      "text/plain": [
       "4704-element Vector{Union{Nothing, String}}:\n",
       " \"(18.01/18.01A), ((6.100A, 6.100B)/(6.100L, 16.C20))\"\n",
       " nothing\n",
       " \"(18.01/18.01A)\"\n",
       " nothing\n",
       " nothing\n",
       " nothing\n",
       " nothing\n",
       " \"(18.02/18.02A/18.022)\"\n",
       " nothing\n",
       " \"''Permission of instructor''\"\n",
       " ⋮\n",
       " nothing\n",
       " nothing\n",
       " nothing\n",
       " nothing\n",
       " nothing\n",
       " nothing\n",
       " nothing\n",
       " \"''One intermediate subject in French''/''permission of instructor''\"\n",
       " nothing"
      ]
     },
     "metadata": {},
     "output_type": "display_data"
    }
   ],
   "source": [
    "prerequisites = map(prereq_str -> replace_gir_terms(prereq_str), raw_prerequisites)"
   ]
  },
  {
   "cell_type": "code",
   "execution_count": 27,
   "metadata": {},
   "outputs": [
    {
     "data": {
      "text/plain": [
       "4704-element Vector{Any}:\n",
       " PreReq(CourseNode(\"1.00\"), ANDNode(ORNode(CourseNode(\"18.01\"), CourseNode(\"18.01A\")), ORNode(ANDNode(CourseNode(\"6.100A\"), CourseNode(\"6.100B\")), ANDNode(CourseNode(\"6.100L\"), CourseNode(\"16.C20\")))))\n",
       " PreReq(CourseNode(\"1.000\"), nothing)\n",
       " PreReq(CourseNode(\"1.001\"), ORNode(CourseNode(\"18.01\"), CourseNode(\"18.01A\")))\n",
       " PreReq(CourseNode(\"1.005\"), nothing)\n",
       " PreReq(CourseNode(\"1.007\"), nothing)\n",
       " PreReq(CourseNode(\"1.008\"), nothing)\n",
       " PreReq(CourseNode(\"1.009\"), nothing)\n",
       " PreReq(CourseNode(\"1.010\"), ORNode(CourseNode(\"18.02\"), ORNode(CourseNode(\"18.02A\"), CourseNode(\"18.022\"))))\n",
       " PreReq(CourseNode(\"1.011\"), nothing)\n",
       " PreReq(CourseNode(\"1.013\"), CourseNode(\"''Permissionofinstructor''\"))\n",
       " ⋮\n",
       " PreReq(CourseNode(\"WGS.274\"), nothing)\n",
       " PreReq(CourseNode(\"WGS.275\"), nothing)\n",
       " PreReq(CourseNode(\"WGS.276\"), nothing)\n",
       " PreReq(CourseNode(\"WGS.277\"), nothing)\n",
       " PreReq(CourseNode(\"WGS.301\"), nothing)\n",
       " PreReq(CourseNode(\"WGS.303\"), nothing)\n",
       " PreReq(CourseNode(\"WGS.310\"), nothing)\n",
       " PreReq(CourseNode(\"WGS.321\"), ORNode(CourseNode(\"''OneintermediatesubjectinFrench''\"), CourseNode(\"''permissionofinstructor''\")))\n",
       " PreReq(CourseNode(\"WGS.S10\"), nothing)"
      ]
     },
     "metadata": {},
     "output_type": "display_data"
    }
   ],
   "source": [
    "prerequisite_expressions = []\n",
    "for index in 1:length(prerequisites)\n",
    "    course_id = CourseNode(index_to_subjectid[index])\n",
    "    prereq_tree = parse_prereq_string(prerequisites[index])\n",
    "    push!(prerequisite_expressions, PreReq(course_id, prereq_tree))\n",
    "end\n",
    "prerequisite_expressions"
   ]
  },
  {
   "cell_type": "code",
   "execution_count": 28,
   "metadata": {},
   "outputs": [
    {
     "data": {
      "text/plain": [
       "add_prereq_constraint (generic function with 1 method)"
      ]
     },
     "metadata": {},
     "output_type": "display_data"
    }
   ],
   "source": [
    "function add_course_constraint(model::Model, dVar, course::CourseNode, sem::Int)\n",
    "    index = get(subjectid_to_index, course.course, nothing)\n",
    "    if index == nothing\n",
    "        return 0  # Ignore unknown courses\n",
    "    end\n",
    "    if sem == 1\n",
    "        return 0  # Cannot satisfy prerequisites in the first semester\n",
    "    else\n",
    "        return handle_prerequisite_sum(model, dVar, index, sem)\n",
    "    end\n",
    "end\n",
    "\n",
    "function handle_prerequisite_sum(model::Model, dVar, index::Int, sem::Int)\n",
    "    prereq_sum = sum(dVar[index, s] for s in 1:sem-1)\n",
    "    binary_prereq_var = @variable(model, binary=true)\n",
    "    @constraint(model, binary_prereq_var <= prereq_sum)\n",
    "    @constraint(model, binary_prereq_var >=  prereq_sum / (sem-1))  # Ensure binary behavior\n",
    "    return binary_prereq_var\n",
    "end\n",
    "\n",
    "function add_and_constraint(left_var, right_var, model::Model)\n",
    "    and_var = @variable(model, binary=true)\n",
    "    @constraint(model, and_var <= left_var)\n",
    "    @constraint(model, and_var <= right_var)\n",
    "    @constraint(model, and_var >= left_var + right_var - 1)\n",
    "    return and_var\n",
    "end\n",
    "\n",
    "function add_or_constraint(left_var, right_var, model::Model)\n",
    "    or_var = @variable(model, binary=true)\n",
    "    @constraint(model, or_var >= left_var)\n",
    "    @constraint(model, or_var >= right_var)\n",
    "    @constraint(model, or_var <= left_var + right_var)\n",
    "    return or_var\n",
    "end\n",
    "\n",
    "function add_and_or_constraints(model::Model, dVar, expr::ExprNode, sem::Int)\n",
    "    if isa(expr, CourseNode)\n",
    "        return add_course_constraint(model, dVar, expr, sem)\n",
    "    elseif isa(expr, ANDNode)\n",
    "        left_var = add_and_or_constraints(model, dVar, expr.left, sem)\n",
    "        right_var = add_and_or_constraints(model, dVar, expr.right, sem)\n",
    "        return add_and_constraint(left_var, right_var, model)\n",
    "    elseif isa(expr, ORNode)\n",
    "        left_var = add_and_or_constraints(model, dVar, expr.left, sem)\n",
    "        right_var = add_and_or_constraints(model, dVar, expr.right, sem)\n",
    "        return add_or_constraint(left_var, right_var, model)\n",
    "    else\n",
    "        error(\"Unknown expression type\")\n",
    "    end\n",
    "end\n",
    "\n",
    "function add_prereq_constraint(model, dVar, prereq_obj, sem)\n",
    "    index = get(subjectid_to_index, prereq_obj.root.course, nothing)\n",
    "    if index == nothing\n",
    "        return 1  # Ignore unknown courses\n",
    "    end\n",
    "    if prereq_obj.prereqs === nothing\n",
    "        return dVar[index, sem]\n",
    "    else\n",
    "        prereq_var = add_and_or_constraints(model, dVar, prereq_obj.prereqs, sem)\n",
    "        @constraint(model, dVar[index, sem] <= prereq_var)\n",
    "        return dVar[index, sem]\n",
    "    end\n",
    "end\n"
   ]
  },
  {
   "cell_type": "code",
   "execution_count": 29,
   "metadata": {},
   "outputs": [],
   "source": [
    "function add_prereq_constraints(model, dVar) \n",
    "    for s in 1:S\n",
    "        for prereq_expr in prerequisite_expressions\n",
    "            add_prereq_constraint(model, dVar, prereq_expr, s)\n",
    "        end\n",
    "    end\n",
    "end \n",
    "\n",
    "add_prereq_constraints(model1, model_var)"
   ]
  },
  {
   "cell_type": "markdown",
   "metadata": {},
   "source": [
    "#### Optimizing the Model and Interpretation"
   ]
  },
  {
   "cell_type": "code",
   "execution_count": 30,
   "metadata": {},
   "outputs": [
    {
     "name": "stdout",
     "output_type": "stream",
     "text": [
      "Gurobi Optimizer version 12.0.0 build v12.0.0rc1 (mac64[arm] - Darwin 23.6.0 23G93)\n",
      "\n",
      "CPU model: Apple M3 Pro\n",
      "Thread count: 11 physical cores, 11 logical processors, using up to 11 threads\n",
      "\n",
      "Optimize a model with 211873 rows, 96694 columns and 681598 nonzeros\n",
      "Model fingerprint: 0xd71be02f\n",
      "Variable types: 0 continuous, 96694 integer (96694 binary)\n",
      "Coefficient statistics:\n",
      "  Matrix range     [1e-01, 8e+01]\n",
      "  Objective range  [6e+00, 2e+02]\n",
      "  Bounds range     [0e+00, 0e+00]\n",
      "  RHS range        [1e+00, 1e+02]\n",
      "Presolve removed 37656 rows and 4231 columns\n",
      "Presolve time: 0.02s\n",
      "\n",
      "Explored 0 nodes (0 simplex iterations) in 0.06 seconds (0.14 work units)\n",
      "Thread count was 1 (of 11 available processors)\n",
      "\n",
      "Solution count 0\n",
      "\n",
      "Model is infeasible or unbounded\n",
      "Best objective -, best bound -, gap -\n",
      "\n",
      "User-callback calls 48, time in user-callback 0.00 sec\n"
     ]
    }
   ],
   "source": [
    "optimize!(model1)"
   ]
  },
  {
   "cell_type": "code",
   "execution_count": 33,
   "metadata": {},
   "outputs": [
    {
     "data": {
      "text/plain": [
       "interpret_course_units (generic function with 1 method)"
      ]
     },
     "metadata": {},
     "output_type": "display_data"
    }
   ],
   "source": [
    "function interpret_course_nums(classes_id_per_sem)\n",
    "    course_nums = [[all_classes[class_ind][:subject_id] for class_ind in sem] for sem in classes_id_per_sem]\n",
    "    return course_nums\n",
    "end\n",
    "\n",
    "function interpret_course_attr(classes_id_per_sem, attr)\n",
    "    courses_attr = [[get(all_classes[class_ind], Symbol(attr), \"\") for class_ind in sem] for sem in classes_id_per_sem]\n",
    "    return courses_attr\n",
    "end\n",
    "\n",
    "function interpret_course_hours(classes_id_per_sem)\n",
    "    course_hours = [[H[class_ind] for class_ind in sem] for sem in classes_id_per_sem]\n",
    "    return course_hours\n",
    "end\n",
    "\n",
    "function interpret_course_units(classes_id_per_sem)\n",
    "    course_units = [[U[class_ind] for class_ind in sem] for sem in classes_id_per_sem]\n",
    "    return course_units\n",
    "end"
   ]
  },
  {
   "cell_type": "code",
   "execution_count": 27,
   "metadata": {},
   "outputs": [
    {
     "ename": "MathOptInterface.ResultIndexBoundsError{MathOptInterface.VariablePrimal}",
     "evalue": "Result index of attribute MathOptInterface.VariablePrimal(1) out of bounds. There are currently 0 solution(s) in the model.",
     "output_type": "error",
     "traceback": [
      "Result index of attribute MathOptInterface.VariablePrimal(1) out of bounds. There are currently 0 solution(s) in the model.\n",
      "\n",
      "Stacktrace:\n",
      "  [1] check_result_index_bounds\n",
      "    @ ~/.julia/packages/MathOptInterface/gLl4d/src/attributes.jl:207 [inlined]\n",
      "  [2] get(model::Gurobi.Optimizer, attr::MathOptInterface.VariablePrimal, x::MathOptInterface.VariableIndex)\n",
      "    @ Gurobi ~/.julia/packages/Gurobi/fnju1/src/MOI_wrapper/MOI_wrapper.jl:3059\n",
      "  [3] get(b::MathOptInterface.Bridges.LazyBridgeOptimizer{Gurobi.Optimizer}, attr::MathOptInterface.VariablePrimal, index::MathOptInterface.VariableIndex)\n",
      "    @ MathOptInterface.Bridges ~/.julia/packages/MathOptInterface/gLl4d/src/Bridges/bridge_optimizer.jl:1252\n",
      "  [4] get(model::MathOptInterface.Utilities.CachingOptimizer{MathOptInterface.Bridges.LazyBridgeOptimizer{Gurobi.Optimizer}, MathOptInterface.Utilities.UniversalFallback{MathOptInterface.Utilities.Model{Float64}}}, attr::MathOptInterface.VariablePrimal, index::MathOptInterface.VariableIndex)\n",
      "    @ MathOptInterface.Utilities ~/.julia/packages/MathOptInterface/gLl4d/src/Utilities/cachingoptimizer.jl:937\n",
      "  [5] _moi_get_result(::MathOptInterface.Utilities.CachingOptimizer{MathOptInterface.Bridges.LazyBridgeOptimizer{Gurobi.Optimizer}, MathOptInterface.Utilities.UniversalFallback{MathOptInterface.Utilities.Model{Float64}}}, ::MathOptInterface.VariablePrimal, ::Vararg{Any})\n",
      "    @ JuMP ~/.julia/packages/JuMP/i68GU/src/optimizer_interface.jl:1053\n",
      "  [6] get(model::Model, attr::MathOptInterface.VariablePrimal, v::VariableRef)\n",
      "    @ JuMP ~/.julia/packages/JuMP/i68GU/src/optimizer_interface.jl:1093\n",
      "  [7] value(v::VariableRef; result::Int64)\n",
      "    @ JuMP ~/.julia/packages/JuMP/i68GU/src/variables.jl:1904\n",
      "  [8] value\n",
      "    @ ~/.julia/packages/JuMP/i68GU/src/variables.jl:1903 [inlined]\n",
      "  [9] _broadcast_getindex_evalf\n",
      "    @ ./broadcast.jl:673 [inlined]\n",
      " [10] _broadcast_getindex\n",
      "    @ ./broadcast.jl:646 [inlined]\n",
      " [11] getindex\n",
      "    @ ./broadcast.jl:605 [inlined]\n",
      " [12] macro expansion\n",
      "    @ ./broadcast.jl:968 [inlined]\n",
      " [13] macro expansion\n",
      "    @ ./simdloop.jl:77 [inlined]\n",
      " [14] copyto!\n",
      "    @ ./broadcast.jl:967 [inlined]\n",
      " [15] copyto!\n",
      "    @ ./broadcast.jl:920 [inlined]\n",
      " [16] copy\n",
      "    @ ./broadcast.jl:892 [inlined]\n",
      " [17] materialize(bc::Base.Broadcast.Broadcasted{Base.Broadcast.DefaultArrayStyle{2}, Nothing, typeof(value), Tuple{Matrix{VariableRef}}})\n",
      "    @ Base.Broadcast ./broadcast.jl:867\n",
      " [18] top-level scope\n",
      "    @ ~/MIT Classes/Programming/jl_notebook_cell_df34fa98e69747e1a8f8a730347b8e2f_X43sZmlsZQ==.jl:1"
     ]
    }
   ],
   "source": [
    "taken_classes_sem = [[ind for (ind, val) in enumerate(sem) if val == 1] for sem in eachcol(value.(model_var))]\n",
    "interpret_course_nums(taken_classes_sem)"
   ]
  },
  {
   "cell_type": "code",
   "execution_count": 28,
   "metadata": {},
   "outputs": [
    {
     "ename": "UndefVarError",
     "evalue": "UndefVarError: `taken_classes_sem` not defined in `Main`\nSuggestion: check for spelling errors or missing imports.",
     "output_type": "error",
     "traceback": [
      "UndefVarError: `taken_classes_sem` not defined in `Main`\n",
      "Suggestion: check for spelling errors or missing imports.\n",
      "\n",
      "Stacktrace:\n",
      " [1] top-level scope\n",
      "   @ ~/MIT Classes/Programming/jl_notebook_cell_df34fa98e69747e1a8f8a730347b8e2f_X44sZmlsZQ==.jl:1"
     ]
    }
   ],
   "source": [
    "interpret_course_attr(taken_classes_sem, \"title\")"
   ]
  },
  {
   "cell_type": "code",
   "execution_count": 29,
   "metadata": {},
   "outputs": [
    {
     "data": {
      "text/plain": [
       "PreReq(CourseNode(\"16.84\"), ORNode(CourseNode(\"6.4200\"), CourseNode(\"''permissionofinstructor''\")))"
      ]
     },
     "metadata": {},
     "output_type": "display_data"
    }
   ],
   "source": [
    "prerequisite_expressions[subjectid_to_index[\"16.84\"]]"
   ]
  },
  {
   "cell_type": "code",
   "execution_count": 30,
   "metadata": {},
   "outputs": [
    {
     "ename": "UndefVarError",
     "evalue": "UndefVarError: `taken_classes_sem` not defined in `Main`\nSuggestion: check for spelling errors or missing imports.",
     "output_type": "error",
     "traceback": [
      "UndefVarError: `taken_classes_sem` not defined in `Main`\n",
      "Suggestion: check for spelling errors or missing imports.\n",
      "\n",
      "Stacktrace:\n",
      " [1] top-level scope\n",
      "   @ ~/MIT Classes/Programming/jl_notebook_cell_df34fa98e69747e1a8f8a730347b8e2f_X46sZmlsZQ==.jl:1"
     ]
    }
   ],
   "source": [
    "sems_hours = interpret_course_hours(taken_classes_sem)\n",
    "[sum(sem_hours) for sem_hours in sems_hours]"
   ]
  },
  {
   "cell_type": "code",
   "execution_count": 40,
   "metadata": {},
   "outputs": [
    {
     "data": {
      "text/plain": [
       "get_course_path (generic function with 2 methods)"
      ]
     },
     "metadata": {},
     "output_type": "display_data"
    }
   ],
   "source": [
    "function get_course_path(major::String, alpha=.8)\n",
    "    model = create_model(GRB_ENV)\n",
    "    course_var = add_course_semester_variables!(model)\n",
    "    set_objective_func(model, course_var, alpha)\n",
    "    add_general_requirements(model, course_var)\n",
    "    add_major_requirements(major, model, course_var)\n",
    "    add_prereq_constraints(model, course_var)\n",
    "    optimize!(model)\n",
    "    taken_classes_sem = [[ind for (ind, val) in enumerate(sem) if val == 1] for sem in eachcol(value.(course_var))]\n",
    "    #return interpret_course_nums(taken_classes_sem)\n",
    "    return interpret_course_attr(taken_classes_sem ,\"title\")\n",
    "end"
   ]
  },
  {
   "cell_type": "code",
   "execution_count": 42,
   "metadata": {},
   "outputs": [
    {
     "name": "stdout",
     "output_type": "stream",
     "text": [
      "hiAny[(Any[\"18.03\", \"18.032\", \"18.152\", \"18.303\"], \"geq\", 1), (Any[\"18.04\", \"18.112\"], \"geq\", 1), (Any[\"18.200\", \"18.200A\"], \"geq\", 1), (Any[\"18.06\", \"18.300\"], \"eq\", 2), (Any[(Any[\"Group I subject\", \"Group I subject\", \"Group I subject\"], \"geq\", 1), (Any[\"Group II subject\", \"Group II subject\", \"Group II subject\"], \"geq\", 1)], \"geq\", 4), (Any[\"18.104\", \"18.204\", \"18.384\", \"18.424\", \"18.434\", \"18.504\", \"18.704\", \"18.784\", \"18.821\", \"18.904\", \"18.994\"], \"geq\", 1), (Any[\"8.06\", \"14.18\", \"14.33\", \"18.100P\", \"18.100Q\", \"18.200\"], \"geq\", 0)]\n",
      "hiAny[\"18.03\", \"18.032\", \"18.152\", \"18.303\"]\n",
      "_[1542] + _[1544] + _[1580] + _[1599] + _[6246] + _[6248] + _[6284] + _[6303] + _[10950] + _[10952] + _[10988] + _[11007] + _[15654] + _[15656] + _[15692] + _[15711] + _[20358] + _[20360] + _[20396] + _[20415] + _[25062] + _[25064] + _[25100] + _[25119] + _[29766] + _[29768] + _[29804] + _[29823] + _[34470] + _[34472] + _[34508] + _[34527]\n",
      "hiAny[\"18.04\", \"18.112\"]\n",
      "_[1545] + _[1573] + _[6249] + _[6277] + _[10953] + _[10981] + _[15657] + _[15685] + _[20361] + _[20389] + _[25065] + _[25093] + _[29769] + _[29797] + _[34473] + _[34501]\n",
      "hiAny[\"18.200\", \"18.200A\"]\n",
      "_[1589] + _[1590] + _[6293] + _[6294] + _[10997] + _[10998] + _[15701] + _[15702] + _[20405] + _[20406] + _[25109] + _[25110] + _[29813] + _[29814] + _[34517] + _[34518]\n",
      "hiAny[\"18.06\", \"18.300\"]\n",
      "_[1547] + _[1598] + _[6251] + _[6302] + _[10955] + _[11006] + _[15659] + _[15710] + _[20363] + _[20414] + _[25067] + _[25118] + _[29771] + _[29822] + _[34475] + _[34526]\n",
      "hiAny[(Any[\"Group I subject\", \"Group I subject\", \"Group I subject\"], \"geq\", 1), (Any[\"Group II subject\", \"Group II subject\", \"Group II subject\"], \"geq\", 1)]\n",
      "hiAny[\"Group I subject\", \"Group I subject\", \"Group I subject\"]\n",
      "hiAny[\"Group II subject\", \"Group II subject\", \"Group II subject\"]\n",
      "hiAny[\"18.104\", \"18.204\", \"18.384\", \"18.424\", \"18.434\", \"18.504\", \"18.704\", \"18.784\", \"18.821\", \"18.904\", \"18.994\"]\n",
      "_[1572] + _[1591] + _[1619] + _[1633] + _[1635] + _[1642] + _[1659] + _[1678] + _[1682] + _[1688] + _[1701] + _[6276] + _[6295] + _[6323] + _[6337] + _[6339] + _[6346] + _[6363] + _[6382] + _[6386] + _[6392] + _[6405] + _[10980] + _[10999] + _[11027] + _[11041] + _[11043] + _[11050] + _[11067] + _[11086] + [[...28 terms omitted...]] + _[25153] + _[25155] + _[25162] + _[25179] + _[25198] + _[25202] + _[25208] + _[25221] + _[29796] + _[29815] + _[29843] + _[29857] + _[29859] + _[29866] + _[29883] + _[29902] + _[29906] + _[29912] + _[29925] + _[34500] + _[34519] + _[34547] + _[34561] + _[34563] + _[34570] + _[34587] + _[34606] + _[34610] + _[34616] + _[34629]\n",
      "hiAny[\"8.06\", \"14.18\", \"14.33\", \"18.100P\", \"18.100Q\", \"18.200\"]\n",
      "_[3871] + _[780] + _[805] + _[1564] + _[1565] + _[1589] + _[8575] + _[5484] + _[5509] + _[6268] + _[6269] + _[6293] + _[13279] + _[10188] + _[10213] + _[10972] + _[10973] + _[10997] + _[17983] + _[14892] + _[14917] + _[15676] + _[15677] + _[15701] + _[22687] + _[19596] + _[19621] + _[20380] + _[20381] + _[20405] + _[27391] + _[24300] + _[24325] + _[25084] + _[25085] + _[25109] + _[32095] + _[29004] + _[29029] + _[29788] + _[29789] + _[29813] + _[36799] + _[33708] + _[33733] + _[34492] + _[34493] + _[34517]\n",
      "hiAny[_[37633], _[37634], _[37635], _[37636], _[37637], _[37638]]\n",
      "_[37633] + _[37634] + _[37635] + _[37636] + _[37637] + _[37638]\n",
      "Gurobi Optimizer version 12.0.0 build v12.0.0rc1 (mac64[arm] - Darwin 23.6.0 23G93)\n",
      "\n",
      "CPU model: Apple M3 Pro\n",
      "Thread count: 11 physical cores, 11 logical processors, using up to 11 threads\n",
      "\n",
      "Optimize a model with 211860 rows, 96687 columns and 681090 nonzeros\n",
      "Model fingerprint: 0xd5cddaf0\n",
      "Variable types: 0 continuous, 96687 integer (96687 binary)\n",
      "Coefficient statistics:\n",
      "  Matrix range     [1e-01, 8e+01]\n",
      "  Objective range  [5e+00, 2e+02]\n",
      "  Bounds range     [0e+00, 0e+00]\n",
      "  RHS range        [1e+00, 1e+02]\n",
      "Presolve removed 197160 rows and 83277 columns\n",
      "Presolve time: 0.83s\n",
      "Presolved: 14700 rows, 13410 columns, 82056 nonzeros\n",
      "Variable types: 0 continuous, 13410 integer (13410 binary)\n",
      "Found heuristic solution: objective 1064.0426671\n",
      "Performing another presolve...\n",
      "Presolve removed 3823 rows and 774 columns\n",
      "Presolve time: 0.22s\n",
      "\n",
      "Root relaxation: objective 4.044906e+02, 239 iterations, 0.01 seconds (0.02 work units)\n",
      "\n",
      "    Nodes    |    Current Node    |     Objective Bounds      |     Work\n",
      " Expl Unexpl |  Obj  Depth IntInf | Incumbent    BestBd   Gap | It/Node Time\n",
      "\n",
      "     0     0  404.49057    0  110 1064.04267  404.49057  62.0%     -    1s\n",
      "     0     0  406.62260    0   53 1064.04267  406.62260  61.8%     -    1s\n",
      "H    0     0                     410.4016674  406.62260  0.92%     -    1s\n",
      "H    0     0                     410.0973691  406.62260  0.85%     -    1s\n",
      "H    0     0                     407.5101600  406.62260  0.22%     -    1s\n",
      "H    0     0                     407.0251858  406.62260  0.10%     -    1s\n",
      "     0     0 infeasible    0       407.02519  407.02519  0.00%     -    1s\n",
      "\n",
      "Cutting planes:\n",
      "  Gomory: 4\n",
      "  RLT: 1\n",
      "\n",
      "Explored 1 nodes (434 simplex iterations) in 1.23 seconds (2.44 work units)\n",
      "Thread count was 11 (of 11 available processors)\n",
      "\n",
      "Solution count 5: 407.025 407.51 410.097 ... 1064.04\n",
      "\n",
      "Optimal solution found (tolerance 1.00e-04)\n",
      "Best objective 4.070251857802e+02, best bound 4.070251857802e+02, gap 0.0000%\n",
      "\n",
      "User-callback calls 712, time in user-callback 0.00 sec\n"
     ]
    },
    {
     "data": {
      "text/plain": [
       "8-element Vector{Vector{String}}:\n",
       " [\"Calculus\", \"Differential Equations\", \"Understanding Contemporary French Politics\"]\n",
       " [\"Entrepreneurial Founding and Teams\", \"Calculus\", \"Principles of Discrete Applied Mathematics\"]\n",
       " [\"Complex Variables with Applications\", \"Linear Algebra\", \"Special Subject: Portuguese I\"]\n",
       " [\"Undergraduate Seminar in Discrete Mathematics\", \"Principles of Continuum Applied Mathematics\", \"Graduate Super-Seminar on Global South Cosmologies and Epistemologies\"]\n",
       " [\"Physical Improvisation: Bodies in Motion\", \"Talking and Dancing\", \"Philosophy and Time\"]\n",
       " [\"Current Topics in Finance\", \"Ancient Greek Philosophy and Mathematics\", \"Computers and Social Change\"]\n",
       " [\"NEET Senior Seminar: Living Machines\", \"Physical Improvisation: Scores and Structures\", \"Imagination, Computation, and Expression Studio\"]\n",
       " [\"Statistical Learning in Operations\", \"Language Disorders in Children\", \"Pioneering Technologies for Interrogating Complex Biological Systems\"]"
      ]
     },
     "metadata": {},
     "output_type": "display_data"
    }
   ],
   "source": [
    "get_course_path(\"18am\")"
   ]
  },
  {
   "cell_type": "markdown",
   "metadata": {},
   "source": [
    "# Web Stuff"
   ]
  },
  {
   "cell_type": "code",
   "execution_count": null,
   "metadata": {},
   "outputs": [
    {
     "name": "stderr",
     "output_type": "stream",
     "text": [
      "\u001b[32m\u001b[1m   Resolving\u001b[22m\u001b[39m package versions...\n",
      "\u001b[32m\u001b[1m   Installed\u001b[22m\u001b[39m XML2_jll ───────── v2.10.4+0\n",
      "\u001b[32m\u001b[1m   Installed\u001b[22m\u001b[39m StringEncodings ── v0.3.7\n",
      "\u001b[32m\u001b[1m   Installed\u001b[22m\u001b[39m LoweredCodeUtils ─ v3.1.0\n",
      "\u001b[32m\u001b[1m   Installed\u001b[22m\u001b[39m EzXML ──────────── v1.2.0\n",
      "\u001b[32m\u001b[1m   Installed\u001b[22m\u001b[39m JuliaInterpreter ─ v0.9.38\n",
      "\u001b[32m\u001b[1m   Installed\u001b[22m\u001b[39m Revise ─────────── v3.6.4\n",
      "\u001b[32m\u001b[1m   Installed\u001b[22m\u001b[39m JuliaFormatter ─── v1.0.62\n",
      "\u001b[32m\u001b[1m   Installed\u001b[22m\u001b[39m Nettle ─────────── v1.0.0\n",
      "\u001b[32m\u001b[1m   Installed\u001b[22m\u001b[39m Libiconv_jll ───── v1.17.0+1\n",
      "\u001b[32m\u001b[1m   Installed\u001b[22m\u001b[39m Nullables ──────── v1.0.0\n",
      "\u001b[32m\u001b[1m   Installed\u001b[22m\u001b[39m CommonMark ─────── v0.8.15\n",
      "\u001b[32m\u001b[1m   Installed\u001b[22m\u001b[39m Tokenize ───────── v0.5.29\n",
      "\u001b[32m\u001b[1m   Installed\u001b[22m\u001b[39m URIParser ──────── v0.4.1\n",
      "\u001b[32m\u001b[1m   Installed\u001b[22m\u001b[39m MIMEs ──────────── v0.1.4\n",
      "\u001b[32m\u001b[1m   Installed\u001b[22m\u001b[39m Inflector ──────── v1.1.0\n",
      "\u001b[32m\u001b[1m   Installed\u001b[22m\u001b[39m CodeTracking ───── v1.3.6\n",
      "\u001b[32m\u001b[1m   Installed\u001b[22m\u001b[39m Requires ───────── v1.3.0\n",
      "\u001b[32m\u001b[1m   Installed\u001b[22m\u001b[39m DotEnv ─────────── v1.0.0\n",
      "\u001b[32m\u001b[1m   Installed\u001b[22m\u001b[39m Millboard ──────── v0.2.5\n",
      "\u001b[32m\u001b[1m   Installed\u001b[22m\u001b[39m HttpCommon ─────── v0.5.0\n",
      "\u001b[32m\u001b[1m   Installed\u001b[22m\u001b[39m Glob ───────────── v1.3.1\n",
      "\u001b[32m\u001b[1m   Installed\u001b[22m\u001b[39m CSTParser ──────── v3.4.3\n",
      "\u001b[32m\u001b[1m   Installed\u001b[22m\u001b[39m Nettle_jll ─────── v3.10.0+0\n",
      "\u001b[32m\u001b[1m   Installed\u001b[22m\u001b[39m ArgParse ───────── v1.2.0\n",
      "\u001b[32m\u001b[1m   Installed\u001b[22m\u001b[39m TextWrap ───────── v1.0.2\n",
      "\u001b[32m\u001b[1m   Installed\u001b[22m\u001b[39m YAML ───────────── v0.4.12\n",
      "\u001b[32m\u001b[1m   Installed\u001b[22m\u001b[39m Genie ──────────── v5.31.1\n",
      "\u001b[32m\u001b[1m    Updating\u001b[22m\u001b[39m `~/.julia/environments/v1.11/Project.toml`\n",
      "  \u001b[90m[c43c736e] \u001b[39m\u001b[92m+ Genie v5.31.1\u001b[39m\n",
      "\u001b[32m\u001b[1m    Updating\u001b[22m\u001b[39m `~/.julia/environments/v1.11/Manifest.toml`\n",
      "  \u001b[90m[c7e460c6] \u001b[39m\u001b[92m+ ArgParse v1.2.0\u001b[39m\n",
      "  \u001b[90m[00ebfdb7] \u001b[39m\u001b[92m+ CSTParser v3.4.3\u001b[39m\n",
      "  \u001b[90m[da1fd8a2] \u001b[39m\u001b[92m+ CodeTracking v1.3.6\u001b[39m\n",
      "  \u001b[90m[a80b9123] \u001b[39m\u001b[92m+ CommonMark v0.8.15\u001b[39m\n",
      "  \u001b[90m[4dc1fcf4] \u001b[39m\u001b[92m+ DotEnv v1.0.0\u001b[39m\n",
      "  \u001b[90m[8f5d6c58] \u001b[39m\u001b[92m+ EzXML v1.2.0\u001b[39m\n",
      "  \u001b[90m[c43c736e] \u001b[39m\u001b[92m+ Genie v5.31.1\u001b[39m\n",
      "  \u001b[90m[c27321d9] \u001b[39m\u001b[92m+ Glob v1.3.1\u001b[39m\n",
      "  \u001b[90m[77172c1b] \u001b[39m\u001b[92m+ HttpCommon v0.5.0\u001b[39m\n",
      "  \u001b[90m[6d011eab] \u001b[39m\u001b[92m+ Inflector v1.1.0\u001b[39m\n",
      "  \u001b[90m[98e50ef6] \u001b[39m\u001b[92m+ JuliaFormatter v1.0.62\u001b[39m\n",
      "  \u001b[90m[aa1ae85d] \u001b[39m\u001b[92m+ JuliaInterpreter v0.9.38\u001b[39m\n",
      "  \u001b[90m[6f1432cf] \u001b[39m\u001b[92m+ LoweredCodeUtils v3.1.0\u001b[39m\n",
      "\u001b[33m⌅\u001b[39m \u001b[90m[6c6e2e6c] \u001b[39m\u001b[92m+ MIMEs v0.1.4\u001b[39m\n",
      "  \u001b[90m[39ec1447] \u001b[39m\u001b[92m+ Millboard v0.2.5\u001b[39m\n",
      "  \u001b[90m[49dea1ee] \u001b[39m\u001b[92m+ Nettle v1.0.0\u001b[39m\n",
      "  \u001b[90m[4d1e1d77] \u001b[39m\u001b[92m+ Nullables v1.0.0\u001b[39m\n",
      "  \u001b[90m[ae029012] \u001b[39m\u001b[92m+ Requires v1.3.0\u001b[39m\n",
      "  \u001b[90m[295af30f] \u001b[39m\u001b[92m+ Revise v3.6.4\u001b[39m\n",
      "  \u001b[90m[69024149] \u001b[39m\u001b[92m+ StringEncodings v0.3.7\u001b[39m\n",
      "  \u001b[90m[b718987f] \u001b[39m\u001b[92m+ TextWrap v1.0.2\u001b[39m\n",
      "  \u001b[90m[0796e94c] \u001b[39m\u001b[92m+ Tokenize v0.5.29\u001b[39m\n",
      "  \u001b[90m[30578b45] \u001b[39m\u001b[92m+ URIParser v0.4.1\u001b[39m\n",
      "  \u001b[90m[ddb6d928] \u001b[39m\u001b[92m+ YAML v0.4.12\u001b[39m\n",
      "  \u001b[90m[94ce4f54] \u001b[39m\u001b[92m+ Libiconv_jll v1.17.0+1\u001b[39m\n",
      "  \u001b[90m[4c82536e] \u001b[39m\u001b[92m+ Nettle_jll v3.10.0+0\u001b[39m\n",
      "\u001b[33m⌅\u001b[39m \u001b[90m[02c8fc9c] \u001b[39m\u001b[92m+ XML2_jll v2.10.4+0\u001b[39m\n",
      "  \u001b[90m[8ba89e20] \u001b[39m\u001b[92m+ Distributed v1.11.0\u001b[39m\n",
      "  \u001b[90m[3fa0cd96] \u001b[39m\u001b[92m+ REPL v1.11.0\u001b[39m\n",
      "  \u001b[90m[f489334b] \u001b[39m\u001b[92m+ StyledStrings v1.11.0\u001b[39m\n",
      "  \u001b[90m[781609d7] \u001b[39m\u001b[92m+ GMP_jll v6.3.0+0\u001b[39m\n",
      "\u001b[36m\u001b[1m        Info\u001b[22m\u001b[39m Packages marked with \u001b[33m⌅\u001b[39m have new versions available but compatibility constraints restrict them from upgrading. To see why use `status --outdated -m`\n",
      "\u001b[92m\u001b[1mPrecompiling\u001b[22m\u001b[39m project...\n",
      "    559.1 ms\u001b[32m  ✓ \u001b[39m\u001b[90mTextWrap\u001b[39m\n",
      "    561.9 ms\u001b[32m  ✓ \u001b[39m\u001b[90mGlob\u001b[39m\n",
      "    561.4 ms\u001b[32m  ✓ \u001b[39m\u001b[90mNullables\u001b[39m\n",
      "   1046.4 ms\u001b[32m  ✓ \u001b[39m\u001b[90mMillboard\u001b[39m\n",
      "    872.4 ms\u001b[32m  ✓ \u001b[39m\u001b[90mURIParser\u001b[39m\n",
      "    322.7 ms\u001b[32m  ✓ \u001b[39m\u001b[90mInflector\u001b[39m\n",
      "    394.5 ms\u001b[32m  ✓ \u001b[39m\u001b[90mRequires\u001b[39m\n",
      "    673.7 ms\u001b[32m  ✓ \u001b[39m\u001b[90mCodeTracking\u001b[39m\n",
      "    428.1 ms\u001b[32m  ✓ \u001b[39m\u001b[90mLibiconv_jll\u001b[39m\n",
      "    960.1 ms\u001b[32m  ✓ \u001b[39m\u001b[90mMIMEs\u001b[39m\n",
      "    512.9 ms\u001b[32m  ✓ \u001b[39m\u001b[90mNettle_jll\u001b[39m\n",
      "   2182.8 ms\u001b[32m  ✓ \u001b[39m\u001b[90mTokenize\u001b[39m\n",
      "    916.5 ms\u001b[32m  ✓ \u001b[39m\u001b[90mArgParse\u001b[39m\n",
      "    999.3 ms\u001b[32m  ✓ \u001b[39m\u001b[90mHttpCommon\u001b[39m\n",
      "   1747.6 ms\u001b[32m  ✓ \u001b[39m\u001b[90mDotEnv\u001b[39m\n",
      "    615.5 ms\u001b[32m  ✓ \u001b[39m\u001b[90mXML2_jll\u001b[39m\n",
      "    880.2 ms\u001b[32m  ✓ \u001b[39m\u001b[90mStringEncodings\u001b[39m\n",
      "   1461.9 ms\u001b[32m  ✓ \u001b[39m\u001b[90mNettle\u001b[39m\n",
      "   1229.0 ms\u001b[32m  ✓ \u001b[39m\u001b[90mEzXML\u001b[39m\n",
      "   1222.9 ms\u001b[32m  ✓ \u001b[39m\u001b[90mYAML\u001b[39m\n",
      "   6077.0 ms\u001b[32m  ✓ \u001b[39m\u001b[90mCommonMark\u001b[39m\n",
      "   4398.8 ms\u001b[32m  ✓ \u001b[39m\u001b[90mCSTParser\u001b[39m\n",
      "   5406.9 ms\u001b[32m  ✓ \u001b[39m\u001b[90mJuliaInterpreter\u001b[39m\n",
      "   4650.5 ms\u001b[32m  ✓ \u001b[39m\u001b[90mLoweredCodeUtils\u001b[39m\n"
     ]
    }
   ],
   "source": [
    "Pkg.add(\"Genie\")"
   ]
  },
  {
   "cell_type": "code",
   "execution_count": null,
   "metadata": {},
   "outputs": [],
   "source": [
    "using Genie, Genie.Renderer.Html, Genie.Requests\n",
    "\n",
    "form = \"\"\"\n",
    "<form action=\"/\" method=\"POST\" enctype=\"multipart/form-data\">\n",
    "  <input type=\"text\" name=\"name\" value=\"\" placeholder=\"What's your name?\" />\n",
    "  <input type=\"submit\" value=\"Greet\" />\n",
    "</form>\n",
    "\"\"\"\n",
    "\n",
    "route(\"/\") do\n",
    "  html(form)\n",
    "end\n",
    "\n",
    "route(\"/\", method = POST) do\n",
    "  \"Hello $(postpayload(:name, \"Anon\"))\"\n",
    "end\n",
    "\n",
    "up()"
   ]
  }
 ],
 "metadata": {
  "kernelspec": {
   "display_name": "Julia 1.11.2",
   "language": "julia",
   "name": "julia-1.11"
  },
  "language_info": {
   "file_extension": ".jl",
   "mimetype": "application/julia",
   "name": "julia",
   "version": "1.11.2"
  }
 },
 "nbformat": 4,
 "nbformat_minor": 2
}
